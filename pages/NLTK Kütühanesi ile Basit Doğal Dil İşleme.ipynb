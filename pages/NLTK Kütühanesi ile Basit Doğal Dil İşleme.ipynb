{
 "cells": [
  {
   "cell_type": "markdown",
   "metadata": {},
   "source": [
    "<h2 align=\"center\">DOĞAL DİL İŞLEME (NLP)</h2>"
   ]
  },
  {
   "cell_type": "markdown",
   "metadata": {},
   "source": [
    "Doğal dil işlemeyi Python'da yer alan <b>NLTK (Natural Language Tool Kit) Kütüphanesi</b> yardımıyla gerçekleştirmekteyiz.\n",
    "Bunun için öncelikle sistemimize ntlk kütüphanesini indirmeliyiz. Ben, işlemlerimi jupyter notebook üzerinden \n",
    "gerçekleştirdiğimden ötürü bu kütüphanenin indirilmesini terminal üzerinden gerçekleştirdim."
   ]
  },
  {
   "cell_type": "markdown",
   "metadata": {},
   "source": [
    "<h3><ins>NTLK Kütüphanesi Nasıl İndirilir?</ins></h3>"
   ]
  },
  {
   "cell_type": "markdown",
   "metadata": {},
   "source": [
    "<ul>\n",
    "\n",
    "<li>Öncelikle bilgisayarınızda python'ın yüklediğiniz klasörün içine girin.</li>\n",
    "<li>Daha sonra <b>Scripts</b> adlı klasöre tıklayınız.</li>\n",
    "<li>Git Bash terminalini burada çalıştırınız.</li>\n",
    "<li>Daha sonra <code>pip3 install ntlk</code> komut satırını terminale yazınız</li>\n",
    "<li>Eğer işlemleriniz doğru ise <i>Successfully installed click-7.1.2 joblib-0.16.0 nltk-3.5 regex-2020.7.14 tqdm-4.48.2\n",
    "</i> yazısını terminalizden görünteleyebilirsiniz</li>\n",
    "\n",
    "\n",
    "</ul>"
   ]
  },
  {
   "cell_type": "markdown",
   "metadata": {},
   "source": [
    "    Tüm adımları aşağıdaki görseli inceleyerek gerçekleştirebilirsiniz !"
   ]
  },
  {
   "cell_type": "markdown",
   "metadata": {},
   "source": [
    "![](/images/nltk-indirmek.jpg)"
   ]
  },
  {
   "cell_type": "code",
   "execution_count": 2,
   "metadata": {},
   "outputs": [
    {
     "name": "stdout",
     "output_type": "stream",
     "text": [
      "showing info https://raw.githubusercontent.com/nltk/nltk_data/gh-pages/index.xml\n",
      "*** Introductory Examples for the NLTK Book ***\n",
      "Loading text1, ..., text9 and sent1, ..., sent9\n",
      "Type the name of the text or sentence to view it.\n",
      "Type: 'texts()' or 'sents()' to list the materials.\n",
      "text1: Moby Dick by Herman Melville 1851\n",
      "text2: Sense and Sensibility by Jane Austen 1811\n",
      "text3: The Book of Genesis\n",
      "text4: Inaugural Address Corpus\n",
      "text5: Chat Corpus\n",
      "text6: Monty Python and the Holy Grail\n",
      "text7: Wall Street Journal\n",
      "text8: Personals Corpus\n",
      "text9: The Man Who Was Thursday by G . K . Chesterton 1908\n"
     ]
    }
   ],
   "source": [
    "import nltk\n",
    "nltk.download()\n",
    "from nltk.book import *\n"
   ]
  },
  {
   "cell_type": "markdown",
   "metadata": {},
   "source": [
    "<h3><ins>NLTK Paketlerinin İndirilmesi</ins></h3>"
   ]
  },
  {
   "cell_type": "markdown",
   "metadata": {},
   "source": [
    "Yukarıda yazan cümlelerin otomatik olarak çalışma kağıdına gelmesi için <code>nltk.download()</code> kodunun çalıştırılması\n",
    "gerekmektedir. Bu kod ile bilgisayarınıza aşağıdaki gibi <b>NLTK Downloader</b> uygulaması açılacaktır."
   ]
  },
  {
   "cell_type": "markdown",
   "metadata": {},
   "source": [
    "![](/images/nltk-downloader.jpg)"
   ]
  },
  {
   "cell_type": "markdown",
   "metadata": {},
   "source": [
    "* Yukarıdaki ekrandan <b>all seçeneğine</b> tıklayın. Bu paketler ile birlikte text corpora, wordnet gibi birçok paket \n",
    "bilgisayarınıza kurulmuş olacak."
   ]
  },
  {
   "cell_type": "markdown",
   "metadata": {},
   "source": [
    "* Tüm işlem tamamlandığında aşağıdaki gibi bir ekran karşınıza gelecektir."
   ]
  },
  {
   "cell_type": "markdown",
   "metadata": {},
   "source": [
    "![](/images/all-packages.jpg)"
   ]
  },
  {
   "cell_type": "markdown",
   "metadata": {},
   "source": [
    "* Bu adımdan sonra **jupyter notebook'unuzu** açın.Örnek textleriniz ekrana geldiğini göreceksiniz. İşlemlerinizi yapmaya devam edebilirsiniz"
   ]
  },
  {
   "cell_type": "markdown",
   "metadata": {},
   "source": [
    "<h2 align=\"center\">NTLK Kütüphanesi ile İşlemler</h2>"
   ]
  },
  {
   "cell_type": "code",
   "execution_count": 3,
   "metadata": {},
   "outputs": [
    {
     "data": {
      "text/plain": [
       "<Text: Wall Street Journal>"
      ]
     },
     "execution_count": 3,
     "metadata": {},
     "output_type": "execute_result"
    }
   ],
   "source": [
    "text7 #text7'yi goruntule"
   ]
  },
  {
   "cell_type": "code",
   "execution_count": 4,
   "metadata": {},
   "outputs": [
    {
     "data": {
      "text/plain": [
       "['Pierre',\n",
       " 'Vinken',\n",
       " ',',\n",
       " '61',\n",
       " 'years',\n",
       " 'old',\n",
       " ',',\n",
       " 'will',\n",
       " 'join',\n",
       " 'the',\n",
       " 'board',\n",
       " 'as',\n",
       " 'a',\n",
       " 'nonexecutive',\n",
       " 'director',\n",
       " 'Nov.',\n",
       " '29',\n",
       " '.']"
      ]
     },
     "execution_count": 4,
     "metadata": {},
     "output_type": "execute_result"
    }
   ],
   "source": [
    "sent7 #cumleyi goruntule"
   ]
  },
  {
   "cell_type": "code",
   "execution_count": 5,
   "metadata": {},
   "outputs": [
    {
     "data": {
      "text/plain": [
       "18"
      ]
     },
     "execution_count": 5,
     "metadata": {},
     "output_type": "execute_result"
    }
   ],
   "source": [
    "len(sent7) #kelime sayisini bul"
   ]
  },
  {
   "cell_type": "code",
   "execution_count": 6,
   "metadata": {},
   "outputs": [
    {
     "data": {
      "text/plain": [
       "100676"
      ]
     },
     "execution_count": 6,
     "metadata": {},
     "output_type": "execute_result"
    }
   ],
   "source": [
    "len(text7) #text7'deki karakter sayisini bul"
   ]
  },
  {
   "cell_type": "code",
   "execution_count": 7,
   "metadata": {},
   "outputs": [
    {
     "data": {
      "text/plain": [
       "12408"
      ]
     },
     "execution_count": 7,
     "metadata": {},
     "output_type": "execute_result"
    }
   ],
   "source": [
    "len(set(text7)) #text7'deki unique degerlerin karakter sayisini bul"
   ]
  },
  {
   "cell_type": "code",
   "execution_count": 8,
   "metadata": {},
   "outputs": [
    {
     "data": {
      "text/plain": [
       "['Donuts',\n",
       " 'shot',\n",
       " 'Bunny',\n",
       " 'keyboards',\n",
       " 'Fears',\n",
       " 'Labor',\n",
       " 'sweet',\n",
       " 'fellow',\n",
       " 'foundering',\n",
       " 'quantitive']"
      ]
     },
     "execution_count": 8,
     "metadata": {},
     "output_type": "execute_result"
    }
   ],
   "source": [
    "list(set(text7))[:10] #text7'deki ilk 10 unique kelimeyi listele"
   ]
  },
  {
   "cell_type": "markdown",
   "metadata": {},
   "source": [
    "<h3><ins>Kelimelerin Frekanslarını (Sıklıklarını) Bulma</ins></h3>"
   ]
  },
  {
   "cell_type": "markdown",
   "metadata": {},
   "source": [
    "Kelimelerin frekanslarını hesaplamak için NLTK kütüphanesinde yer alan <b>FreqDist</b> metodunu kullanırız"
   ]
  },
  {
   "cell_type": "code",
   "execution_count": 9,
   "metadata": {},
   "outputs": [
    {
     "data": {
      "text/plain": [
       "FreqDist({',': 4885, 'the': 4045, '.': 3828, 'of': 2319, 'to': 2164, 'a': 1878, 'in': 1572, 'and': 1511, '*-1': 1123, '0': 1099, ...})"
      ]
     },
     "execution_count": 9,
     "metadata": {},
     "output_type": "execute_result"
    }
   ],
   "source": [
    "dist = FreqDist(text7) #text7 icerisindeki kelimelerin frekanslarını hesapla\n",
    "dist"
   ]
  },
  {
   "cell_type": "markdown",
   "metadata": {},
   "source": [
    "<i>Yukarıda gördüğünüz örneğe göre;</i>"
   ]
  },
  {
   "cell_type": "markdown",
   "metadata": {},
   "source": [
    "\n",
    "\n",
    "<li>4885 adet ,</li>\n",
    "<li>4045 adet the</li>\n",
    "<li>3828 adet .</li>\n",
    "<li>2319 adet of</li>\n",
    "<li>2164 adet to</li>\n",
    "<li>1878 adet a</li>\n",
    "<li>1572 adet in</li>\n",
    "<li>1511 adet and kullanılmıştır.</li> "
   ]
  },
  {
   "cell_type": "code",
   "execution_count": 11,
   "metadata": {},
   "outputs": [
    {
     "data": {
      "text/plain": [
       "dict_keys(['Pierre', 'Vinken', ',', '61', 'years', 'old', 'will', 'join', 'the', 'board', 'as', 'a', 'nonexecutive', 'director', 'Nov.', '29', '.', 'Mr.', 'is', 'chairman', 'of', 'Elsevier', 'N.V.', 'Dutch', 'publishing', 'group', 'Rudolph', 'Agnew', '55', 'and', 'former', 'Consolidated', 'Gold', 'Fields', 'PLC', 'was', 'named', '*-1', 'this', 'British', 'industrial', 'conglomerate', 'A', 'form', 'asbestos', 'once', 'used', '*', 'to', 'make', 'Kent', 'cigarette', 'filters', 'has', 'caused', 'high', 'percentage', 'cancer', 'deaths', 'among', 'workers', 'exposed', 'it', 'more', 'than', '30', 'ago', 'researchers', 'reported', '0', '*T*-1', 'The', 'fiber', 'crocidolite', 'unusually', 'resilient', 'enters', 'lungs', 'with', 'even', 'brief', 'exposures', 'causing', 'symptoms', 'that', 'show', 'up', 'decades', 'later', 'said', '*T*-2', 'Lorillard', 'Inc.', 'unit', 'New', 'York-based', 'Loews', 'Corp.', 'makes', 'cigarettes', 'stopped', 'using', 'in', 'its', 'Micronite', '1956', 'Although', 'preliminary', 'findings', 'were', '*-2', 'year', 'latest', 'results', 'appear', 'today', \"'s\", 'England', 'Journal', 'Medicine', 'forum', 'likely', 'bring', 'new', 'attention', 'problem', 'spokewoman', '``', 'This', 'an', 'story', 'We', \"'re\", 'talking', 'about', 'before', 'anyone', 'heard', 'having', 'any', 'questionable', 'properties', 'There', 'no', 'our', 'products', 'now', \"''\", 'Neither', 'nor', 'who', '*T*-3', 'studied', 'aware', 'research', 'on', 'smokers', 'have', 'useful', 'information', 'whether', 'users', 'are', 'at', 'risk', 'James', 'A.', 'Talcott', 'Boston', 'Dana-Farber', 'Cancer', 'Institute', 'Dr.', 'led', 'team', 'from', 'National', 'medical', 'schools', 'Harvard', 'University', 'spokeswoman', 'very', 'modest', 'amounts', 'making', 'paper', 'for', 'early', '1950s', 'replaced', 'different', 'type', 'filter', 'From', '1953', '1955', '9.8', 'billion', 'sold', '*-3', 'company', 'Among', '33', 'men', '*T*-4', 'worked', 'closely', 'substance', '28', '*ICH*-1', 'died', '--', 'three', 'times', 'expected', 'number', 'Four', 'five', 'surviving', 'asbestos-related', 'diseases', 'including', 'recently', 'diagnosed', 'total', '18', 'malignant', 'mesothelioma', 'lung', 'asbestosis', 'far', 'higher', '*?*', 'morbidity', 'rate', 'striking', 'finding', 'those', 'us', '*T*-5', 'study', 'West', 'Groton', 'Mass.', 'factory', 'appears', 'be', 'highest', 'Western', 'industrialized', 'countries', 'he', 'plant', 'which', 'owned', '*-4', 'by', 'Hollingsworth', '&', 'Vose', 'Co.', 'under', 'contract', '*ICH*-2', 'probably', 'support', '*T*-6', 'argue', 'U.S.', 'should', 'regulate', 'class', 'stringently', 'common', 'kind', 'chrysotile', 'found', 'most', 'other', 'buildings', 'one', 'few', 'nations', '*T*-7', 'does', \"n't\", 'standard', 'regulation', 'smooth', 'needle-like', 'fibers', 'such', 'classified', '*-5', 'amphobiles', 'according', 'Brooke', 'T.', 'Mossman', 'professor', 'pathlogy', 'Vermont', 'College', 'More', 'curly', 'easily', 'rejected', 'body', 'explained', 'In', 'July', 'Environmental', 'Protection', 'Agency', 'imposed', 'gradual', 'ban', 'virtually', 'all', 'uses', 'By', '1997', 'almost', 'remaining', 'cancer-causing', 'outlawed', '*-6', 'About', '160', '*T*-8', 'made', '*-7', 'Areas', 'particularly', 'dusty', 'where', '*-8', 'Workers', 'dumped', 'large', 'burlap', 'sacks', 'imported', 'material', 'into', 'huge', 'bin', 'poured', 'cotton', 'acetate', 'mechanically', 'mixed', 'dry', 'process', 'described', 'clouds', 'blue', 'dust', 'hung', 'over', 'parts', 'though', 'exhaust', 'fans', 'ventilated', 'area', 'question', 'some', 'managers', 'contracted', 'Darrell', 'Phillips', 'vice', 'president', 'human', 'resources', 'But', 'you', 'recognize', 'these', 'events', 'took', 'place', '35', 'It', 'bearing', 'work', 'force', 'Yields', 'money-market', 'mutual', 'funds', 'continued', 'slide', 'amid', 'signs', 'portfolio', 'expect', 'further', 'declines', 'interest', 'rates', 'average', 'seven-day', 'compound', 'yield', '400', 'taxable', 'tracked', 'IBC', 'Money', 'Fund', 'Report', 'eased', 'fraction', 'point', '8.45', '%', '8.47', 'week', 'ended', 'Tuesday', 'Compound', 'yields', 'assume', 'reinvestment', 'dividends', 'current', 'continues', 'Average', 'maturity', \"'\", 'investments', 'lengthened', 'day', '41', 'days', 'longest', 'since', 'August', 'Donoghue', 'Longer', 'maturities', 'thought', 'indicate', 'declining', 'because', 'they', 'permit', 'retain', 'relatively', 'longer', 'period', 'Shorter', 'considered', '*-9', 'sign', 'rising', 'can', 'capture', 'sooner', 'open', 'only', 'institutions', 'stronger', 'indicator', 'watch', 'market', 'reached', 'Nevertheless', 'Brenda', 'Malizia', 'Negus', 'editor', 'may', 'blip', 'again', 'down', 'recent', 'rises', 'short-term', 'six-month', 'Treasury', 'bills', 'Monday', 'auction', 'example', 'rose', '8.04', '7.90', 'Despite', 'investors', 'continue', 'pour', 'cash', 'money', 'Assets', 'grew', '$', '1.5', '*U*', 'during', '352.7', 'Typically', 'money-fund', 'beat', 'comparable', 'vary', 'go', 'after', 'top', 'currently', 'yielding', 'well', '9', 'Dreyfus', 'World-Wide', 'Dollar', 'top-yielding', 'fund', 'had', '9.37', '9.45', 'earlier', 'invests', 'heavily', 'dollar-denominated', 'securities', 'overseas', 'waiving', 'management', 'fees', '*T*-9', 'boosts', 'simple', '8.12', '8.14', '30-day', 'fell', '8.19', '8.22', ';', 'slid', '8.53', '8.56', 'J.P.', 'Bolduc', 'W.R.', 'Grace', '*T*-10', 'holds', '83.4', 'energy-services', 'elected', '*-10', 'He', 'succeeds', 'Terrence', 'D.', 'Daniels', 'formerly', '*T*-11', 'resigned', 'Energy', 'seven', 'seats', 'Pacific', 'First', 'Financial', 'shareholders', 'approved', 'acquisition', 'Royal', 'Trustco', 'Ltd.', 'Toronto', '27', 'share', 'or', '212', 'million', 'thrift', 'holding', 'expects', 'obtain', 'regulatory', 'approval', 'complete', 'transaction', 'year-end', 'McDermott', 'International', 'Babcock', 'Wilcox', 'completed', 'sale', 'Bailey', 'Controls', 'Operations', 'Finmeccanica', 'S.p', '295', 'Italian', 'state-owned', 'interests', 'mechanical', 'engineering', 'industry', 'based', 'Wickliffe', 'Ohio', 'computerized', 'controls', 'systems', 'employs', '2,700', 'people', 'annual', 'revenue', '370', 'federal', 'government', 'suspended', 'sales', 'savings', 'bonds', 'Congress', 'lifted', 'ceiling', 'debt', 'Until', 'acts', 'authority', 'issue', 'obligations', 'borrowing', 'dropped', 'midnight', '2.80', 'trillion', '2.87', 'Legislation', 'lift', 'ensnarled', '*-11', 'fight', 'cutting', 'capital-gains', 'taxes', 'House', 'voted', 'raise', '3.1', 'but', 'Senate', 'act', 'until', 'next', 'earliest', 'default', 'if', 'then', 'Clark', 'J.', 'Vitulli', '*-12', 'senior', '*RNR*-1', 'general', 'manager', 'marketing', 'arm', 'Japanese', 'auto', 'maker', 'Mazda', 'Motor', 'Corp', 'position', 'oversee', 'service', 'operations', 'Previously', '43', 'Chrysler', 'division', 'been', 'executive', '20', 'When', 'time', 'their', 'biannual', 'powwow', 'nation', 'manufacturing', 'titans', 'typically', 'jet', 'off', 'sunny', 'confines', 'resort', 'towns', 'like', 'Boca', 'Raton', 'Hot', 'Springs', 'Not', 'Association', 'Manufacturers', 'settled', 'Hoosier', 'capital', 'Indianapolis', 'fall', 'meeting', 'And', 'city', 'decided', 'treat', 'guests', 'royalty', 'rock', 'stars', 'owners', 'idea', 'course', ':', 'prove', '125', 'corporate', 'decision', 'makers', 'buckle', 'Rust', 'Belt', 'so', 'rusty', 'good', 'expand', 'On', 'receiving', 'end', 'message', 'officials', 'giants', 'Du', 'Pont', 'Maytag', 'along', 'lesser', 'knowns', 'Trojan', 'Steel', 'Valley', 'Queen', 'Cheese', 'Factory', 'For', 'starters', 'executives', 'joined', 'Mayor', 'William', 'H.', 'Hudnut', 'III', 'evening', 'Symphony', 'Orchestra', 'guest', 'pianist-comedian', 'Victor', 'Borge', 'Champagne', 'dessert', 'followed', 'morning', 'police', 'escort', 'busloads', 'wives', 'raced', 'Speedway', 'unimpeded', 'traffic', 'red', 'lights', 'governor', 'could', 'lieutenant', 'welcomed', 'special', 'buffet', 'breakfast', 'held', 'museum', 'food', 'drinks', 'banned', 'everyday', 'visitors', 'Then', 'honor', 'speedway', 'hauled', 'out', 'four', 'drivers', 'crews', 'official', '500', 'announcer', '10-lap', 'exhibition', 'race', 'After', 'Fortune', 'drooled', 'schoolboys', 'cars', 'No', 'dummies', 'pointed', 'still', 'space', 'machines', 'another', 'sponsor', 'name', 'two', 'Back', 'downtown', 'execs', 'squeezed', 'meetings', 'hotel', 'boarding', 'buses', 'dinner', 'dancing', 'block', 'away', 'Under', 'moons', 'renovated', 'Indiana', 'Roof', 'ballroom', 'nine', 'hottest', 'chefs', 'town', 'fed', 'them', 'duckling', 'mousseline', 'lobster', 'consomme', 'veal', 'mignon', 'chocolate', 'terrine', 'raspberry', 'sauce', 'Knowing', 'tasty', 'free', 'meal', 'when', 'eat', 'gave', 'standing', 'ovation', 'CEOs', 'say', 'red-carpet', 'treatment', 'tempts', 'return', 'heartland', 'future', 'looking', 'forward', 'winter', 'February', 'South', 'Korea', 'registered', 'trade', 'deficit', '101', 'October', 'reflecting', 'country', 'economic', 'sluggishness', 'figures', 'released', 'Wednesday', 'Preliminary', 'tallies', 'Trade', 'Industry', 'Ministry', 'showed', 'fifth', 'monthly', 'setback', 'casting', 'cloud', 'export-oriented', 'economy', 'Exports', 'stood', '5.29', 'mere', '0.7', 'increase', 'while', 'imports', 'increased', 'sharply', '5.39', 'last', 'boom', '*T*-12', 'began', '1986', 'prolonged', 'labor', 'disputes', 'conflicts', 'sluggish', 'exports', 'Government', 'would', 'remain', 'target', '68', 'gloomy', 'forecast', 'recorded', 'surplus', '71', 'January', 'accumulated', '4', 'same', '50.45', 'Imports', '50.38', '19', 'Newsweek', 'trying', 'keep', 'pace', 'rival', 'Time', 'magazine', 'announced', 'advertising', '1990', 'introduce', 'incentive', 'plan', 'advertisers', 'ad', 'Washington', 'Post', 'second', 'offered', 'Plans', '*T*-13', 'give', 'discounts', 'maintaining', 'increasing', 'spending', 'become', 'permanent', 'fixtures', 'news', 'weeklies', 'underscore', 'fierce', 'competition', 'between', 'Warner', 'Mortimer', 'B.', 'Zuckerman', 'News', 'World', 'Alan', 'Spoon', '5', 'full', 'four-color', 'page', 'cost', '100,980', 'mid-October', 'lowered', 'guaranteed', 'circulation', 'base', 'not', 'lower', 'effectively', '7.5', 'per', 'subscriber', 'costs', '120,000', 'yet', 'announce', 'Circulation', 'Credit', 'Plan', 'awards', 'credits', 'renewal', 'reward', 'bonuses', 'meet', 'exceed', '1989', 'long', 'spent', '325,000', '340,000', 'attempt', 'shore', 'decline', 'pages', 'first', 'months', 'totaled', '1,620', 'drop', '3.2', 'Publishers', 'Information', 'Bureau', 'What', '*T*-14', 'matters', 'what', 'paying', '*T*-15', 'department', 'we', 'doing', 'fine', 'Both', 'gaining', 'without', 'heavy', 'use', 'electronic', 'giveaways', 'subscribers', 'telephones', 'watches', 'However', 'none', 'big', 'gains', 'According', 'Audit', 'Circulations', 'largest', 'newsweekly', '4,393,237', 'decrease', '7.3', 'six', '3,288,453', 'flat', '2,303,328', '2.6', 'Electric', 'System', 'bowed', 'bidding', 'Public', 'Service', 'Hampshire', 'saying', 'risks', 'too', '*RNR*-4', 'potential', 'payoff', 'justify', 'offer', 'move', 'leaves', 'United', 'Illuminating', 'Northeast', 'Utilities', 'outside', 'bidders', 'PS', 'also', 'proposed', 'internal', 'reorganization', 'Chapter', '11', 'bankruptcy', 'proceedings', 'independent', 'Westborough', '2', 'acquire', 'below', '2.29', 'value', 'places', 'bid', '2.25', 'says', 'worth', '*-13', 'Haven', 'Conn.', '*-14', 'Hartford', 'Conn', 'Manchester', 'N.H.', 'values', '2.2', 'John', 'Rowe', 'chief', 'officer', 'equity', 'suffer', 'forecasts', 'related', 'growth', 'electricity', 'demand', 'improved', 'operating', 'efficiencies', 'did', 'come', 'true', 'evaluated', 'raising', 'seemed', 'substantial', 'persistent', 'rewards', 'way', 'That', 'got', 'hard', 'take', 'added', 'noted', 'political', 'concerns', 'worried', 'matter', '*T*-16', 'owns', 'emerges', 'attracts', '...', 'just', 'factors', '*T*-17', 'withdraw', 'Wilbur', 'Ross', 'Jr.', 'Rothschild', 'financial', 'adviser', 'troubled', 'holders', 'withdrawal', 'might', 'speed', 'fact', 'increases', '4.8', 'against', 'around', '5.5', 'complicated', 'negotiations', 'state', 'asserted', 'Now', 'field', 'less', 'cluttered', 'Separately', 'Federal', 'Regulatory', 'Commission', 'turned', 'request', 'seeking', 'possible', 'purchase', 'refile', 'hopes', 'expedited', 'review', 'FERC', 'summer', 'court', 'shares', 'closed', 'yesterday', '3.75', '25', 'cents', 'York', 'Stock', 'Exchange', 'composite', 'trading', 'Norman', 'Ricken', '52', 'Toys', 'R', 'Us', 'Frederick', 'Deane', '63', 'Signet', 'Banking', '*-15', 'directors', 'consumer', 'electronics', 'appliances', 'retailing', 'chain', 'They', 'succeed', 'Daniel', 'M.', 'Rexinger', 'retired', 'Circuit', 'City', 'Robert', 'R.', 'Glauber', 'undersecretary', '12-member', 'Commonwealth', 'Edison', 'ordered', 'refund', '250', 'ratepayers', 'illegal', 'collected', 'overruns', 'nuclear', 'power', 'previously', 'Illinois', 'Commerce', 'groups', 'ever', 'required', 'local', 'utility', 'State', 'Judge', 'Richard', 'Curry', 'refunds', '45', '50', 'each', 'customers', '*T*-18', 'received', 'electric', 'April', '*T*-19', 'moved', 'begin', 'Feb.', '1', 'entertain', 'appeals', 'attempts', 'his', 'order', 'pool', 'hostage', 'through', 'round', 'already', 'appealing', 'underlying', 'commission', 'considering', 'exact', 'amount', 'determined', '*-16', 'actual', 'collections', 'Dec.', '31', 'ruling', 'slash', 'earnings', '1.55', '1988', '737.5', '3.01', 'spokesman', 'tracking', 'whose', 'addresses', '*T*-20', 'changed', 'past', '3', '1\\\\/2', 'administrative', 'nightmare', '38.375', '12.5', '2.5', 'Byron', 'near', 'Rockford', 'Ill.', '*-17', '1985', 'disputed', '49', 'pay', 'courts', 'upheld', 'challenge', 'Supreme', 'Court', 'audit', 'construction', 'expenses', 'unreasonable', 'collecting', 'subject', 'ruled', '190', '195', 'refunded', 'plus', 'additional', 'calculations', 'Last', 'month', 'set', 'faces', 'court-ordered', 'summer\\\\/winter', 'differential', 'Appellate', 'estimated', '140', 'hope', 'precedent', 'case', 'involving', 'Braidwood', '245', 'rule', '72.7', 'poor', 'performance', 'LaSalle', 'I', 'Japan', 'domestic', 'trucks', '500,004', 'units', 'record', 'Automobile', 'Dealers', 'strong', 'year-to-year', '21', '12', 'September', 'setting', 'records', 'every', 'March', 'compared', 'previous', 'inched', '0.4', 'Sales', 'passenger', '22', '361,376', 'medium-sized', '*T*-21', 'benefited', 'price', 'reductions', 'arising', 'introduction', 'consumption', 'tax', 'doubled', '30,841', '13,056', 'Texas', 'Instruments', 'opened', '*ICH*-3', 'manufacture', 'control', 'devices', 'located', 'Chinchon', '60', 'miles', 'Seoul', 'help', 'diversifying', 'produce', 'motor', 'vehicles', 'household', 'survival', 'spinoff', 'Cray', 'Computer', 'fledgling', 'supercomputer', 'business', 'depend', 'creativity', 'longevity', 'designer', 'Seymour', 'development', 'initial', 'machine', 'tied', 'directly', 'balance', 'sheet', 'Documents', 'filed', 'Securities', 'pending', 'disclosed', 'Research', '100', 'financing', 'providing', 'firm', 'product-design', 'project', 'heads', 'scrapped', '*-18', 'documents', 'although', '64-year-old', 'working', 'Cray-3', 'least', 'fully', 'operational', 'prototype', 'Moreover', 'there', 'orders', 'several', 'prospects', 'While', 'many', 'anticipated', '*-19', 'Minneapolis-based', 'May', 'strings', 'attached', 'public', 'much', 'choice', 'Gregory', 'Barnum', 'interview', 'theory', 'him', '*-20', 'want', '*T*-22', 'include', 'anticipates', 'needing', 'perhaps', '120', 'beginning', 'called', 'worst-case', 'scenario', 'filing', 'details', 'stock', 'jump', '2.875', 'close', '38', 'Analysts', 'link', '98.3', 'promissory', 'note', 'presence', 'complicate', 'valuation', '*-21', 'investor', 'Gary', 'P.', 'Smaby', 'Group', 'Minneapolis', 'concept', 'You', 'either', 'believe', 'do', 'Besides', 'age', 'tricky', 'unproven', 'chip', 'technology', 'SEC', 'describe', 'chips', '*-22', 'gallium', 'arsenide', 'being', 'fragile', 'minute', 'require', 'robotic', 'handling', 'equipment', 'addition', 'contain', '16', 'processors', 'twice', 'face', 'intense', '*T*-23', 'world-wide', '*T*-24', 'roll', 'C-90', 'direct', 'competitor', '1991', 'compete', 'Business', 'Machines', 'Big', 'Three', 'Hitachi', 'NEC', 'Fujitsu', 'Ltd', 'believes', 'fewer', 'supercomputers', 'priced', '15', 'presumably', 'range', 'terms', 'stockholders', 'receive', 'own', 'distribution', 'occur', 'weeks', '*-23', 'Instead', 'companies', 'leave', 'marketplace', 'decide', 'applied', 'Nasdaq', 'calculate', 'book', '4.75', 'Along', 'transferring', '53', 'assets', 'primarily', '*T*-25', 'drain', 'Pro-forma', 'sheets', 'clearly', 'why', 'favored', 'Without', 'able', 'report', 'profit', '19.3', 'half', 'rather', '5.9', 'posted', 'hand', 'existed', 'incurred', '20.5', 'loss', '*-24', 'comment', 'Colorado', 'Colo.', 'contractor', 'arrangement', '*-25', 'Regarded', 'father', 'paid', '600,000', 'At', '*-26', '240,000', 'Messrs.', 'includes', 'Neil', 'Davenport', '47', 'Joseph', 'Blanchard', '37', 'Malcolm', 'Hammerton', '40', 'software', 'Douglas', 'Wheeland', 'hardware', 'All', 'came', '*T*-26', '241', '450', 'Stevens', '*-27', 'both', 'positions', 'Donald', 'Pardus', 'electric-utility', 'Arthur', 'Hatch', '59', '*-28', 'Eastern', 'Carney', 'Tassinari', '*-29', 'claiming', 'success', 'diplomacy', 'removed', 'Taiwan', 'Saudi', 'Arabia', 'list', 'watching', 'allegedly', 'failing', 'patents', 'copyrights', 'intellectual-property', 'rights', 'China', 'Thailand', 'India', 'Brazil', 'Mexico', 'so-called', 'priority', 'result', 'interim', 'Representative', 'Carla', 'Hills', 'law', 'accelerated', 'unfair-trade', 'investigations', 'stiff', 'sanctions', 'improve', 'protection', 'intellectual', 'property', 'spring', 'Mrs.', 'she', 'placed', 'varying', 'degrees', 'scrutiny', 'genuine', 'progress', 'touchy', 'She', 'growing', 'realization', 'world', 'denial', 'harms', 'inventiveness', '-LCB-', 'offending', '-RCB-', 'citizens', 'negotiators', 'inadequate', 'protections', 'hurting', 'themselves', 'discouraging', 'scientists', 'authors', 'deterring', 'high-technology', 'firms', 'investing', 'best', 'lauded', 'creating', 'task', 'enforcement', 'teams', 'officers', 'prosecutors', 'trained', 'pursue', 'movie', 'pirates', 'instituted', 'effective', 'search-and-seizure', 'procedures', 'aid', 'initialing', 'bilateral', 'copyright', 'agreement', 'amending', 'trademark', 'introducing', 'legislation', 'protect', 'foreign', 'producers', 'unauthorized', 'showings', 'films', 'measure', 'compel', 'Taipei', 'small', 'video-viewing', 'parlors', 'showing', 'part', 'vowed', 'enact', 'compatible', 'international', 'standards', 'apply', 'computer', 'literary', 'works', 'These', 'completely', 'hook', 'lower-priority', '*T*-27', '17', 'Those', 'Italy', 'Canada', 'Greece', 'Spain', 'concern', 'deemed', 'pose', 'less-serious', 'problems', 'American', 'patent', 'Hoffman', 'lawyer', 'specializing', 'cases', 'threat', 'retaliation', 'combined', 'recognition', 'protecting', 'prompted', 'improvements', 'tells', '*T*-28', 'efforts', 'craft', 'concerned', 'disturbing', 'developments', 'Turkey', 'continuing', 'slow', 'Malaysia', 'elaborate', 'reports', 'complained', 'videocassette', 'piracy', 'disregard', 'pharmaceutical', 'requires', 'So', 'bad', 'enough', 'merit', 'investigation', '301', 'provision', 'Argentina', 'ask', 'creditor', 'banks', 'halve', '64', 'third-highest', 'developing', 'declaration', 'Economy', 'Minister', 'Nestor', 'Rapanelli', 'believed', 'action', 'Argentine', 'stature', 'Latin', 'little', 'aspires', 'reach', 'reduction', 'external', 'Miguel', 'Alurralde', 'met', 'Assistant', 'Secretary', 'David', 'Mulford', 'negotiator', 'Carlos', 'Carballo', 'President', 'Menem', '*T*-29', 'office', '8', 'feels', 'significant', 'principal', 'solved', '*-31', 'wants', 'forgiven', '-LRB-', 'During', 'centennial', 'Wall', 'Street', 'century', '*T*-30', 'stand', 'milestones', 'history', '-RRB-', 'THREE', 'COMPUTERS', 'THAT', '*T*-31', 'CHANGED', 'personal', 'computing', 'launched', '*-32', '1977', 'Apple', 'II', 'Commodore', 'Pet', 'Tandy', 'TRS-80', 'computers', 'crude', 'television', 'sets', 'screens', 'stored', 'data', 'audiocassettes', 'major', 'advance', 'built', '*-33', 'garage', 'Stephen', 'Wozniak', 'Steven', 'Jobs', 'hobbyists', 'Homebrew', 'Club', 'affordable', '1,298', 'Crude', 'PCs', 'triggered', 'explosive', 'product', 'desktop', 'models', 'home', 'mainframe', 'unlike', 'built-from-kit', 'types', 'Altair', 'Sol', 'IMSAI', 'keyboards', 'store', 'memories', 'Current', 'faster', 'memory', 'capacity', 'greater', 'counterparts', 'pioneer', 'PC', 'contributors', 'Gates', 'Paul', 'Allen', '1975', 'developed', 'language-housekeeper', 'system', 'became', 'billionaire', 'IBM', 'adapted', 'versions', '1981', 'F.', 'Shugart', 'Seagate', 'Technology', '*T*-32', 'disk', 'drives', 'Dennis', 'Hayes', 'Dale', 'Heatherington', 'Atlanta', 'engineers', 'co-developers', 'modems', '*T*-33', 'allow', 'via', 'telephone', 'leader', 'entered', 'Today', 'shipments', 'annually', '38.3', 'F.H.', 'Faulding', 'Australian', 'pharmaceuticals', 'Moleculon', 'affiliate', 'acquired', 'Kalipharma', '23', 'Jersey-based', '*T*-34', 'sells', 'Purepac', 'label', 'voting', 'stake', 'together', 'convertible', 'preferred', 'holdings', 'gives', 'right', '70', 'Oil', 'production', 'Australia', 'Bass', 'Strait', 'fields', 'raised', '*-34', '11,000', 'barrels', '321,000', 'launch', 'Whiting', 'scheduled', 'brought', '*-35', 'Esso', 'Exxon', 'Broken', 'Hill', 'Pty.', 'operate', 'joint', 'venture', 'started', 'Output', 'gradually', 'reaches', 'reserves', 'Reserves', 'Perch', 'Dolphin', 'start', 'producing', 'Seahorse', 'Tarwhine', '*-36', '1987', 'excise', 'R.P.', 'Scherer', '10.2', 'Southern', 'Optical', 'subsidiary', 'Thomas', 'Sloan', 'Following', 'buy-out', 'Shearson', 'Lehman', 'Hutton', 'gelatin', 'capsules', 'divest', 'itself', 'certain', 'non-encapsulating', 'businesses', 'program', 'White', 'Bush', 'duty-free', '*T*-35', 'produced', 'quantities', 'Virgin', 'Islands', 'possessions', 'response', 'petition', 'Timex', 'changes', 'Generalized', 'Preferences', 'denied', '*-37', 'requested', 'covered', '58', 'tariff', 'classifications', 'grant', 'status', 'categories', 'injury', 'producer', 'seller', 'low-priced', 'battery-operated', 'assembled', 'Philippines', 'preferences', 'main', 'beneficiaries', '*T*-36', 'eligible', '37.3', 'aide', 'Magna', 'McAlpine', 'Frank', 'Stronach', 'stepping', 'turn', 'automotive-parts', 'manufacturer', 'effort', 'reduce', 'overhead', 'curb', 'satisfactory', 'level', 'achieved', 'maintained', 'Akerfeldt', 'finance', 'An', 'ambitious', 'expansion', 'left', 'excess', 'load', 'automotive', 'downturn', 'despite', 'steady', 'cut', 'quarterly', 'dividend', 'Class', 'wallowing', '52-week', '16.125', 'Canadian', 'dollars', 'US$', '13.73', '37.5', 'C$', '9.625', 'founder', 'controlling', 'shareholder', 'seek', 'unsuccessfully', 'seat', 'Parliament', 'resume', 'influential', 'role', 'running', 'throughout', 'organization', 'personally', 'restructuring', 'assisted', 'Manfred', 'Gingl', '*-38', 'consulting', 'career', 'clients', 'Lord', 'Chilver', '63-year-old', 'English', 'Clays', '*-39', 'chemical', 'nearly', 'single-handedly', 'bought', 'mortgage', 'securities-based', 'totaling', '701', 'Mortgage', 'purchases', 'mortgage-based', 'instruments', 'Fannie', 'Mae', 'O.', 'Maxwell', 'conference', '90', '*-40', 'institutional', 'rest', 'went', 'France', 'Hong', 'Kong', 'Earlier', 'snapped', 'similar', '570', 'mortgage-backed', 'put', '*-41', 'Blackstone', 'investment', 'bank', '*-42', 'jointly', 'Goldman', 'Sachs', 'Daiwa', 'Co', 'seven-year', 'offering', 'fixed-rate', 'floating-rate', 'linked', 'London', 'interbank', 'key', 'advantages', 'designed', 'eliminate', 'prepayment', '*-43', 'forces', 'redeploy', 'Second', 'channel', 'payments', 'semiannual', 'reducing', 'burden', 'addressing', 'extremely', 'attractive', 'Such', 'boosted', '900', 'outstanding', 'rapid', 'purchasers', 'buying', '2.4', 'tenth', 'issued', 'L.', 'Pate', '54-year-old', '*-44', 'oil', 'expanding', '14', 'members', 'LTV', 'judge', 'agreed', 'extend', 'steel', 'aerospace', 'energy', 'exclusive', 'file', 'Bankruptcy', 'Code', 'giving', 'creditors', 'lawsuits', 'debts', 'giant', 'Montedison', 'S.p.A.', 'Acquisition', 'indirect', '37-a-share', 'tender', 'Erbamont', 'incorporated', 'Netherlands', 'advertised', 'editions', 'expire', 'November', '72', '*-45', 'pursuant', 'gold', 'currencies', 'drawing', 'hefty', '1.82', '84.29', 'Finance', 'marks', 'sixth', 'consecutive', 'protracted', 'reflects', 'intensity', 'Bank', 'yen-support', 'intervention', 'June', 'currency', 'temporarily', 'surged', 'above', '150.00', 'yen', 'announcement', 'follows', 'sharper', '86.12', 'Pick', 'craze', 'sweeping', 'rash', 'closed-end', 'publicly', 'traded', 'portfolios', '*T*-37', 'invest', 'stocks', 'single', '24', 'regulators', 'triple', 'Charles', 'E.', 'Simon', 'Washington-based', 'turf', 'ranged', 'Chile', 'Austria', 'Portugal', 'Next', 'Philippine', 'capped', '*-46', 'visit', 'Corazon', 'Aquino', 'head', 'kicked', 'Board', 'here', 'province', '?', 'Anything', 'how', 'Guinea', 'quips', 'George', 'Foot', 'managing', 'partner', 'Newgate', 'Management', 'Associates', 'Northampton', 'Mass', 'explosion', 'mirrors', 'mania', '1920s', 'narrowly', 'focused', 'wildly', 'popular', 'oblivion', '1929', 'crash', 'Unlike', 'traditional', 'open-end', 'one-country', 'issuing', 'fixed', '*T*-38', 'surge', 'brings', '*T*-39', 'soon', 'listed', 'account', 'billions', 'People', 'claims', 'available', 'runs', 'Michael', 'Porter', 'analyst', 'Smith', 'Barney', 'Harris', 'Upham', 'Behind', 'hoopla', 'heavy-duty', 'As', 'individual', 'scrambled', 'find', 'brokers', '*T*-40', 'easy', 'sell', 'stretching', 'nets', 'wide', 'planners', 'often', 'urge', 'diversify', 'hold', 'smattering', 'emerging', 'markets', 'outpaced', 'mature', 'Country', 'get', 'taste', 'burned', 'Political', 'gyrations', 'whipsaw', 'Another', 'prices', 'tend', 'swing', 'broader', '7', 'Oct.', '13', 'instance', 'plunged', 'clobbered', '*-47', '*T*-41', 'wild', 'frenzy', 'historically', 'fat', 'premiums', 'discount', 'late', 'premium', '6', 'reason', 'Share', 'climbed', '*T*-42', '*T*-43', 'partially', 'specialists', 'European', 'skyrocketed', 'startling', 'targeted', '*-48', 'long-term', 'play', '1992', 'integration', '*T*-44', 'invested', 'jumped', \"'m\", 'alarmed', 'see', 'rich', 'valuations', 'newly', 'fattened', 'reflect', 'increasingly', 'global', 'suggests', 'Asia', 'Europe', 'foreign-stock', 'exposure', 'resistant', 'viewpoint', 'cast', 'Nonetheless', 'plenty', 'analysts', 'aghast', 'lofty', 'levels', 'buy', 'depositary', 'receipts', 'ADRs', 'represent', 'essentially', '*T*-45', 'insist', 'jumping', 'advice', 'folks', 'party', 'better', 'ready', 'quickly', 'Soviet', 'Union', 'technical', 'talks', 'repayment', 'Moscow', '188', 'pre-Communist', 'Russian', 'owed', 'Department', 'If', 'repaid', '*-49', 'clear', '*-50', 'Soviets', '*EXP*-1', 'happen', 'Coincident', 'permitted', 'branch', 'Foreign', 'Economic', 'Affairs', 'crippled', '*-51', 'unless', 'settle', 'lent', '*-52', 'short-lived', 'democratic', 'Kerensky', 'Communists', 'seized', '1917', '1934', 'Johnson', 'Debt', 'Default', 'Act', 'amended', '*EXP*-2', 'Americans', 'credit', 'Monetary', 'U.S.S.R.', 'belongs', 'neither', 'pre-1917', 'stressed', 'pre-1933', 'satisfying', 'legal', 'obstacles', 'hundreds', 'millions', 'War', 'lend-lease', 'reflection', 'leveling', 'manufactured', 'goods', 'failed', 'rise', 'Meanwhile', 'Purchasing', 'survey', 'indicated', 'Its', 'index', '47.6', '46', 'Any', 'reading', 'sector', 'generally', 'purchasing', 'however', 'Factories', 'booked', '236.74', '236.79', '59.6', 'defense', 'contractors', 'fallen', '2.1', 'separate', 'ran', '415.6', 'significantly', '415.8', 'Private', 'building', 'activity', 'adjusted', 'remove', 'effects', 'usual', 'seasonal', 'patterns', 'inflation', 'Kenneth', 'Mayland', 'economist', 'Society', 'Cleveland', 'taper', 'revive', 'residential', '*T*-46', 'pick', 'slack', 'asked', 'draw', 'blank', 'measures', 'slowly', 'payrolls', 'Reserve', 'industrial-production', 'Yet', 'economists', 'predicting', 'slip', 'recession', 'cite', 'lack', 'imbalances', '*T*-47', 'provide', 'warning', 'signals', 'Inventories', 'watched', 'clues', 'Economists', 'buildup', 'inventories', 'provoke', 'cutbacks', '*T*-48', 'lead', 'front', '0.1', 'conforms', '`', 'soft', 'landing', 'Elliott', 'Platt', 'Donaldson', 'Lufkin', 'Jenrette', 'excessive', 'slowdown', '*T*-49', 'eases', 'leading', 'nondurable', 'intended', '0.3', '109.73', 'climbing', '0.9', 'Orders', 'durable', '0.2', '127.03', '3.9', 'durable-goods', '1.6', '234.4', '5.4', 'Shipments', 'backlogs', 'unfilled', '0.5', '497.34', 'helped', 'strength', 'Excluding', 'declined', '*T*-50', 'accounts', '191.9', 'Berson', 'Bankers', 'predicted', 'eventually', 'boost', 'single-family', 'homes', 'Spending', 'private', 'nonresidential', '99.1', '4.3', '88', 'adjusting', 'change', 'contrast', 'McGraw-Hill', 'F.W.', 'Dodge', 'contracts', 'awarded', 'goverment', 'counts', '*-53', '*-54', 'renovation', 'slowing', 'signaling', 'imminent', 'Bretz', 'association', 'committee', 'materials', 'Pitney', 'Bowes', 'Stamford', 'low', '*-55', 'evidence', 'export', 'Only', 'purhasing', 'purchased', 'steeper', 'vendors', 'delivering', 'consider', 'inflationary', 'pressures', 'abating', 'suppliers', 'handle', 'delivery', 'lengthen', '*-56', 'provided', 'Each', 'indicators', 'gauges', 'difference', 'reporting', 'improvement', 'particular', 'worsening', 'polled', '73', '*T*-51', 'import', '10', 'acknowledging', 'trend', 'suspect', 'going', 'Items', 'short', 'supply', 'numbered', 'dozen', 'included', 'newcomer', 'milk', 'powder', 'odd', 'thing', 'row', 'shortage', 'nonfat', 'blamed', 'dairy', 'exceptionally', 'coupled', 'quotas', 'Pamela', 'Sebastian', 'contributed', 'article', 'Here', 'seasonally', 'manufacturers', 'Judging', 'Americana', 'Haruki', 'Murakami', 'Wild', 'Sheep', 'Chase', 'Kodansha', '320', '18.95', 'baby', 'boomers', 'sides', 'lot', 'novel', 'texture', 'entirely', 'especially', 'Characters', 'drink', 'Salty', 'Dogs', 'whistle', 'Johnny', 'Goode', 'Bugs', 'Bunny', 'reruns', 'read', 'Mickey', 'Spillane', 'talk', 'Groucho', 'Harpo', 'worry', 'careers', 'broken', 'marriages', 'desultory', 'affairs', 'reader', 'charm', 'engaging', 'recognizing', 'buttoned-down', 'society', 'contemporary', 'lore', 'refreshing', 'author', '*T*-52', 'belong', 'self-aggrandizing', 'we-Japanese', 'school', 'writers', '*T*-53', 'perpetuate', 'notion', 'unique', 'unfathomable', 'outsiders', 'carries', 'implicit', 'relations', 'think', 'nutty', 'plot', 'rooted', '*-57', 'reality', 'imaginative', 'funny', 'disaffected', 'hard-drinking', 'nearly-30', 'hero', 'snow', 'search', 'elusive', 'sheep', 'star', 'back', 'behest', 'sinister', 'erudite', 'mobster', 'Stanford', 'degree', 'tow', 'prescient', 'girlfriend', 'sassy', 'retorts', '*T*-54', 'mark', 'her', 'anything', 'docile', 'butterfly', 'meets', 'solicitous', 'Christian', 'chauffeur', '*T*-55', 'offers', 'God', 'phone', 'Man', 'sweet', 'roughhewn', 'figure', '*T*-56', 'wears', 'else', 'sheepskin', '40-year-old', 'sensation', 'Norwegian', 'Wood', 'seems', 'fluent', 'Beatles', 'lyrics', 'copies', 'published', 'youthful', 'Tokyo', 'brat', 'pack', '*T*-57', 'dominating', 'best-seller', 'charts', 'Their', 'books', 'written', 'idiomatic', 'language', 'usually', 'carry', 'dashes', 'Gotta', 'Have', 'Wa', 'Macmillan', '339', '17.95', 'baseball', 'Nipponese', 'version', 'call', 'game', 'describes', 'mirror', 'fabled', 'virtues', 'harmony', 'spirit', 'ballplayers', 'player', 'commitment', 'practice', 'image', 'important', 'batting', 'Polls', 'Giants', 'Tatsunori', 'Hara', 'humble', 'uncomplaining', 'obedient', 'soul', 'male', 'symbol', 'besuboru', 'played', 'ball', 'bat', 'unrecognizable', 'Fans', 'politely', 'foul', 'balls', 'stadium', 'ushers', 'strike', 'zone', 'expands', 'depending', 'size', 'hitter', 'ties', 'honorably', 'sidestep', 'shame', 'defeat', 'players', 'must', 'abide', 'strict', 'rules', 'conduct', 'lives', 'always', 'wear', 'road', 'amusing', 'chronicle', 'rationed', 'fare', 'enormous', 'sums', 'plate', 'run', 'Funny', 'Soho', '228', 'Katzenstein', 'petulant', 'complaint', 'impudent', 'whom', 'Sony', 'hosted', '*T*-58', 'Luce', 'Fellowship', 'regret', 'parties', 'sometimes', 'supercilious', 'vicious', 'passages', 'invades', 'mundane', 'aspects', 'regimented', 'employees', 'assigned', '*-59', 'lunch', 'partners', 'austere', 'dormitory', 'prying', 'caretaker', 'Some', 'observations', 'style', '*EXP*-3', 'salarymen', 'unproductive', 'overtime', 'sake', 'solidarity', 'hierarchical', 'assistant', 'chary', 'letting', 'young', 'employee', 'responsibility', 'enormously', 'frustrating', '*T*-59', 'science', 'raring', 'invent', 'Walkman', 'ultimately', 'lesson', 'fired', 'committed', 'social', 'crime', 'appointment', 'venerable', 'Akio', 'Morita', 'never', 'certainly', 'learned', 'something', 'Ms.', 'Kirkpatrick', 'deputy', 'editorial', 'features', 'corners', 'globe', 'becoming', 'tobacco', 'smoke', 'Singapore', 'entering', 'restaurants', 'stores', 'sports', 'centers', 'Discos', 'clubs', 'exempt', 'smoking', '*-60', 'bars', 'except', 'hours', 'bans', 'theaters', 'elevators', 'hospitals', 'fast-food', 'Siti', 'Zaharah', 'Sulaiman', 'minister', 'prime', 'No-Smoking', 'Week', 'Mara', 'Kuala', 'Lumpur', 'urged', 'on-campus', 'visiting', '26,000', 'stalls', 'posters', 'signboards', 'restricts', 'designated', 'indicates', 'consumers', 'materialistic', 'carried', 'Backer', 'Spielvogel', 'Bates', 'agency', 'colony', 'feel', 'pressured', 'surveyed', '*T*-60', 'espouse', 'identified', '*T*-61', 'one-third', 'great', 'deal', 'stress', 'Thai', 'cabinet', 'endorsed', 'Pramual', 'Sabhavasu', 'proposal', 'build', 'center', '*T*-62', '20,000', 'Bangkok', '*-61', 'Central', 'Plaza', 'Hotel', 'balked', 'conditions', 'undertaking', 'necessary', '*-62', 'Yasser', 'Arafat', 'Olympic', 'Committee', 'asking', 'Palestinian', 'Palestine', 'Liberation', 'Organization', 'WAFA', 'membership', '1979', 'renewed', 'application', 'PLO', 'organizations', 'win', 'Health', 'Tourism', 'Beijing', 'food-shop', 'mainland', 'Chinese', 'AIDS', 'sex', 'Daily', 'man', '*T*-63', 'disease', 'hospital', 'tests', 'Once', 'confirmed', '*-63', 'associates', 'family', 'tested', '*-64', 'newspaper', 'chaotic', 'life', 'Polish', 'charges', '150', 'gas', 'PAP', 'unrealistically', 'line', 'compensate', 'coal', 'happier', 'establishing', 'diplomatic', 'Poland', 'loans', 'financially', 'strapped', 'Warsaw', 'victory', 'environmentalists', 'Hungary', 'parliament', 'terminated', 'multibillion-dollar', 'River', 'Danube', 'dam', 'Austrian', 'Nagymaros', 'twinned', 'upstream', 'Czechoslovakia', 'ending', 'authorized', 'Prime', 'Miklos', 'Nemeth', 'modify', '*T*-64', 'environmental', 'damage', 'twin', 'dams', '*-67', 'planned', 'twindam', '*-68', 'Czech', 'ca', 'operated', '*-69', 'solely', 'peak', 'periods', 'painting', 'Strindberg', 'Scandinavian', 'Stockholm', '2.44', 'Lighthouse', 'painted', 'oils', 'playwright', '1901', 'weddings', 'upturn', '6,000', 'couples', 'exchanging', 'rings', 'national', 'statistics', '271,124', '400,000', '1972', 'BRAMALEA', '85.1', '10.5', 'debentures', 'due', '1999', '100,000', 'bond', 'warrants', 'Toronto-based', 'real', 'estate', 'warrant', 'entitles', 'holder', '1,000', 'par', 'accrued', 'date', 'swapped', '*-70', 'Lead', 'underwriters', 'Scotia', 'McLeod', 'RBC', 'Dominion', 'dealers', 'Bramalea', 'actor', 'Lane', 'inheritor', 'Charlie', 'Chaplin', 'Steve', 'Martin', 'laid', 'claim', 'writer', '*T*-65', 'obsessed', 'refitting', 'Little', 'Tramp', '1976', 'film', 'student', 'Purchase', 'campus', 'shot', 'Place', '36-minute', 'black-and-white', 'sketch', 'artist', 'streets', 'revived', 'Artist', 'full-length', 'Sidewalk', 'Stories', 'poignant', 'piece', 'modern-day', 'tramp', 'Of', 'contained', 'dialogue', '*-71', 'homeless', 'person', 'really', 'silent', 'Composer', 'Marc', 'Marder', 'college', 'friend', '*T*-66', 'earns', 'living', 'playing', 'double', 'bass', 'classical', 'music', 'ensembles', 'prepared', 'exciting', 'eclectic', 'score', '*T*-67', 'characters', 'thinking', 'feeling', 'precisely', 'intertitles', 'words', 'Much', 'takes', 'highly', 'romanticized', 'view', 'good-hearted', 'Filmed', 'lovely', 'black', 'white', 'Bill', 'Dill', 'seem', 'benign', 'women', 'walk', 'purpose', 'noticing', 'jostle', 'cabs', 'hangs', 'Greenwich', 'Village', 'strip', 'Sixth', 'Avenue', 'populated', 'jugglers', 'magicians', 'good-natured', 'hustlers', 'crack', 'dead-eyed', 'selling', 'four-year-old', 'Cosmopolitan', 'curled', 'cardboard', 'box', 'routine', 'spends', 'sketching', 'passers-by', 'night', 'returns', 'condemned', 'calls', 'His', 'skirmishes', 'competing', 'carefree', 'given', '*-72', 'blind', 'girl', 'cure', 'Lights', '*-73', 'charge', 'returning', 'two-year-old', 'waif', 'Nicole', 'Alysia', 'murdered', '*-74', 'thugs', 'mother', 'cute', 'child', 'turns', 'blessing', 'curse', 'sense', 'alerts', 'serious', 'inadequacy', 'vagrant', 'beds', 'Bowery', 'Mission', 'drearier', 'tuck', 'To', 'stakes', 'dreamed', 'improbable', 'romance', 'woman', '*T*-68', 'children', 'shop', '*T*-69', 'expensive', 'high-rise', 'apartment', 'resonate', 'strongly', 'camera', 'behind', 'final', 'glamorize', 'vagabond', 'existence', 'ends', 'sound', 'street', 'whimsical', 'enviable', 'rough', 'beaten', 'voices', 'French', 'Claude', 'Chabrol', 'managed', 'weird', 'achievement', 'Story', 'Women', 'harsh', 'brilliant', 'picture', '*T*-70', 'captivating', 'character', 'viewed', 'sympathetic', 'angle', 'disagreeable', 'Marie-Louise', 'Giraud', 'historical', 'significance', 'executed', 'Vichy', 'hypocrisy', 'collaborated', 'Germans', 'thousands', 'Resistance', 'fighters', 'Jews', 'needed', 'diversionary', 'symbolic', 'traitor', 'small-time', 'abortionist', 'accidentally', 'enabled', 'jam', 'cocoa', 'war-rationed', 'goodies', 'untrained', 'botched', 'job', 'killed', 'client', 'Her', 'remorse', 'shallow', 'playful', 'dreadful', 'war-damaged', 'husband', 'openly', 'lover', 'presented', 'thin-lipped', 'Isabelle', 'Huppert', 'Marie', 'Latour', 'nice', 'deserve', 'chopped', 'recommend', 'Old', 'Gringo', 'confused', 'rendering', 'Fuentes', 'Mexican', 'Revolution', 'Most', 'taken', 'endless', 'scenes', 'fighting', 'eating', 'drinking', 'celebrate', 'mention', 'movies', 'bright', 'spot', 'Peck', 'marvelously', 'loose', 'energetic', 'portrayal', '*T*-71', 'die', 'Video', 'Tip', 'Before', 'seeing', 'look', 'finest', 'Boeing', 'discussing', 'plans', 'regular', 'possibly', 'larger', '767', 'twin-jet', 'discussions', 'stages', 'specific', 'Seattle', 'Kawasaki', 'Heavy', 'Industries', 'Mitsubishi', 'Fuji', 'sections', 'accounting', 'aircraft', 'press', 'speculated', 'contribution', 'goes', 'ahead', 'plane', 'hit', 'mid-1990s', 'negative', 'secondary', 'campaigns', 'event', 'irony', 'attack', 'commercial', 'getting', 'presidential', 'campaign', 'off-off', 'election', 'contests', 'scattered', 'across', 'ads', 'hostility', 'fears', 'mudslinging', 'empty', 'issues', 'ushering', 'era', 'content', 'Napolitan', '*T*-72', 'stirrings', 'politics', 'dawn', 'sometimes-tawdry', 'art', 'stage', 'consultant', 'your', 'TV', 'needs', 'bold', 'entertaining', 'means', 'confrontational', 'truthful', 'fights', 'Take', 'commercials', '*T*-73', 'tone', 'elections', 'Jersey', 'Virginia', 'screen', 'fills', 'tight', 'facial', 'Dinkins', 'Democratic', 'candidate', 'mayor', 'income', 'straight', 'disembodied', 'voice', 'Republican', 'Giuliani', 'Roger', 'Ailes', 'master', 'gets', 'contributions', 'accurately', 'hid', 'links', 'insurance', 'convicted', 'kidnapper', 'phony', 'kicker', 'Why', 'wait', 'caught', 'Nasty', 'innuendoes', 'Siegal', 'prosecute', 'corruption', '*T*-74', 'simply', 'exist', 'Stung', 'consultants', 'Shrum', 'Doak', 'finally', 'unleashed', 'shows', 'distorted', 'photos', 'politicians', 'Compare', 'candidates', 'One', 'banning', 'cop-killer', 'bullets', 'opposed', 'pro-choice', 'choose', 'Who', 'telling', 'truth', 'Everybody', 'nobody', 'classic', 'situation', '*T*-75', 'accurate', 'fail', 'insists', 'voluntarily', 'admitted', 'oversight', 'secret', 'Campaign', 'refused', '95,142', 'matching', 'incomplete', 'errors', 'know', 'get-out-the-vote', 'kidnapping', 'Peter', 'Powers', 'deceptive', 'side', 'argues', 'knows', 'reservations', 'Lt.', 'Gov.', 'Wilder', 'gubernatorial', 'battle', 'Marshall', 'Coleman', 'abortion', 'Greer', 'persuasion', 'agree', 'tour', 'de', 'Against', 'Monticello', 'superimposed', 'flag', 'tradition', 'freedom', 'liberty', 'Virginians', 'nurtured', 'generations', 'statue', 'Jefferson', 'dissolves', '*T*-76', 'wanted', 'rape', 'incest', 'denies', 'dynamics', 'transforming', 'referendum', 'attorney', 'series', 'advertisements', 'created', 'Bob', 'Goodman', 'shake', '*T*-77', 'attracted', 'counterattack', 'featured', 'close-up', 'shadows', 'suggested', 'recalling', 'unpleasant', 'courtroom', 'ordeal', \"C'mon\", 'boyfriends', 'interjects', '*T*-78', 'introduced', 'bill', 'victims', 'younger', 'interrogated', 'lawyers', 'accused', 'rapists', 'tried', 'pass', 'constituent', 'legislative', 'technique', 'lawmakers', '1983', 'unfounded', 'interrogation', 'grown', 'tired', 'gotten', 'stigma', 'campaigner', 'Mark', 'Rozell', 'scientist', 'Mary', 'onus', 'campaigning', 'devote', 'remainder', 'season', 'positive', 'truce', 'lasted', 'stations', 'carrying', 'featuring', 'himself', 'questions', 'sensitivity', 'attacks', 'Rep.', 'Florio', 'aired', 'Pinocchio', 'photograph', 'Jim', 'Courter', 'Remember', 'female', 'Consider', 'Squier', 'mean', 'dirty', 'Pictures', 'rusted', 'drums', 'swim', 'focus', 'purrs', 'hazardous', 'waste', 'neighbors', 'suing', 'fraud', 'nose', 'grows', 'involved', 'cry', 'partisans', 'responded', 'photographs', 'lying', 'asks', 'barrel', 'land', 'heating', 'cleaned', 'pollution', 'shrinks', 'Salmore', 'Eagleton', 'Barrels', 'environment', 'Even', 'devastating', 'credibility', '1966', 'route', 're-election', 'rout', 'Democrat', \"O'Connor\", 'GOP', 'Nelson', 'Rockefeller', 'appeared', 'Chicago', '350,000', '16,000', 'Friday', 'Seats', 'quoted', '331,000', 'exchange', '550,000', 'Aug.', 'Southeast', 'propelling', 'region', 'toward', 'Interviews', 'suggest', 'cooperation', 'Asian', 'pursued', 'fits', 'starts', 'sparking', 'domination', 'posing', 'fresh', 'policy', 'flow', 'motion', 'whereby', 'economies', 'knitted', 'Hormats', 'tripled', 'commitments', '5.57', 'Investment', '705.6', 'steep', 'assistance', 'cash-rich', 'following', 'pumping', 'wages', 'forcing', 'sites', 'labor-intensive', 'known', 'tigers', 'contributing', 'influence', 'subordinate', 'recipient', 'jobs', 'spur', 'military', 'fearful', 'falling', 'hegemony', 'Because', 'budget', 'constraints', 'encourages', 'burdens', 'resists', 'ground', 'coming', 'decade', 'U.S.-Japanese', 'comes', 'behemoth', 'swelling', 'evolution', 'concentrated', '1990s', 'spurred', 'multinationals', 'plants', 'accommodate', 'decisions', 'offend', 'donor', 'lender', 'Drobnick', 'California', 'Graduate', 'School', 'cohesive', 'parallel', 'Common', 'Market', 'approach', 'Rather', 'sectors', 'Calder', 'specialist', 'East', 'Woodrow', 'Wilson', 'Internatonal', 'Princeton', 'tubes', 'assemble', 'Indonesia', 'effect', 'pull', 'integrated', 'Countries', 'framework', 'closer', 'ministers', 'discuss', 'regional', 'transportation', 'telecommunications', 'Participants', 'Zealand', 'Nations', 'Brunei', 'rim', 'speech', 'Baker', 'Hawke', 'reasserts', 'intention', 'taking', 'shape', 'friends', 'crucial', 'designing', 'architecture', 'difficult', 'dominance', 'outstrips', 'flows', 'outranks', 'remains', 'optimism', 'enlarged', 'convey', 'undertone', 'caution', 'understanding', 'functions', 'Farren', 'commerce', 'benevolent', 'altruistic', 'attitude', 'net', 'gain', 'everyone', 'apprehensive', 'step', 'ease', 'security', 'uncertainty', 'leases', 'bases', 'troop', 'Many', 'Asians', 'regard', 'desirable', 'counterweight', 'marbles', 'try', 'juggernaut', 'monopolize', 'sew', 'Chong-sik', 'Lee', 'Pennsylvania', 'Cathryn', 'Rice', 'hardly', 'eyes', 'Comprehensive', 'Test', 'Basic', 'Skills', 'ninth', 'graders', 'Greenville', 'High', 'spotted', 'crib', 'seen', 'cheating', 'notes', 'uncanny', 'stockbroker', 'profession', 'Germany', 'surrendered', 'Senate-House', 'passed', 'forms', 'Virtually', 'word', 'matched', 'answers', 'social-studies', 'section', 'test', 'protest', 'My', 'teacher', 'OK', 'me', 'Nancy', 'Yeargin', 'students', 'parents', 'Confronted', 'examination', 'low-ability', 'geography', 'classes', 'gone', 'display', 'projector', 'underline', 'prosecuted', 'unusual', 'Carolina', '*T*-79', 'breach', 'pleaded', 'guilty', 'alternative', 'jail', 'partly', 'downfall', 'unstinting', '*T*-80', 'won', 'laurels', 'inspired', 'teach', 'wake', 'bitterness', 'anger', '*T*-81', 'betrayer', 'colleagues', '*T*-82', '*T*-83', 'defended', 'treated', 'harshly', 'school-district', 'stunned', 'bald-faced', 'nature', 'actions', 'martyr', 'casts', 'light', 'dark', 'reform', 'teachers', 'high-stakes', 'testing', 'enhanced', 'temptation', 'cheat', 'statute', 'violated', 'enforce', 'provisions', 'school-improvement', 'laws', 'Prosecutors', 'alleged', 'bolster', 'scores', 'bonus', '1984', 'Education', 'Improvement', 'depended', 'ability', 'student-test', 'incredible', 'pressure', 'Walt', 'Haney', 'education', 'educators', '*T*-84', 'wrongdoing', '50-state', 'Friends', 'Albuquerque', 'N.M.', 'school-research', 'concluded', 'outright', 'standardized', 'greatly', 'inflated', 'Evidence', 'widespread', 'surfaced', 'states', 'suspects', 'adult', 'erasures', '*T*-85', 'wrong', 'ones', 'statewide', 'numerous', 'occurrences', 'revising', 'practices', 'test-coaching', 'booklets', 'classroom', 'instruction', 'booming', 'Macmillan\\\\/McGraw-Hill', 'Publishing', 'Scoring', 'Learning', 'Materials', 'nothing', 'sophisticated', 'academic', 'telegraph', 'beforehand', 'precise', 'areas', 'concentrate', 'Use', 'County', 'district', 'Experts', 'promotions', 'entire', 'districts', 'wrenching', 'state-supervised', 'interventions', '*T*-86', 'firings', 'extra', 'lab', 'grants', 'projects', 'superintendent', 'Since', 'reforms', 'Scholastic', 'Aptitude', 'posts', 'lowest', '*T*-87', 'SAT', 'primary', 'entrance', 'Critics', 'stressing', 'worst', 'Says', 'Cannell', 'prosecuting', 'administrators', 'seriously', 'Sandifer', 'allegations', 'purely', 'foundation', 'unfair', 'inferences', 'Partly', 'worries', 'abuse', 'keeping', 'track', 'achievement-test', 'preparation', 'Standing', 'shaded', 'hill', 'run-down', 'textile', 'educated', 'brightest', 'governors', 'Nobel', 'Prize', 'winning', 'physicist', 'Townes', 'actress', 'Joanne', 'Woodward', '1980s', 'glory', '*PPA*-1', 'faded', 'yellow', 'bricks', 'broad', 'facade', 'violence', 'gangs', 'kids', 'Linda', 'Ward', 'Crime', 'awful', 'enrollment', 'honors', 'programs', 'seventh', 'immediate', 'predecessor', 'suffered', 'nervous', 'breakdown', 'Prior', 'term', 'bled', 'death', 'halls', 'stabbed', 'Academically', 'trouble', 'serving', 'disparate', 'evenly', 'split', 'privileged', 'elite', 'monied', 'neighborhoods', 'blacks', 'inner', 'resolved', 'clean', 'deadwood', 'faculty', 'restore', 'safety', 'behalf', '*T*-88', 'overall', 'educational', 'funding', 'ushered', 'betterment', '*T*-89', 'ambitions', 'reformers', 'Being', 'my', '37-year-old', 'dismissal', 'loved', 'dreamt', 'things', 'restructured', 'staff', 'struggled', 'curriculum', '14-hour', 'fast', 'favorite', '1986-87', '1987-88', 'Encouraged', 'taught', 'cadet', 'creation', 'encourage', 'teaching', 'advised', 'cheerleaders', 'pep', 'club', 'Cultural', 'Literacy', 'Civilization', 'chosen', 'PTA', 'Teacher', 'Year', 'inspirational', 'lady', 'Laura', 'Dobson', 'freshman', '*T*-90', 'teacher-cadet', 'studying', 'Beth', 'Marchand', '11th', 'grader', \"'ve\", 'Kelli', 'Green', 'distinguished', 'herself', 'approaches', 'pair', 'college-bowl', 'competitions', 'weekends', 'prepare', 'polish', 'furniture', \"'d\", 'correcting', 'homework', 'stands', 'football', 'fellow', 'cocky', '*T*-91', 'grandstander', 'Pressures', 'told', 'pushing', 'deteriorating', 'hearing', 'feared', 'helping', 'earn', 'points', 'incentive-bonus', 'source', 'Huge', 'meant', '5,000', 'meaningful', 'salary', '23,000', 'Winning', 'third', 'others', 'eager', 'pride', 'Elizabeth', 'Ariail', '*T*-92', 'Indeed', 'interested', 'attending', 'seminar', 'returned', 'adequately', '48', 'copied', 'studies', 'admits', 'mistake', 'motives', 'correct', 'sociology', 'subjects', 'bottom', 'rankings', 'newspapers', 'Mostly', 'prevent', 'self-esteem', 'badly', 'broke', 'heart', 'whole', 'alive', 'desperately', 'somebody', '*T*-93', 'cared', '*T*-94', 'drag-down', 'blow', 'advanced', '*T*-95', 'pretty', 'defeats', 'inkling', 'underprivileged', 'Joe', 'Watson', 'prosecutor', '*T*-96', 'alumni', 'concedes', 'adding', 'Do', 'sympathy', '*T*-97', 'hands', 'discovered', 'avoid', 'morale-damaging', 'disclosure', 'trial', 'quiet', 'resignation', 'save', 'certificate', 'dumbfounded', 'recalls', 'someone', 'knife', 'astonishment', 'dismay', 'superiors', 'authorities', 'unpopularity', 'Mrs', 'school-board', 'dismissed', 'crowded', '*T*-98', 'testify', 'Supportive', 'callers', 'decried', 'radio', 'particulars', 'offense', 'policies', 'talk-show', 'host', 'Editorials', 'allowed', 'overused', 'enraged', 'first-time', 'offenders', '*T*-99', 'expunged', 'conviction', 'cranked', 'worthy', 'murder', 'Over', 'witnesses', 'mostly', 'interviewed', 'meanwhile', 'cheerleading', 'squad', 'crushed', 'explain', '17-year-old', 'Soon', 'T-shirts', 'corridors', 'familiar', 'red-and-white', 'GHS', 'logo', 'shirts', 'angry', 'harm', '*T*-100', 'damn', '*T*-101', 'aspersions', 'incident', 'doubt', 'wisdom', 'evaluating', 'Gayle', 'Key', 'mathematics', 'worms', 'realized', 'reinstatement', 'afraid', 'relieved', 'sentiment', 'favor', 'jury', 'chalk', 'touched', 'slate', 'schoolchildren', 'answer', 'workbooks', 'worksheets', 'prior', 'widely', 'Achievement', 'Roman', 'numeral', 'IX', 'add', 'two-sevenths', 'three-sevenths', 'Worksheets', 'test-practice', 'kit', 'instances', '*T*-102', 'parent', 'Britain', 'Communication', 'Close', 'parallels', 'Test-preparation', 'subindustry', 'critics', 'school-sponsored', 'justifying', 'Kaminski', 'Traverse', 'Mich.', '*T*-103', 'coaching', 'aids', '*T*-104', 'gauge', 'learning', 'everybody', 'aces', 'psychiatrist', '*T*-105', 'Standardized', 'kindergarten', 'eighth', 'grade', 'Macmillan\\\\/McGraw', 'CAT', 'Iowa', 'Houghton', 'Mifflin', 'Harcourt', 'Brace', 'Jovanovich', 'Metropolitan', 'test-prep', 'Arizona', 'Florida', 'Louisiana', 'Maryland', 'tools', 'test-preparation', 'binders', 'best-selling', 'Kean', 'CTB', '*T*-106', 'publishes', 'aimed', 'improving', 'replicated', 'referred', '*T*-107', 'coincidental', 'schoolteacher', 'Mehrens', 'Michigan', 'similarity', 'devised', '69-point', 'scale', 'awarding', 'subskill', 'measured', 'closeness', 'preparatives', 'fifth-grade', 'subskills', 'symmetry', 'geometrical', 'metric', 'measurement', 'volume', 'pie', 'bar', 'graphs', 'kits', 'replicate', 'intent', 'familiarization', '66.5', '69', '64.5', 'knowledge', 'two-letter', 'consonant', 'sounds', 'exclusion', 'contains', 'examples', 'matches', 'items', 'Rick', 'Brownell', 'ignoring', 'need', 'format', 'scrupulously', 'replicating', 'deny', 'publication', 'Random', 'outraged', 'advisory', 'represented', 'CTBS', '*T*-108', '*T*-109', 'unaware', 'discontinue', 'Alleghany', 'Sacramento', 'Savings', 'Loan', 'H.N.', 'Frances', 'C.', 'Berger', 'Foundation', 'Sacramento-based', 'S&L', '*T*-110', '44', 'offices', 'north', 'central', 'services', 'ancillary', 'Human', 'Services', 'moratorium', 'fetal-tissue', 'transplants', 'Medical', 'transplantation', 'fetal', 'tissue', 'humans', 'juvenile', 'diabetes', 'degenerative', 'Alzheimer', 'Parkinson', 'Huntington', 'anti-abortionists', 'oppose', 'therapies', 'abortions', 'Mason', 'secretary', 'health', 'transplant', 'indefinitely', 'wo', 'stop', 'privately', 'funded', 'tissue-transplant', 'federally', '*T*-111', 'involve', 'HHS', 'Louis', 'Sullivan', '*T*-112', 'letter', 'acting', 'Institutes', 'threatened', 'controversy', 'implications', 'implant', 'brain', 'patient', 'suffering', 'scientific', 'ethical', 'majority', 'NIH-appointed', 'panel', 'recommended', 'carefully', 'controlled', 'embroiled', 'anti-abortion', 'dispute', 'hampered', 'administration', 'recruit', 'prominent', 'doctors', 'fill', 'prestigious', 'helm', 'NIH', 'Centers', 'Disease', 'Control', 'Several', 'withdrawn', 'names', 'consideration', 'views', 'Antonio', 'Novello', 'nominated', '*T*-113', 'serve', 'surgeon', 'reportedly', 'assured', 'opposes', 'Child', 'Development', 'charged', 'imposing', 'ideological', 'defuse', 'CDC', 'judged', 'excellence', 'disturbs', 'moves', 'uncharted', '*ICH*-4', 'judgments', 'applications', 'Myron', 'Genel', 'associate', 'dean', 'Yale', 'debate', 'polarized', 'mechanism', 'exists', 'middle', 'conducting', 'warns', 'discourage', 'unavailability', 'climate', 'visible', 'foundations', 'flap', 'tissues', 'fronts', 'regenerate', 'damaged', 'genes', '*T*-114', 'cause', '*T*-115', 'Down', 'syndrome', 'mental', 'retardation', 'summary', 'Rekindled', 'interstate', 'banking', 'over-the-counter', 'slightly', 'lackluster', '1.01', '456.64', 'paltry', '118.6', 'inauspicious', 'Yesterday', 'turnover', 'daily', '133.8', 'busiest', 'averaged', 'roughly', '145', 'biggest', 'nonfinancial', 'gained', '1.39', '446.62', 'modestly', '1.28', '449.04', '*T*-116', 'tracks', '3.23', '436.01', 'Connecticut', 'Trust', 'regions', 'merge', 'Massachusetts', 'merged', 'traders', 'real-estate', 'loan', 'unattractive', 'takeover', 'targets', 'speculators', 'anticipating', 'approve', 'permitting', 'immediately', '*T*-117', 'water', 'saw', 'uptick', 'Jennison', 'trader', 'OTC', 'beneficiary', 'Bancorp', '*T*-118', '3\\\\/4', '*T*-119', 'expires', 'Ed', 'Macheski', 'Wilton', '*T*-120', 'green', 'fared', 'Constitution', '7\\\\/8', '1\\\\/4', 'signed', 'merger', 'WFRR', 'L.P.', 'GHKM', '273.5', '*T*-121', 'Centerbank', '5\\\\/8', 'NESB', 'London-based', 'Pennview', 'leapt', 'Univest', '25.50', 'third-quarter', '70.7', '89.9', 'pretax', 'mobile', 'Dan', 'Nelms', 'one-time', 'substantially', 'eliminates', 'losses', 'associated', 'core', 'assuming', 'dramatic', 'fluctuation', 'achieve', 'near-record', 'Weisfield', 'Ratners', 'definitive', '57.50', 'Also', 'Jaguar', '4.4', '78', 'Heritage', 'Media', 'acquiring', 'POP', 'Radio', 'swap', 'tumbled', '51', '*T*-122', 'Rally', 'lost', 'restaurant', 'operator', 'redeemed', 'Giant', 'resolve', 'Burt', 'Sugarman', 'Trotter', '42.5', 'nine-member', 'SCI', 'Systems', 'slipped', '858,000', 'Huntsville', 'Ala.', 'post', 'fiscal', 'quarter', 'Sept.', 'year-earlier', '225.6', 'Internal', 'Revenue', 'criminal', '*T*-123', 'detailed', '*T*-124', '10,000', 'warnings', 'attorneys', 'cities', 'outcry', 'organized', '*T*-125', 'protected', 'attorney-client', 'privilege', 'IRS', 'stem', '*T*-126', 'receives', 'customer', 'transactions', 'payment', 'document', 'Form', '8300', 'Social', 'Security', 'passport', 'Failure', 'punishable', 'misdemeanor', 'felony', 'prison', 'Attorneys', 'argued', '*T*-127', 'wish', 'identities', 'citing', 'rarely', 'acted', 'witness', 'Neal', 'Sonnett', 'Criminal', 'Defense', 'Lawyers', 'red-flag', 'Miami', '*T*-128', 'dozens', '*T*-129', 'letters', 'computer-generated', 'sent', 'certified', 'mail', '*T*-130', 'drug', '*T*-131', 'individuals', 'necessarily', 'hire', 'circumstances', 'retained', 'Filling', 'tip', 'spark', 'formed', 'chaired', 'Gerald', 'Lefcourt', 'Bar', 'Delegates', 'resolution', 'condemning', 'requirement', '*T*-132', 'ABA', 'grand', 'prohibited', 'code', 'ethics', 'disclosing', 'committing', 'Justice', '*T*-133', 'taxpayers', 'notice', 'moderate', 'stance', 'Christopher', 'Lezovich', 'Detroit', 'submit', 'summons', 'initiated', 'dating', 'correspondence', 'mailed', '8300s', 'Individuals', 'permission', 'obtained', 'develop', 'sending', 'assertions', 'relating', 'confidential', 'THE', 'WAR', 'OVER', 'FEDERAL', 'JUDICIAL', 'SALARIES', 'victim', 'Often', 'judges', 'lucrative', 'fanfare', 'Raul', 'Ramirez', 'Calif', 'quitting', 'San', 'Francisco', 'refusal', 'couple', 'clerks', 'quipped', '89,500', 'unjust', 'Judges', 'professional', 'accountants', 'blinks', 'eye', 'sudden', 'relegated', 'sum', 'litigation', 'Orrick', 'Herrington', 'Sutcliffe', 'detail', 'high-priced', 'DOONESBURY', \"CREATOR'S\", 'UNION', 'TROUBLES', 'laughing', 'Cartoonist', 'Garry', 'Trudeau', 'Writers', 'Guild', 'America', 'alleging', 'mounted', 'harass', 'punish', 'crossing', 'screenwriters', 'picket', 'involves', 'Darkhorse', 'Productions', 'co-owner', 'member', 'employed', '*T*-134', 'guild', 'collective-bargaining', 'lawsuit', 'illegally', 'cartoonist', 'union', 'reviewing', 'suit', 'disciplinary', 'K.', 'Samnick', 'harassment', 'consists', 'mainly', 'year-long', 'threats', '*T*-135', 'punishment', 'unjustified', 'damages', 'seeks', 'preventing', 'punishing', 'retaliating', 'ABORTION', 'RULING', 'UPHELD', 'family-planning', 'abortion-related', 'adopted', 'prohibits', 'Title', 'X', '*T*-136', 'assist', 'obtaining', 'counseling', 'referrals', 'activities', '*T*-137', 'promote', 'advocate', 'opinion', 'Appeals', 'restrictions', 'violate', 'care', 'providers', 'limits', 'pregnant', 'INQUIRY', 'CLEARS', 'TEXAS', 'JUDGE', 'bias', 'comments', 'homosexual', 'Dallas', 'District', 'Jack', 'Hampton', 'sparked', 'judicial', 'inquiry', 'remarks', 'December', 'sentencing', '18-year-old', 'defendant', 'killing', 'park', 'referring', 'queers', 'cruising', 'picking', 'teenage', 'boys', 'Murray', 'appointed', 'fairness', 'commenting', 'Observing', 'exhibited', 'prejudice', 'impartial', 'prostitute', 'discredit', 'judiciary', 'justice', 'Judicial', 'Conduct', '*T*-138', 'empowered', 'impose', 'GAF', 'TRIAL', 'stock-manipulation', 'opening', 'arguments', 'Manhattan', 'Lowe', 'eight-count', 'indictment', 'Wayne', 'N.J.', 'specialty', 'Vice', 'Chairman', 'Sherwin', 'attempting', 'manipulate', 'Carbide', 'trials', 'mistrials', 'SWITCHING', 'TO', 'DEFENSE', 'prosecution', 'Iran\\\\/Contra', 'affair', 'Mayer', 'Brown', 'Bromwich', 'three-lawyer', 'Oliver', 'North', 'D.C.', '520-lawyer', 'specialize', 'white-collar', 'served', 'narcotics', 'Cooper', 'Tire', 'Rubber', 'principle', 'Albany', 'Ga.', 'Bridgestone\\\\/Firestone', 'Inc', 'Terms', 'tire', 'consist', '1.8', 'square', 'feet', 'warehousing', '353', 'acres', 'apologizing', 'bids', 'apology', 'indulging', 'leaders', 'rebuked', 'fretted', 'statement', 'cutthroat', 'pricing', 'equivalent', 'penny', 'municipal', 'No.', 'alone', 'competitors', 'auctions', '*T*-139', 'tie-breaking', 'lottery', 'computer-system-design', 'summoned', 'sure', 'understood', 'ministry', 'Fair', 'investigating', 'antitrust-law', 'violations', 'apologize', 'Takuma', 'Yamamoto', 'packed', 'headquarters', 'contrary', 'sorry', 'embarrassing', 'situations', 'reputation', 'sacrificing', 'profits', '*T*-140', 'benefits', 'accepted', 'normal', 'accepting', 'gifts', 'businessmen', 'extramarital', 'fire', 'fueled', 'behavior', 'complaints', 'municipality', 'low-ball', 'touch', 'tense', 'Foreigners', 'complain', 'limited', 'access', 'procurement', 'unfairly', 'undercut', 'excessively', 'slashing', 'semiconductors', 'Asked', 'hurt', 'U.S.-Japan', 'minus', 'factor', 'one-yen', 'Hiroshima', 'design', 'map', 'waterworks', '77,000', 'library', 'Nagano', 'prefecture', 'Saitama', 'prefectural', 'Wakayama', 'municipalities', 'emerge', 'insisted', 'Other', 'contacted', 'Michio', 'Sasaki', 'Keidanren', 'Federation', 'Organizations', 'Profit', 'PAPERS', 'Backe', 'Atlantic', 'Publications', '*T*-141', 'community', 'papers', 'media', 'CBS', 'Price', 'Communications', 'NTG', 'retaining', 'Osborn', 'Desai', 'Capital', 'Michaels', 'Stores', '*T*-142', 'operates', 'retail', '14.6', '32.8', '28.6', '29.3', '28.4', 'Furukawa', 'machinery', 'belonging', 'Dresser', 'locally', 'hydraulically', 'shovels', 'wheel-loader', 'Heidelberg', 'German', '280', 'Structural', 'Dynamics', '*T*-143', 'computer-aided', 'automation', '*T*-144', 'productivity', '@', 'Deposits-a', '6.21', '-', 'thrifts', 'metropolitan', 'compiled', 'Rate', 'Monitor', 'b', 'Guaranteed', 'minimum', 'LSI', 'Logic', 'surprise', '35.7', '*T*-145', 'industry-wide', 'semiconductor', 'custom-chip', 'lagging', 'billings', 'cover', 'extended', 'weakness', 'switch', 'economical', 'techniques', 'Wilfred', 'Corrigan', 'midyear', 'phase', 'oldest', 'appropriate', 'equals', '86', 'counting', 'extraordinary', '42', '133.7', '94', 'older', 'five-inch', 'more-efficient', 'six-inch', 'silicon', 'wafers', 'fabricate', 'Related', 'converting', 'Santa', 'Clara', 'Calif.', 'facility', 'speculate', '*T*-146', 'additions', 'aggressively', 'suddenly', 'poorly', 'positioned', 'Stark', 'Robertson', 'Stephens', 'dead', 'facing', 'traditionally', 'Part', 'buyers', 'jitters', 'INGERSOLL-RAND', 'Woodcliff', 'Lake', 'N.J', 'G.', 'Kuhns', 'General', 'dollar', 'buoyed', 'cautiously', 'bearish', 'underpin', 'kept', 'plunging', 'locked', 'narrow', 'offset', 'resulting', 'stalemate', 'Jay', 'Goldinger', 'Insight', 'reasons', '77.70', '77.56', 'lure', 'Dollar-yen', 'driving', 'Tom', 'Trettien', 'Banque', 'Paribas', 'convinced', 'erode', '1.8500', '1.8415', '143.80', '142.85', 'Sterling', '1.5755', '1.5805', 'Thursday', '143.93', '143.08', 'Madison', 'Los', 'Angeles', 'traced', 'solid', 'trust', 'wave', 'waiting', 'wings', 'contends', 'perception', 'vitriolic', 'Columbia', 'Entertainment', 'mollified', 'cites', 'Estate', 'knight', 'undisclosed', 'Georgia-Pacific', 'Great', 'Northern', 'Nekoosa', 'forthcoming', '10-year', 'yen-denominated', 'valued', 'speculation', 'redeeming', 'unclear', 'rolled', 'prospect', 'lock', 'high-yield', 'unabated', 'recede', 'cues', 'merely', 'drifted', 'release', '*T*-147', '45.3', 'participants', 'expectations', '*T*-148', 'minimal', 'Commodity', '374.20', 'ounce', 'Estimated', '3.5', 'ounces', '374.19', 'Cosby', 'Show', 'ratings', 'NBC', 'debut', 'Huxtable', 'keeps', 'viewers', 'network', '*T*-149', '187', 'affiliates', '*T*-150', 'air', 'considerably', 'episodes', 'fuming', 'distributor', 'Viacom', 'ultimatum', 'Either', 'losing', 'persuade', 'Different', 'spin-off', '*T*-151', 'tactics', 'willing', 'negotiate', 'Gillespie', 'Midwest', 'tell', \"'ll\", 'syndication', 'flooded', '*-76', 'comedies', '*T*-152', 'networks', 'station', 'pre-emptive', '2-8', 'A.C.', 'Nielsen', 'Providence', 'R.I.', 'Raleigh', 'N.C.', 'Louisville', 'Ky.', 'renew', 'Dick', 'Lobo', 'WTVJ', 'NBC-owned', 'disappointment', '*-78', 'Kuvin', 'WHAS', 'pleased', 'adds', 'disappointed', 'uncomfortable', 'frankly', 'quite', 'Life', 'Insurance', 'Georgia', 'officially', 'Wu', 'representative', 'Atlanta-based', 'conventional', 'life-insurance', 'Nationale', 'Nederlanden', 'frantic', 'revenue-desperate', 'magazines', 'cozy', 'fawning', 'articles', 'advertorial', 'survive', 'downright', 'thumbing', 'Garbage', 'billed', 'Practical', 'Environment', 'Founded', 'Brooklyn', 'N.Y.', 'entrepreneur', 'Patricia', 'Poore', 'promise', 'scoop', 'crisis', 'combines', 'how-to', 'pieces', 'topics', 'backyard', 'composting', 'explanatory', 'essays', 'happens', 'flush', 'toilet', 'hard-hitting', 'editors', 'considerable', 'whirling', 'rampage', 'supermarket', 'aisles', 'identify', 'guys', 'feature', 'Dumpster', 'deem', 'offender', 'standpoint', '*T*-153', 'With', 'belt', 'alienated', 'would-be', 'ire', 'Campbell', 'Soup', 'furious', 'Souper', 'Combo', 'microwave', 'chastised', '*-79', 'premiere', 'column', 'diagram', 'arrows', 'pointing', 'packaging', 'polystyrene', 'foam', 'polyproplene', 'polyester', 'plastic', 'non-biodegradable', 'landfill', 'monster', 'wrote', 'practicing', 'journalistic', 'garbage', 'fumes', 'opportunity', 'Modifications', '*-80', 'printed', '*-81', 'portrayed', 'recyclability', 'surprisingly', 'advertise', 'experts', 'turning', 'spenders', 'Soups', 'Mike', 'DDB', 'Needham', 'economics', 'big-time', 'handful', 'Adolph', 'Coors', 'Waste', 'Bumkins', '*T*-154', 'spend', 'relied', 'haul', 'print', 'publisher', 'initially', 'subscription', 'revenues', 'Individual', '2.95', 'yearly', 'subscriptions', 'recycled', 'Old-House', '126,000', 'newsstands', '93,000', 'scared', '*-83', 'replies', 'sleep', 'Ad', 'Notes', 'INTERPUBLIC', 'ON', 'Interpublic', 'programming', 'expanded', '4,000', 'original', 'largely', '*-84', 'E.C.', 'Television', 'Fremantle', 'supplier', '*-85', '75', 'NEW', 'ACCOUNT', 'CoreStates', 'Philadelphia', 'Earle', 'Palmer', 'Spiro', 'handled', '*-86', 'VanSant', 'Dugdale', 'Baltimore', 'AT&T', 'FAX', 'Telephone', 'Telegraph', 'Fax', 'Ogilvy', 'Mather', 'WPP', 'Billings', '*T*-155', 'serviced', 'Young', 'Rubicam', 'FIRST', 'CAMPAIGN', 'Enterprise', 'Rent-A-Car', 'breaks', 'St.', 'specializes', 'replacement-car', 'rentals', 'accidents', 'Developed', 'Avrett', 'Free', 'Ginsberg', 'pitches', 'consumer-driven', 'pick-up', 'drop-off', 'LANDOR', 'ASSOCIATES', 'Landor', 'identity-management', 'ACQUISITION', 'Ketchum', 'Pittsburgh', 'Braun', 'investor-relations', 'marketing-communications', 'Sea', 'Containers', '70-a-share', 'buy-back', 'pressed', 'Temple', 'Holdings', '*T*-156', 'Hamilton', 'Bermuda-based', 'shipping', '1.1', 'proceeds', 'apiece', 'ward', 'hostile', 'Stena', 'Holding', 'AG', 'Tiphook', '777', 'sweetened', '963', 'Sherwood', 'asset-sale', 'approximately', '620', '490', 'allocated', '*-87', 'leaving', '130', 'flexibility', 'raises', 'leeway', 'criticized', 'characterizing', 'conditional', 'device', 'entrench', 'confuse', 'superior', 'asset', 'materialize', '36', 'converted', '*-88', 'possibility', 'subsidiaries', 'mired', 'Bermuda', 'barred', 'reaction', '62.625', '62.5', 'Transportation', 'responding', 'advocates', 'steps', 'vans', 'requirements', 'automobiles', 'requiring', 'roofs', 'minivans', 'equip', 'lap-shoulder', 'belts', 'rear', 'model', '*-89', 'Samuel', 'Skinner', 'represents', 'milestone', 'ongoing', 'vehicle', 'occupant', 'extension', 'car', 'equipped', '*-90', 'front-seat', 'headrests', '*-91', 'surprising', 'Safety', 'urging', 'car-safety', '*T*-157', 'classed', 'actually', 'cargo', 'therefore', 'luck', 'Reagan', 'fairly', 'systematic', 'address', 'Chuck', 'Hurley', 'communications', 'Highway', 'Sen.', 'Danforth', 'Mo', 'praised', 'noting', 'rollover', 'crashes', 'light-truck', 'fatalities', 'roof-crush', 'bags', 'automatic', 'side-crash', 'weighing', 'pounds', 'withstand', 'unloaded', 'weight', 'roof', 'depressed', '*-92', 'inches', 'rear-seat', 'lap', 'shoulder', 'phasing', 'installed', 'deadline', 'resistance', 'Leinonen', 'engineer', 'Ford', 'auto-safety', '1982', 'installing', 'F-series', 'Crew', 'Cab', 'pickups', 'Explorer', 'sport-utility', 'Rail', 'enclosed', 'railcars', 'transporting', 'autos', 'multilevel', 'Thrall', 'Manufacturing', 'Heights', 'Duchossois', 'Elmhurst', 'Ill', 'railroad', '850', 'Sir', 'Walters', '58-year-old', 'Petroleum', 'joins', 'cement', 'Milne', '65', '*T*-158', 'retires', 'Blue', 'Circle', 'formal', '*-93', 'longstanding', 'opposition', 'Later', 'senate', 'Currently', 'within', 'Driscoll', 'Dow', 'Jones', 'Professional', 'Investor', 'Certainly', '*T*-159', 'prospectively', 'options', '*T*-160', 'conversations', 'interesting', 'hot', '*-94', 'merger-related', 'prevailing', 'passage', '*-95', 'slump', '121.6', 'lay', 'altogether', 'employment', '18,000', 'exclusively', 'leasing', 'GOODY', 'PRODUCTS', '11.5', 'reduced', 'payable', 'Jan.', 'Kearny', 'N.J.-based', 'hair', 'accessories', 'cosmetic', '992,000', 'year-ago', '1.9', 'anti-takeover', 'Henderson', '51-year-old', 'U.K.', 'metals', 'succeeding', 'Ian', 'Butler', '*T*-161', 'retiring', '1\\\\/10th', 'cent', 'redemption', 'upon', '*-96', 'Warren', 'Winiarski', 'proprietor', 'Stag', 'Leap', 'Wine', 'Cellars', 'Napa', 'tag', 'Cask', 'Cabernet', 'wine', 'shops', 'wine-making', 'experience', 'declared', 'estimation', '700', 'Sauvignon', 'Diamond', 'Creek', 'Vineyard', 'weighed', 'sticker', 'bottle', 'fastest', 'segments', 'category', 'superpremiums', 'wines', 'exceptional', 'quality', 'perceived', 'exceedingly', 'stable', 'classics', 'Bordeaux', 'growths', 'Lafite-Rothschild', 'Haut-Brion', 'Petrus', 'Grand', 'Cru', 'Burgundies', 'Romanee-Conti', 'La', 'Tache', 'deluxe', 'Champagnes', 'Dom', 'Perignon', 'Roederer', 'Cristal', 'rarefied', 'Chateau', 'Yquem', 'Trockenbeerenauslesen', 'Rieslings', 'Biondi-Santi', 'Brunello', 'Riserva', 'Tuscany', 'magnitude', 'flashy', 'zoomed', 'priciest', 'releases', 'boast', 'lion', 'bottles', '80', 'smallest', '*T*-162', '!', 'vintages', 'Sauternes', 'lighter', 'vintage', 'spectacularly', '179', 'prestige', 'cuvees', 'inching', 'barrier', 'Salon', 'Mesnil', 'Blanc', 'Blancs', \"'82\", '115', 'Taittinger', 'Comtes', 'encroaching', 'reds', 'Rhone', 'soared', 'Guigal', 'Cote', 'Rotie', 'Landonne', 'None', 'steal', 'march', 'Burgundy', 'Domaine', 'la', 'precious', 'vineyard', 'anywhere', 'commanded', 'three-digit', 'tags', 'Richebourg', '180', '225', 'Coche-Dury', 'Corton-Charlemagne', '155', 'Angelo', 'Gaja', 'Barbaresco', 'Piero', 'Antinori', 'Solaia', '98', 'Vega', 'Secilia', 'Unico', '10th', 'Grange', 'Hermitage', 'cult', '*T*-163', 'command', 'Larry', 'Shapiro', 'Marty', '*T*-164', 'happening', 'scarce', 'exhausted', \"'40s\", \"'50s\", '*T*-165', '300', 'newer', 'bargain', 'grapes', 'ripen', 'perfectly', 'acre', '*T*-166', 'yielded', 'Owner', 'Al', 'Brownstein', 'originally', 'retailer', 'Is', 'wholesale', 're-thought', 'Offering', 'merchants', 'check', 'responses', 'yes', 'shipped', '*-97', 'six-bottle', 'instead', 'spread', '*-98', 'thin', '62', 'retailers', 'awfully', 'Pratt', 'Schaefer', 'Skokie', 'suburban', 'opinions', 'six-packs', 'remarked', 'thinks', 'dramatically', '*T*-167', 'wins', 'sticker-shock', 'talked', 'excited', 'astronomical', 'collection', 'sort', 'one-upsmanship', 'Red', 'Rock', 'Terrace', 'Cabernets', 'Dunn', 'Producers', '*T*-168', 'appeal', 'explains', 'rapidly', '*T*-169', 'knowledgeable', 'Cedric', 'Cellar', 'Orleans', 'Or', 'overpriced', '*-99', 'equally', 'Grgich', 'Chardonnay', '32', 'movement', 'Chardonnays', 'Image', '*T*-170', '*T*-171', 'forced', '*-100', 'push', 'le', 'lowering', 'beautiful', 'ideas', 'walking', 'door', \"'86\", 'Opus', 'Dominus', 'moment', 'wine-buying', 'looming', 'holidays', '*T*-172', 'Ensrud', 'free-lance', 'Signs', 'Fed', 'upward', 'moderated', 'Black', 'Richmond', 'posting', 'fourth', 'agrees', 'Kansas', 'Guffey', 'achieving', 'stated', 'objective', 'hopefully', 'downward', 'expecting', 'easier', '0.25', '8.75', 'plunge', 'shown', 'weak', 'slower', 'petroleum', 'Retail', 'discretionary', 'big-ticket', '*-101', 'halt', 'divided', '*-102', 'presidents', 'resisting', 'excesses', 'tilt', 'chance', 'Integra-A', 'Restaurant', '*-103', 'mailing', '105', '13.5', '1993', '23.5', '*T*-173', 'exercised', '*-104', 'Integra', '*T*-174', 'hotels', 'Hallwood', 'exercise', '*T*-175', 'merchant', 'Copperweld', 'steelmaker', '445', 'Shelby', 'Steelworkers', 'Local', '3057', 'Tube', 'expired', 'vote', 'reject', 'pact', '230-215', 'stoppage', 'postponed', '*-105', 'Basham', 'autions', 'rescheduled', '*-106', 'Unless', '13.8', '*T*-176', 'congressional', 'partisan', 'bickering', '*T*-177', 'entangled', 'fails', 'disruption', 'schedule', 'taxpayer', 'Nicholas', 'Brady', 'bankers', 'imperative', '*-107', 'redeem', 'maturing', 'refunding', 'three-year', 'auctioned', '*-108', '*-109', '30-year', '*-110', '2019', '36-day', 'when-issued', 'approves', 'clearing', '47.5', 'Auctions', '25.6', '21.9', '*-111', 'two-year', 'five-year', 'estimates', 'decides', 'aim', 'Lancaster', 'Colony', 'Reames', 'Foods', 'marketer', 'frozen', 'noodles', 'pre-cooked', 'pasta', 'Clive', 'Investors', 'advantage', 'rally', 'fractionally', 'Bond', 'Industrial', 'finished', '2645.90', 'advancing', 'tidily', '847', '644', 'Long-term', 'Continuing', '*-112', 'enthusiasm', '3.18', 'evaporated', 'rushed', 'sight', '*T*-178', 'Beige', 'Book', 'pattern', '154.2', 'benchmark', '2.50', '7.88', 'afternoon', 'Mitsui', 'Mining', 'Smelting', '5.276', '36.9', '3.253', 'Net', '4.898', '1.457', 'Eaton', 'Sierra', '200', 'supplies', 'Harold', 'Simmons', 'NL', 'Gulf', 'commodity', 'chemicals', 'restructure', '*T*-179', 'rebuffed', 'alternatives', 'proposals', 'Late', 'reviewed', 'regarding', 'combinations', 'eliminated', '*PPA*-2', 'various', 'proof', 'aggressive', '*-113', 'clamped', 'ankle', 'pit', 'bull', 'Leming', 'Morgan', 'Stanley', '9.9', 'Valhi', 'two-thirds', 'surprised', 'cited', 'becomes', '1.75', '51.25', 'unchanged', '22.75', 'Landis', 'proposing', '*T*-180', 'subordinated', 'junk-bond', 'collapsed', 'lessening', 'likelihood', 'hundred', 'agreeing', 'consent', 'Jerry', 'Satrum', 'respond', 'spurns', '*T*-181', 'solicitation', 'replacing', 'friendly', 'apparently', '*-114', 'nominal', '*-115', 'earned', '46.1', '1.85', '251.2', '278.7', 'licensing', 'representing', 'challenging', 'university', 'Retin-A', 'acne', 'medicine', 'Patents', 'Westport', 'punitive', 'license', 'elsewhere', 'Albert', 'Kligman', 'researcher', '*T*-182', '1960s', 'combat', 'patented', 'licensed', 'Brunswick', 'Criticism', 'acquisitions', 'Officials', 'skittishness', 'color', 'disagree', 'indeed', 'unfettered', 'Where', 'removal', 'perceives', '*T*-183', 'barriers', 'heated', 'stirred', 'focusing', 'differences', '*-116', 'Impediments', 'Initiative', 'rhetoric', 'signal', 'Dallara', '*T*-184', 'informally', 'impending', 'direct-investment', 'fret', 'rancor', 'nervousness', 'devoted', 'half-hour', 'briefing', 'journalists', 'vitally', 'emotions', 'Taizo', 'Watanabe', 'notably', 'Fears', 'escalated', 'Coca-Cola', 'owner', 'midtown', 'fuel', 'fires', 'discontent', 'stoked', 'publicized', 'Boone', 'Pickens', 'Jr', 'oilman', '26.2', '1.2', 'automotive-lighting', 'Koito', 'asserting', 'greenmailer', 'hay', 'troubles', 'Texan', 'Lloyd', 'Bentsen', 'highlight', '*T*-185', 'disproportionate', 'table', 'structures', 'litany', 'recommendations', 'anxious', 'successful', '*T*-186', 'clarified', '*T*-187', 'retort', 'concessions', 'Just', 'clarify', 'exactly', '*T*-188', 'sorting', 'specifics', 'quick', 'basic', 'MITI', 'crossed', 'gauging', 'sheaf', 'Elisabeth', 'Rubinfien', 'smaller', 'controversial', 'improves', 'provides', 'Candela', 'Laser', 'Wayland', 'high-tech', 'sights', 'myriad', 'penetrate', 'tiny', 'joint-venture', 'guided', 'bureaucratic', 'maze', 'secured', 'laser', '*T*-189', 'kidney', 'stones', '*T*-190', 'treats', 'skin', 'lesions', 'count', 'Olsen', 'milked', '*-117', 'bankroll', 'promising', 'frequently', 'putting', '*T*-191', 'financed', 'corporations', '214', 'minority', 'Venture', 'Economics', 'Heightened', 'acceleration', '*-118', '*T*-192', 'Center', 'deals', 'conspicuous', 'penetration', 'feed', 'anxieties', 'low-tech', 'glass', 'catch', 'fancy', 'strategic', 'fit', 'Glass', 'Warrenton', 'Va.', 'fabricator', 'architectural', 'foundering', 'Ronald', 'Bodner', 'chiefly', 'window', 'Ichiro', 'Wakui', 'merchandise', 'inside', 'Trading', 'Itoh', 'Nissho-Iwai', '*T*-193', 'counterpart', 'vertically', 'feudal', 'globally', 'commodities', 'ships', 'sogo-shosha', 'Klauser', 'U.S.A.', 'houses', 'Adds', 'Takeshi', 'Kondo', 'ventures', 'Silicon', '*-119', 'trading-company', 'goal', 'Strategic', 'objectives', 'drive', 'basis', 'performed', 'logjam', 'small-company', 'businessman', 'Davies', 'Alliance', 'queuing', 'unsympathetic', '*T*-194', 'relation', 'generate', 'extent', 'ai', 'Hudson', 'Stearn', '*-120', 'departure', '*T*-195', 'maintenance', 'fueling', 'airlines', 'airports', 'omitted', '*T*-196', 'duties', 'assumed', '*-121', 'Langner', 'Genie', 'Driskill', 'neighborhood', 'convenient', 'high-balance', 'pine', 'Crown', 'Account', 'package', 'checking', 'safe', 'deposit', 'card', 'installment', '15,000', 'qualify', 'loyalty', 'competitive', 'competed', 'deposits', 'bundling', 'packages', 'targeting', 'population', 'segmenting', 'Anne', 'Moore', 'Synergistics', 'NCNB', 'Charlotte', 'Connections', 'Program', 'adults', 'starting', 'pre-approved', 'throws', 'cash-flow', 'saving', 'Planters', 'Memphis', 'Tenn.', 'Edge', 'thirtysomething', 'crowd', '*T*-197', 'borrowed', 'aiming', 'elderly', 'demographic', 'segment', 'stepped', 'Judie', 'MacDonald', 'Barnett', 'Banks', 'Jacksonville', 'Fla.', 'sub-segments', 'tailoring', 'Seniors', 'Partners', 'styles', 'Varying', 'life-style', 'create', 'sub-markets', 'branches', 'athletic', 'travel', 'active', '55-year-old', 'Senior', 'games', '75-year-old', 'Panama', '1973', 'Wells', 'Fargo', '*T*-198', 'safe-deposit', 'travelers', 'checks', 'fee', 'begot', 'slew', 'copycats', 'promoting', 'margins', 'computerize', 'niches', '*T*-199', 'profitable', '*-122', 'mid-1970s', 'emphasis', 'switched', 'ways', 'enabling', 'analyze', 'deregulation', '*T*-200', '1970s', 'Deregulation', '*T*-201', 'high-rate', 'CDs', 'passbook', 'certificates', 'interest-bearing', 'staggering', 'bigger', 'Norwest', 'Chemical', 'market-share', 'battles', 'banker', 'worrying', 'money-center', 'unions', '*T*-202', 'scrambling', 'define', 'cultivated', 'savvier', '*T*-203', 'N.C', 'fragmentation', 'attracting', 'rate-sensitive', 'costly', 'Packages', 'rewarding', 'bulk', 'captive', 'audience', '*T*-204', '*-123', 'loyal', '*T*-205', 'borrowers', 'savers\\\\/investors', 'Packaging', 'drawbacks', 'personnel', 'training', 'promotional', 'ChemPlus', 'Jacob', 'comprehensive', 'Still', 'flourish', 'demanding', 'tailored', '*-124', 'moving', 'direction', 'Alvin', 'Sale', 'realize', 'boutique', 'IRAs', 'SHAREDATA', 'amend', 'registration', 'delete', '500,000', 'Chandler', 'Ariz.', 'resubmit', '2.3', 'exercisable', 'ShareData', '4.1', 'develops', 'low-cost', 'peripheral', 'Five', 'Buy', 'Chevrolet', 'Hawaiian', 'vacation', 'Send', 'diamond', 'necklace', 'Make', 'lasting', 'savings-and-loan', 'Foster', 'Corporate', 'Parents', 'pocket', 'ailing', 'teetering', 'insolvency', 'demise', 'Your', 'needy', 'solvent', 'Parent', 'Like', 'healthy', 'Performing', 'Institution', 'gift', '*T*-206', 'doors', 'joy', 'felt', 'Lewis', 'Ranieri', '*T*-207', 'builds', 'confidence', 'self', 'sufficiency', 'critical', 'institution', 'Every', 'delay', 'worse', 'Think', 'mid-size', 'semesters', 'send', '*T*-208', 'rap', 'sagging', 'morale', 'Baris', 'Mercantile', 'institute', 'circuit', 'breaker', 'stemming', 'slides', 'Phelan', 'subcommittee', 'halts', 'emergencies', 'reinstating', 'collar', 'arguing', 'limit', 'Merc', 'one-hour', 'Standard', 'Poor', 'stock-index', 'futures', 'S&P', '150-point', '20-point', '*-125', '1:30', 'p.m', '3:15', 'execute', 'trades', '*-126', 'tumultuous', 'industrials', 'skidded', 'hitting', '*T*-210', 'remained', 'session', 'existing', '30-minute', '12-point', 'equal', '*-127', 'Leo', 'Melamed', 'lessen', 'panic', 'reopened', 'subsequent', 'flood', '*T*-211', 'knocked', '30-point', 'intermediate', '*-128', 'synchronized', 'circuit-breaker', 'aggravated', 'directing', 'floor', '*-129', 'shortly', '*T*-212', 'respite', 'sell-offs', 'maximum', 'one-day', 'modification', '*-130', 'five-point', 'minutes', 'lapses', 'aides', 'congressmen', '*T*-213', 'executing', 'manually', 'post-hearing', '*T*-214', 'expressed', 'volatility', 'program-trading', 'comfortable', 'Capitol', 'legislators', 'shut', 'volatile', 'Breeden', 'breakers', '*T*-215', 'preset', 'trigger', 'vague', 'mushy', 'viewpoints', 'angered', 'Edward', 'Markey', 'beyond', '*-131', 'done', 'sensitive', '*-132', 'happy', 'writing', 'discussed', '*-133', 'annoyed', 'congressman', 'Fifteen', '26', 'attended', 'Dingell', '*T*-216', 'let', 'sources', 'jurisdictional', 'regulating', '*T*-217', 'regulated', '*-134', 'Futures', '*T*-218', 'Agriculture', 'committees', 'change-ringing', 'peculiar', 'peculiarities', 'unintelligible', 'Dorothy', 'Sayers', 'Nine', 'Tailors', 'ASLACTON', '*T*-219', 'evoke', 'rural', 'loveliest', 'ancient', 'stone', 'church', 'bells', 'cascading', 'tower', 'calling', 'faithful', 'evensong', 'parishioners', 'Angels', 'chat', 'rhythmically', 'ropes', '*T*-220', 'sounded', '1614', 'discordant', 'modern', 'Aslacton', '*-135', 'church-goers', 'enjoying', 'peal', 'cool', 'autumn', 'churches', 'band', 'ringers', '*T*-221', 'herald', 'Sunday', 'ringer', 'Derek', 'Hammond', 'live', 'octogenarians', 'youngsters', '*T*-222', 'sometimes-exhausting', 'sounding', 'belfries', 'Anglia', 'ring', 'scrape', 'water-authority', 'worker', 'train', 'discos', 'dances', 'drift', 'flightiness', 'youth', 'diminish', 'ranks', 'Anglian', '*T*-223', 'pealing', 'History', 'nationwide', 'rung', 'Sundays', 'tunes', 'carillons', 'continental', '*-136', 'childish', 'foreigners', 'Change-ringing', 'mind-boggling', 'invented', '380', 'physical', 'dexterity', 'weigh', 'ton', 'concentration', 'Proper', 'rounds', 'highest-pitched', 'bell', 'descending', 'altering', 'rhythm', 'variation', 'Ringers', 'memorize', 'methods', '*T*-224', 'odd-sounding', 'Treble', 'Major', 'Grandsire', 'Caters', 'Abbot', 'Kensington', 'Ten', 'shirt-sleeved', 'circle', 'foot', 'prize-fighter', 'pulling', 'rope', '*T*-225', 'disappears', 'hole', 'ringing', 'chamber', 'speaks', 'snaking', 'muffled', 'Totally', 'absorbed', 'stare', 'vision', 'rope-sight', 'thus', 'pulls', 'Far', 'belfry', 'bronze', 'wheels', 'madly', '360', 'inverted', 'mouth-up', 'Skilled', 'wrists', 'retard', 'well-known', 'detective-story', 'novelist', 'passion', 'finds', 'satisfaction', 'mathematical', 'completeness', 'perfection', 'filled', 'solemn', 'intoxication', '*T*-226', 'intricate', 'ritual', 'faultlessly', 'Ringing', 'bit', 'obsession', 'Stephanie', 'Pattenden', '*T*-227', 'stays', 'stuck', '*-137', 'sweat', 'skip', 'pub', 'worship', 'sit', 'clerics', 'Church', 'steadily', 'dwindling', 'strong-willed', 'vicars', 'pressing', 'non-religious', 'attend', 'Two', 'Rev.', 'Jeremy', 'Hummerstone', 'vicar', 'Torrington', 'Devon', '*T*-228', 'sacked', 'promptly', 'self-perpetuating', '*T*-229', 'premises', 'Vicar', 'congregation', 'eight', 'Ilminster', 'Somerset', 'dust-up', 'attendance', 'W.D.', 'refuses', 'reopen', 'wound', 'C.J.B.', 'nearby', 'fault', 'stairs', '*-138', 'altar', 'crunch', 'bang', 'obvious', 'exit', 'prayer', 'feelings', 'bell-ringer', 'drawn', '*-139', 'fuller', 'Council', 'Bell', 'aims', 'Baldwin', 'speak', 'theological', 'colleges', 'joys', 'publish', 'booklet', 'entitled', 'Bells', 'Care', 'attacking', 'bellringers', '40,000', '*-140', 'parishes', 'inner-city', 'council', 'attract', 'Right', 'lucky', 'male-dominated', 'everywhere', 'bell-ringing', 'Ancient', 'Youths', 'founded', '1637', 'male-only', '*T*-230', 'galling', 'sole', 'Cathedral', 'Westminster', 'Abbey', 'equal-opportunity', 'weekly', 'signing', 'Red-blooded', 'balanced', 'frequency', 'fainting', 'peals', 'tea', 'torrent', 'Solihull', 'observed', 'desired', '*-141', 'dressed', 'decorated', 'beer-belly', 'unwashed', 'unbearably', 'flatulent', 'Sheffield', 'faint', 'bless', 'unsettled', 'comfort', 'predictable', 'arrival', 'payouts', 'breathe', 'warn', 'strongest', 'stock-market', 'trap', 'unwary', 'Bernstein', 'quantitative', 'Merrill', 'Lynch', 'Strong', 'widow', 'reference', 'spiders', '*T*-231', 'males', 'kill', 'mating', 'Boesel', 'Growth', 'Income', 'robustly', 'Invariably', 'recessionary', 'environments', 'hospitable', 'risen', 'cyclical', 'peaks', '500-stock', 'sliding', 'watchers', 'Payouts', 'double-digit', 'trends', 'smartly', 'advances', '*T*-232', 'unenticing', 'Put', 'relative', '3.3', 'exits', 'sustained', 'rebound', 'pushes', 'tanked', 'Always', 'exception', 'W.', 'Perritt', 'Stockholders', '*T*-233', 'hint', 'escaped', 'debacle', '1933', '1961', '1965', '1968', '1971', 'sharp', 'troublesome', 'behaving', 'manner', 'Coxon', 'Cigna', 'Philadelphia-based', 'insurer', 'Einhorn', 'co-chairman', '3.6', 'tad', '*T*-234', 'single-digit', 'weakening', 'PaineWebber', 'forecasting', 'slowdowns', 'Doerflinger', 'argument', 'wherewithal', 'declare', 'weaken', 'Dividend', '*-142', 'bulls', 'expenditures', 'tally', '139', 'basically', '138', 'trailed', 'slippage', 'harbinger', 'deliver', 'appreciation', 'vs.', '*T*-235', 'Having', 'supportive', 'element', 'outlook', 'upside', 'page-one', 'plight', 'Alexander', 'Graham', 'invention', 'supposedly', 'communication', 'replace', 'father-in-law', 'Gardner', 'Hubbard', 'wealthy', 'well-connected', 'microphone', 'sued', 'grandfather', 'Emile', 'Berliner', '*-144', 'princely', '50,000', 'infringed', 'established', 'caveat', '*-145', 'enter', 'Beverly', 'Troubled', 'NBI', 'discontinuing', '*T*-236', 'quarters', 'Altogether', '266', 'Boulder', '176', 'Kingdom', 'Jerritts', 'commit', 'Further', 'structurally', 'radically', 'servicing', 'word-processing', 'Legend', '*T*-237', 'lacked', 'Series', 'hired', '93', 'Nixon', '*T*-238', 'historic', 'rapprochement', 'spoke', 'length', 'nowhere', 'easing', 'strains', '*T*-239', 'afflicted', 'Sino-U.S.', 'relationship', 'bloody', 'suppression', 'pro-democracy', 'demonstrators', 'harped', 'outrage', 'massacre', 'interference', 'Legal', '*T*-240', 'normally', 'proponent', 'peaceful', 'phrase', 'seduce', 'socialist', 'capitalist', 'sphere', 'tension', 'evident', 'banquet', 'toast', 'reciting', 'platitudes', 'eternal', 'friendship', 'reminded', 'Yang', 'Shangkun', 'assault', '3-4', '*T*-241', 'States', 'crackdown', '*T*-242', 'ordering', 'respect', 'undiplomatic', 'fashion', 'killings', 'prominently', 'demonstrations', 'supreme', 'Deng', 'Xiaoping', 'Frankly', 'speaking', '*-146', 'deeply', 'turmoil', 'counterrevolutionary', 'rebellion', '*T*-243', 'occurred', 'reprove', 'exchanges', 'mend', '*T*-244', 'deteriorated', 'greatest', 'Chinese-American', 'Relations', 'dissident', 'Fang', 'Lizhi', 'wife', 'Li', 'Shuxian', 'refuge', 'Embassy', 'Shortly', 'afterwards', 'anti-China', 'suspension', 'high-level', 'codified', '*-147', 'traveling', 'citizen', 'unofficial', 'envoy', 'Brent', 'Scowcroft', 'Saturday', 'top-level', 'participation', 'Fulbright', 'government-funded', 'pulled', 'acknowledge', 'welcome', 'infusion', 'contacts', 'Ideas', 'borders', 'SDI', 'weapon', '*T*-245', 'shoot', 'minor', 'concession', 'Premier', 'Peng', 'hoped', 'encounter', 'guards', 'guns', 'Sure', 'arrived', 'embassy', 'machine-gun-toting', 'blocks', 'ambassador', 'residence', 'encircling', 'discarded', 'Uzi-model', 'arms', 'pistols', 'contingent', 'plainclothes', 'unmarked', 'soldiers', '*T*-246', 'protests', 'rifles', 'diplomats', 'clicked', 'loaded', 'Firms', 'Lure', 'Science', 'Graduates', 'accusing', 'jeopardizing', 'barking', 'tree', 'passing', 'buck', '*T*-247', 'everything', 'volunteer', 'unethical', 'higher-salaried', 'Unfortunately', 'compensation', 'impression', 'harder', 'visited', '*-149', 'images', 'changing', 'perceptions', 'salaries', 'vacations', 'accept', 'Hiroshi', 'Asada', 'Barbara', 'Earns', 'Higher', 'Ratings', 'Than', 'regrettable', 'continually', 'negatives', 'liberals', 'progressive', 'Prof', 'Ethel', 'Klein', 'puts', 'professionals', '76', 'favorable', '*T*-248', 'voters', 'disapprove', 'spouse', 'imply', 'three-quarters', '85', 'assumption', 'distasteful', 'newsworthy', 'perpetuates', 'insidious', 'stereotyped', 'perspective', 'defined', 'denominator', 'Preston', 'Birmingham', 'Ala', 'self-regulatory', 'disciplined', 'expelled', '*-150', 'NASD', 'fined', '*-151', 'Fernando', 'Vargas', 'Marina', 'del', 'Rey', '*-152', '*-153', 'telephone-information', 'listing', 'J.L.', 'Henry', 'I.', 'Otero', '30,000', 'improper', '*-154', '*T*-249', 'unpublished', '*-155', 'Biscayne', 'Lauderhill', 'Rosenblum', 'Plantation', '10-day', 'suspensions', '*T*-250', '*-156', 'Triton', 'Danville', 'Delwin', 'settlement', 'admitting', 'denying', 'consented', 'connection', 'limited-partnership', '*-157', 'Crane', 'Mount', 'Clemens', 'Glenn', 'escrow', 'record-keeping', 'Canepa', 'two-week', 'inaccurately', 'inaccurate', 'Weatherly', 'principals', 'Dell', 'Eugene', 'Keehn', 'Northy', 'Prater', 'Mercer', 'Island', 'Wash.', 'McFall', 'Reached', 'implication', 'inappropriate', 'timing', 'rectified', 'W.N.', 'Whelen', 'Georgetown', 'Del.', 'N.', 'transacting', 'differ', 'meaning', 'markup', 'markdown', '*T*-251', '62%-owned', 'Express', 'timely', 'requests', 'Except', 'Andrew', 'Derel', 'Adams', 'Killeen', 'Francis', 'Angier', 'Reddington', 'Shores', 'Anthony', 'Arlington', 'Stirlen', '7,500', 'Fred', 'Bonnell', '2,500', 'Boorse', 'Horsham', 'Pa.', 'Chiodo', 'Camille', 'Chafic', 'Cotran', '25,000', 'disgorge', 'one-year', 'Davis', 'Colonsville', 'Miss.', '200,000', 'Jeffrey', 'Gerard', 'Dompierre', 'Valrico', 'Felten', '16,072', 'Marion', 'Stewart', 'Spitler', '18,444', '*T*-252', 'amounted', 'parking', 'ticket', 'complaining', 'sizable', 'anybody', 'Fishman', 'Longwood', 'Floyd', 'Houston', 'Bronx', 'Amin', 'Jalaalwalikraam', 'Glenham', '60,000', 'Knapp', 'Deborah', 'Renee', 'Muscolina', 'Palisades', 'Park', 'Najarian', 'Minn.', 'Norwick', 'Nesconset', 'Phipps', 'Sr.', 'Scott', 'Rankin', 'Mo.', 'Leigh', 'Sanderoff', 'Gaithersburg', 'Md.', '45,000', '12,252', 'Sandra', 'Ann', 'Ridgefield', 'Spence', 'Aloha', 'Ore.', 'Mona', 'Sun', 'Jamaica', 'Estates', 'Swearingen', 'Bew', 'Wong', 'Rabia', 'Zayed', 'Veselich', 'Enright', 'Rolling', '11,762', 'Stuart', 'Russel', 'Glendale', '14,821', 'Nilson', 'Dahl', 'Fountain', '82,389', 'screwed', 'breaking', 'agents', '*-158', 'reps', 'compliance', 'security-type', 'stupid', 'mistakes', 'Cole', 'Jackson', 'Rita', 'Rae', 'Cross', 'Denver', 'Meinders', '2,000', 'five-day', 'eight-month', 'Cutrer', 'Baton', 'Rouge', 'La.', 'one-month', 'Karl', 'Grant', 'Hale', 'Midvale', 'Utah', 'Clinton', 'Hayne', 'one-week', 'Kane', 'Coconut', '250,000', 'Merrick', 'Aurora', 'Miller', 'Randolph', 'Pace', '90-day', 'Brian', 'Pitcher', 'Russo', 'Bridgeville', '15-day', 'Orville', 'Leroy', 'Sandberg', '3,500', 'Marchese', 'Las', 'Vegas', 'Nev.', 'Eric', 'Monchecourt', 'Gerhard', 'Carson', 'actively', 'engaged', 'fond', 'blocked', '*-159', 'emigrate', 'computer-driven', 'plays', 'hurdles', 'loom', 'resist', 'onslaught', 'shrug', 'furor', 'marching', 'abroad', 'overlap', 'American-style', 'arbitrage', '*T*-253', 'exploit', '11.6', 'imagine', 'racing', 'Chicago-style', 'scrutinizing', '*-160', 'cope', 'Makato', 'Utsumi', 'home-market', 'Osaka', 'wary', 'forgotten', 'leap', 'bout', 'foreign-led', 'drove', 'skyward', '*T*-254', 'mechanisms', 'operators', 'suspend', 'Maybe', 'tightened', 'index-related', 'catch-up', 'Salomon', 'reaped', 'chunk', '*T*-255', 'Deryck', 'Maughan', '*T*-256', 'S.', 'Wadsworth', '*T*-257', 'ascribe', 'futures-related', 'strategies', 'disruptive', '*RNR*-2', 'liquid', 'impact', 'Index-arbitrage', 'serves', 'conduit', 'attractions', 'counter', 'tapes', 'unwind', 'begins', 'pegged', 'privacy', 'brokerage', 'index-arbitrage', '*-161', 'Barfield', 'Assurance', '*T*-258', 'manages', '#', '23.72', 'Times-Stock', '100-share', 'option', '*-162', 'Traded', 'Options', 'FT-SE', 'tenfold', '9,118', '4,645', '917', 'index-options', 'compares', 'derivatives', 'wage', '382-37', 'compromise', 'backed', 'replete', 'proponents', 'Advocates', '90-cent-an-hour', '4.25', 'hour', 'opponents', 'reflected', 'Republicans', 'bend', '*T*-259', 'lifting', 'four-year', 'enacted', '*-163', '3.35', '2.65', '3.80', 'smiles', 'Pat', 'Williams', 'Mont', '*-164', 'Marge', 'Roukema', 'acceptance', 'subminimum', 'administrations', 'sought', 'Adopting', 'training-wage', 'nickel', 'diming', 'Policy', 'lately', 'touted', 'impart', 'skills', 'entrants', 'Labor', 'Democrats', 'fought', 'acceded', 'insistence', '3.61', 'Employers', 'restriction', '*NOT*', 'government-certified', 'covers', '*T*-260', 'unrestricted', '*-165', 'Chamber', 'mininum-wage', 'impossible', 'employers', 'elimination', 'Zenith', 'Data', 'Electronics', '534', 'Navy', 'microcomputers', '84-month', 'Rockwell', '130.7', 'Air', 'Force', 'AC-130U', 'gunship', 'replacement', 'Marietta', '*-166', '29.9', 'low-altitude', 'navigation', '29.4', 'intelligence', 'Hahn', 'mode', 'gentle', 'Can', 'hard-charging', 'Teddy', 'Roosevelt', '62-year-old', 'forest-product', 'unsolicited', '3.19', 'cold', 'faced', 'negotiated', 'entice', 'negotiating', 'surrender', 'tough', 'completion', 'opens', 'war', 'implies', 'dilemma', 'Given', 'observers', 'overpaying', 'fold', 'courage', 'A.D.', 'Correll', 'pulp', 'long-time', 'Griffin', 'WTD', 'consensus', 'insiders', 'onto', 'knew', 'picked', 'careful', 'Polytechnic', 'Assuming', 'universities', 'Strother', 'researching', 'willingness', '1970', 'arrest', 'protesters', 'occupying', 'impressed', 'Pamplin', 'fundraising', 'enticed', 'joining', 'befuddled', 'administrator', 'transition', 'swiftly', 'demonstrating', 'raw', 'possessed', 'son', 'skipped', 'classmates', 'Moving', 'graduated', 'Phi', 'Beta', 'Kappa', 'Kentucky', 'doctorate', 'physics', 'retentive', 'understatement', 'photographic', 'engineered', 'turnaround', 'Taking', 'inherited', 'recession-inspired', 'building-products', 'non-core', 'vinyl', 'checkbook', 'refocusing', 'repair', 'remodeling', 'new-home', 'cycles', 'formula', '9.5', 'reins', '467', 'attributes', 'philosophy', 'concentrating', 'diversified', 'impressive', 'diversification', 'match', 'high-quality', 'forest-products', 'waters', 'Kathryn', 'McAuley', 'House-Senate', 'portions', 'relies', '240', 'guarantees', 'stimulating', 'appropriators', 'Overseas', 'initiatives', 'contrasts', 'provoked', 'veto', 'confined', 'shaping', 'authorizing', 'appropriations', 'decisive', 'Appropriations', 'reallocate', 'Pentagon', 'separately', '220', 'planning', 'Population', 'portion', 'warming', 'African', 'elephant', 'draws', 'variety', 'amendments', 'exemption', 'airplane', 'intriguing', 'struggle', 'sugar', 'fate', 'quota', 'stripped', 'Noriega', 'regime', '30,537', 'tons', '21-month', 'reallocated', '23,403', 'growers', 'pound', '9.3', 'Majority', 'Whip', 'Gray', 'Pa', 'English-speaking', 'Caribbean', 'Barbados', 'conservative', 'Californian', 'Bolivia', 'broadened', 'Basin', 'initiate', 'powerful', 'Hawaii', 'Inouye', 'upsetting', 'allies', 'instructed', 'lobbyist', 'abandon', 'drafted', 'insert', 'waived', 'supplemental', 'anti-drug', '27.1', 'airline', 'flights', 'leadership', 'bounce', '17.3', 'departments', 'Beauty', 'Takes', 'Backseat', 'Bridges', 'EVERYONE', 'AGREES', 'bridges', 'repaired', 'disagreement', 'ornamental', 'railings', 'crashing', 'lose', 'railing', 'scenic', 'planner', 'prefer', 'install', 'F', 'four-foot-high', 'concrete', 'slab', 'openings', 'Ind.', 'arched', 'G', 'Bridge', 'Garret', 'teaches', 'Earlham', 'structure', 'ugly', 'bridge', 'Charter', 'Oak', 'cast-iron', 'medallions', 'Compromises', 'Citizens', 'Peninsula', 'upset', 'floral', 'Similarly', 'highway', 'sidewalk', 'Tray', 'Bon', 'Drink', 'Carrier', 'Competes', 'Cartons', 'PORTING', 'POTABLES', 'Scypher', 'Cup-Tote', 'beverage', 'carrier', 'trays', 'outlets', 'resembles', 'loops', 'beer', 'hang', 'web', 'tote', 'cups', 'Inventor', 'Claire', 'Marvin', 'spilling', 'Lids', 'carriers', 'acknowledges', 'driver', 'sunlight', 'recyclable', 'Spirit', 'Perestroika', 'Touches', 'Design', 'AN', 'EXCHANGE', 'designers', 'promises', 'gamut', 'blender', 'chairs', 'Citicorp', 'Carnegie-Mellon', 'Leningrad', 'Mutchin', 'Droz', 'sees', 'learn', 'corkscrews', 'maybe', 'Seed', 'Jail', 'Solution', 'Fails', 'Root', 'IT', \"'S\", 'TWO', 'BIRDS', 'Eggers', 'architects', 'propose', 'grain', 'house', 'prisoners', 'overcrowding', 'preserving', 'solutions', 'cell', 'Grain', \"'30s\", 'walls', 'tubular', 'semicircular', 'cells', 'muster', 'visits', 'aesthetic', 'famed', 'architect', 'pyramids', 'Egypt', 'vacant', 'altered', 'inmates', 'upstate', 'efficient', 'USX', 'fines', 'penalty', 'workplace', 'employer', 'Occupational', 'Administration', '6.1', 'Fairless', 'mill', 'penalties', 'OSHA', '1,500', 'electrical', 'crane-safety', 'citation', 'covering', 'Clairton', 'coke', 'electrical-safety', 'Dole', 'citations', 'hazards', 'resulted', 'indifference', 'severe', 'Scannell', 'deficiencies', 'counteract', 'Particularly', 'flagrant', 'failures', 'properly', 'injuries', 'spite', 'corporate-wide', 'discrepancies', 'evaluation', 'cooperating', 'corrected', 'promised', 'stiffer', 'proved', 'unwilling', 'manpower', 'removing', 'safeguarding', 'Anku', 'contest', 'Review', 'Morrell', 'meatpacking', 'Brands', 'Cincinnati', 'contesting', 'Due', 'editing', 'error', 'edition', 'Hallett', 'mistakenly', 'NRDC', 'Natural', 'Resources', 'Homeless', 'implied', 'homelessness', 'numbers', 'mentally', 'ill', 'substance-abusing', 'alcoholics', 'causes', 'complex', 'quoting', 'emphasized', 'prevalance', 'illness', 'alcoholism', 'examined', 'multitude', 'disorders', 'psychiatric', 'malnutrition', 'chest', 'cardiovascular', 'infectious', 'aftereffects', 'assaults', 'shelter', 'elementary', 'necessities', 'nutrition', 'cleanliness', 'predispose', 'consequence', 'composed', 'lacks', 'adequate', 'interactions', 'defying', 'generalizations', 'possess', 'Breakey', 'M.D.', 'Fischer', 'Psychiatry', 'Johns', 'Hopkins', 'Tulane', 'Prof.', 'Wright', 'array', 'thread', 'poverty', 'exhibits', 'combination', 'alcohol', 'simultaneously', 'housing', 'disaffiliation', 'welfare', 'decay', 'intimately', 'connected', 'persons', 'Leighton', 'Cluff', 'quote', 'regarded', 'drop-in', 'fear', 'robbed', 'deprivation', 'scarcely', 'unable', 'fend', 'yourself', 'obviously', 'pre-existing', 'addiction', 'cracks', 'grim', 'brutal', 'escape', 'drugs', 'insanity', 'R.D.', 'Vos', 'N.Y', 'dismiss', 'sentimental', 'housing-assistance', '77', 'sleeping', 'Reagan-Bush', 'bothered', 'inverse', 'logic', 'namely', 'consequences', 'assertion', 'Jenkins', 'Cambridge', 'sponsors', 'chose', 'Home', 'Builders', 'Bricklayers', 'Allied', 'Craftsmen', 'insinuating', 'self-serving', 'crusade', 'greed', 'motive', 'desire', 'subscribe', 'YMCA', 'YWCA', 'Catholic', 'Charities', 'USA', 'nonprofit', 'participated', '203', 'underwent', 'examinations', 'Choose', 'deprived', 'families', 'predict', 'Thunderbird', 'substitute', 'Chivas', 'Regal', 'phobias', 'depressions', 'Ruth', 'Cullowhee', 'ROGERS', 'COMMUNICATIONS', '175', '148.9', '153.3', 'placement', 'perpetual', 'Perpetual', 'retractable', 'Rogers', 'B', 'conversion', 'cable', 'coupon', 'leveraged', 'buy-outs', 'undesirable', 'intrusion', '300-113', 'supporters', 'override', 'brakes', 'impede', 'Hammerschmidt', 'Ark', 'Works', 'impaired', 'diminished', 'airline-related', 'overriding', 'benefit', 'amendment', 'DeFazio', 'criteria', 'Traficant', '271-147', 'occasionally', 'dubbed', 'labor-backed', 'two-time-losers', 'Lorenzo', 'Follow-up', 'Voice', 'text', 'broadcasting', 'tune', 'extensive', 'reporter', 'scholar', 'broadcasts', 'ordinary', 'democracy', 'cousins', 'hither', 'yon', 'censorship', 'outrageous', 'propaganda', 'propagandize', 'neat', 'propagandizes', 'speeches', 'briefings', 'tours', 'facilities', 'publications', 'sorts', 'Propaganda', 'beauty', 'enables', 'hear', 'mind', 'viewing', 'dissemination', 'absurd', 'inform', 'columns', 'clipped', 'refrigerator', 'facts', 'languages', 'listeners', 'first-rate', '184', '*-30', '1948', 'scholars', 'reporters', 'texts', 'VOA', 'copying', 'How', 'copy', 'photocopying', 'short-wave', 'transcribe', 'Nor', 'reprint', 'Des', 'Moines', 'happened', 'USIA', 'absolute', 'disseminate', 'scholarly', 'McCormick', 'memo', 'intend', 'preclude', 'plaintiffs', 'disseminating', 'domestically', 'mentioned', 'notwithstanding', 'statutory', 'designations', 'credentials', 'appearing', 'requesting', 'examine', 'verbatim', 'determine', 'helpful', 'disagreed', 'Amendment', 'proscribes', 'abridging', \"O'Brien\", 'prescribe', 'duty', 'assure', 'scripts', 'laboriously', 'surreptitiously', 'Xerox', 'public-relations', 'sends', 'stuff', 'conclude', 'Section', '501', 'Educational', 'shall', 'thanks', 'photocopy', 'trivial', 'ought', 'answered', 'Z.', 'Wick', 'Gartner', 'Tribune', 'Ames', 'Gordon', 'McGovern', 'Dorrance', 'wield', 'reshaping', 'Herbert', 'Baum', '53-year-old', 'Edwin', 'Harper', 'dividing', 'responsibilities', 'successor', 'searching', 'food-industry', 'reacted', 'favorably', '3.375', '47.125', 'McMillin', 'Prudential-Bache', 'oriented', 'distant', 'foods', 'Freshbake', 'biscuit', 'operation', 'Lazzaroni', 'overproduction', 'skill', 'seasoned', 'rapport', 'Pepperidge', 'Farm', 'veteran', 'mediocre', 'dominated', 'heirs', 'pushed', 'profitability', '343', 'closing', 'eliminating', '3,600', 'disappointing', 'impatient', 'CEO', 'succession', 'retirement', 'agenda', 'repeatedly', 'stay', '877,663', 'pension', '244,000', 'fringe', 'nine-year', '5.7', '2.8', '274', 'advocated', 'convince', 'worthiness', 'tremendous', 'duo', 'naming', 'bottom-line', 'applaud', 'exuded', 'champions', 'sitting', 'guide', 'PRIME', 'RATE', 'FUNDS', 'overnight', 'Source', 'Fulton', 'Prebon', 'U.S.A', 'DISCOUNT', 'depository', 'CALL', 'MONEY', 'collateral', 'COMMERCIAL', 'PAPER', 'Motors', 'Acceptance', '8.55', '8.25', '89', '119', '149', '7.80', '7.55', '270', 'High-grade', 'unsecured', 'multiples', '8.65', '8.575', '8.50', 'CERTIFICATES', 'OF', 'DEPOSIT', '8.07', '8.06', '7.95', 'negotiable', 'C.D.s', 'Typical', '8.60', '8.35', 'BANKERS', 'ACCEPTANCES', '8.48', '8.30', '8.15', 'Negotiable', 'bank-backed', 'LONDON', 'LATE', 'EURODOLLARS', '13\\\\/16', '11\\\\/16', '7\\\\/16', '3\\\\/8', 'INTERBANK', 'OFFERED', 'RATES', 'LIBOR', 'quotations', 'FOREIGN', '13.50', '4.875', 'Switzerland', 'indications', 'lending', 'location', 'TREASURY', 'BILLS', 'Results', '7.78', '7.62', 'HOME', 'LOAN', 'MORTGAGE', 'CORP', 'Freddie', 'Mac', 'Posted', '9.82', 'mortgages', 'adjustable', 'Telerate', 'NATIONAL', 'ASSOCIATION', '9.75', '8.70', '6\\\\/2', 'MERRILL', 'LYNCH', 'READY', 'ASSETS', 'TRUST', '8.64', 'Annualized', 'clashed', 'S.I.', 'Newhouse', 'Advance', 'Abrupt', 'departures', 'unheard', 'empire', 'evolved', 'Si', 'Sometimes', 'gut', 'unhappy', '800', 'tenure', 'brilliantly', 'natural', 'enjoyed', 'spectacular', 'smoothly', 'succeeded', 'Bennett', 'Cerf', '1925', 'Speculation', 'Possible', 'Susan', 'Petersen', 'Ballantine\\\\/Del', 'Rey\\\\/Fawcett', 'paperback', 'Cheetham', 'Century', 'Hutchinson', 'powerhouse', 'Gottlieb', 'Alfred', 'Knopf', 'Yorker', 'most-likely-successor', 'Joni', 'Evans', 'recruited', 'Sonny', 'Mehta', 'divisions', 'full-time', 'less-than-brilliant', 'rumored', 'tall', 'respected', 'intimidate', 'uttering', 'Provided', 'pretext', 'guarding', 'purse', 'prerogatives', 'specified', 'Article', 'species', 'predicated', 'interpretation', 'clause', 'erroneous', 'unconstitutional', 'Consequence', 'Law', 'omnipresent', 'conceivable', 'withhold', 'Iran-Contra', 'understand', 'broadly', 'construed', 'emasculate', 'presidency', 'swallow', 'separation', 'powers', 'supported', 'framers', 'Constitutional', 'Convention', '1787', 'ensure', 'accountability', 'unitary', 'independence', 'perform', 'Confederation', 'Articles', 'contradict', 'technically', 'limitation', 'placing', 'leash', 'deliberating', 'breathtaking', 'rewrite', 'containing', 'alternatively', 'declaring', 'intrusions', 'violation', 'void', 'severable', 'appointments', 'nominate', 'Advice', 'Consent', 'appoint', 'ambassadors', 'empowers', 'recess', 'Power', 'Vacancies', 'Recess', 'granting', 'Commissions', 'End', 'Session', '605', 'appropriation', 'filling', 'nomination', 'Thus', 'repeals', 'imposes', 'choosing', 'rider', 'nominee', 'Anti-Deficiency', 'voluntary', 'muzzling', 'recommendation', 'Muzzling', 'blindfold', 'recommending', 'discretion', 'select', 'inquiring', 'market-oriented', 'regulations', 'Probably', 'egregious', 'proviso', 'prevents', 'Office', 'Budget', 'subjecting', 'agricultural', 'cost-benefit', 'inherently', 'prohibiting', 'wasted', 'Perhaps', 'illustrates', 'usurp', '609', 'executive-office', 'implement', 'administer', 'disapproved', '*-58', 'disapproval', 'duly', 'accordance', 'applicable', 'execution', 'one-house', 'bicameral', 'presentation', 'signature', 'INS', 'v.', 'Chadha', 'vetoes', 'kinds', 'discharge', 'invite', 'purposes', 'custom', 'undo', 'then-Speaker', 'Mikhail', 'Gorbachev', 'ratified', 'SALT', 'unworkable', 'unfunded', 'assert', 'excision', 'restricting', 'expressly', 'Excision', 'riders', 'trespass', 'prerogative', 'line-item', 'context', 'characterized', 'constitutional', 'objectionable', 'conflict', 'applicability', 'item', 'exerting', 'downside', 'asserts', 'establish', 'sue', 'vindication', 'entrusted', 'loses', 'Morrison', 'Olson', 'electorate', 'valuable', 'civics', 'presumes', 'Federalist', 'legislature', 'extending', 'impetuous', 'vortex', 'Sidak', 'analysis', 'Duke', 'droughts', '59.9', '57.7', 'farmers', 'pockets', 'deducting', 'gross', 'drought', 'crop', 'farm', 'Midwestern', 'Corn', 'northern', 'Plains', 'saved', 'reclaim', 'crops', 'mortgaged', 'price-support', 'soaring', 'reclaimed', '240-page', 'parched', 'profited', 'hardest-hit', 'Nebraska', 'Dakotas', 'attributed', 'disaster-assistance', 'confirms', 'depression', 'helps', 'reluctance', 'lobbies', 'curtailed', 'land-idling', 'price-depressing', 'surpluses', 'wheat', 'corn', 'strengthened', 'Keith', 'Collins', 'Farmers', 'livestock', 'cattle', 'inventory', 'agriculture', '6.5', '3.4', 'Minnesota', '2.7', 'log', 'disaster', 'relief', 'farms', 'cultivation', 'soybeans', 'cushioned', '14.5', '16.7', 'Payments', 'struggling', 'Herald', 'Examiner', 'Hearst', 'unsuccessful', '238,000-circulation', 'exceeding', '700,000', 'second-largest', 'one-newspaper', 'senses', 'Times', 'dominates', 'Orange', 'Register', '300,000', '170,000', 'Nearby', 'Pasadena', 'Long', 'Beach', 'dailies', 'attempted', 'McCabe', 'materialized', 'stream', 'tire-kickers', 'lookee-loos', 'prospective', 'newsstand', 'freeway', 'inevitable', 'sprawling', 'balkanized', 'mammoth', 'limbo', 'torn', 'editorially', 'old-time', 'readership', 'blue-collar', 'sports-oriented', 'sprightly', 'upscale', 'staid', 'flirted', 'tabloid', 'News-American', 'folded', 'Herald-American', 'cornerstones', 'abandoned', 'marginally', 'fanciful', 'Julia', 'castle', 'Simeon', 'Spanish', 'Renaissance-style', 'condition', 'survivor', 'bygone', 'Kendrick', 'Noble', 'Actually', 'deterioration', 'looks', '1903', 'bitter', 'decade-long', '1967', 'Financially', 'recovered', 'moments', 'Bellows', 'brightened', 'Dolan', 'restored', 'limping', 'accomplishments', 'notable', 'consistently', 'much-larger', 'disclosures', 'Bradley', 'dealings', 'coverage', 'arts', 'criticism', 'Danzig', 'Newspapers', 'newsroom', '730', 'long-tenured', 'Hours', 'representatives', 'recruiting', 'emotional', 'crying', 'L.A.', 'headline', 'beers', 'drunk', 'Andy', 'Furillo', 'preference', 'Outside', 'pressman', 'headlined', 'Closes', 'Forget', 'handed', 'Olympia', 'Broadcasting', '1.64', '23.4', 'radio-station', 'programmer', 'lenders', 'Buick', 'slogan', 'beleaguered', 'promotion', 'boosting', 'encouraging', 'four-day', 'begun', 'explaining', 'disclose', 'approached', 'doctor', 'broaden', 'Traditionally', '*-66', 'entertainment', 'Phillip', 'Riese', 'car-care', 'gasoline', 'truth-in-lending', 'GM', 'GMAC', 'billing', 'considers', 'direct-mail', 'marketers', 'maximize', 'capability', 'nameplate', 'screened', 'card-member', 'incomes', 'missed', '3.8', 'preapproved', '6.9', 'Visa', 'cards', 'tie-in', 'Express-Buick', 'establishment', 'responsible', 'accommodations', 'tickets', 'meals', 'Destinations', 'Honolulu', 'Orlando', 'buyer', 'chooses', 'fly', 'destination', 'companion', 'Airlines', 'lieu', 'prizes', 'clock', 'stereo', 'recorder', 'Card', 'sweepstakes', 'test-drive', 'calculator', 'travel-related', 'round-trip', 'Trans', 'Riviera', 'luxury', 'interest-rate', 'borough', 'cancellation', 'Borough', 'Hammersmith', 'Fulham', 'gilt', 'recovering', 'Gilts', 'retraced', '600', 'soured', 'accounted', 'sterling', 'engage', 'betting', 'obligated', 'swaps', 'Hazell', 'auditor', 'councils', 'vested', 'capital-markets', 'persuasive', 'solicitor', 'Already', 'Barclays', 'Midland', 'Citibank', 'avenues', 'illegality', 'recover', 'arrangements', 'aftermath', 'gut-wrenching', '190-point', 'Kidder', 'Peabody', '1,400', 'stockbrokers', 'letter-writing', 'quashing', 'wrath', 'minicrash', 'shaken', 'resentment', 'lightning-fast', 'baskets', 'reeling', 'reap', 'academics', 'labeled', 'evil', 'exacerbated', 'ascendency', 'Guard', 'consisting', 'wizards', 'immense', 'pools', 'fast-growing', 'Defending', 'ramparts', 'stock-picking', 'tens', 'clannish', 'successfully', 'mobilizing', 'bludgeon', 'tormentors', 'layer', 'gigantic', 'crapshoot', 'refuse', 'practitioners', 'broad-based', 'livelihood', 'Neuberger', 'Berman', 'racket', 'palace', 'revolt', 'Wohlstetter', 'Contel', 'rallying', 'anti-program', 'countless', 'universally', 'Kill', 'consistent', 'wedded', 'waited', 'sneaked', 'conceding', 'headed', 'curbed', 'casino', 'civil', 'contradictions', 'pitting', 'floors', 'Corporations', 'denounce', 'premier', 'entrenched', 'tooth', 'nail', 'basket', 'facilitate', 'Again', 'theme', 'greedy', 'manipulators', 'shambles', 'free-enterprise', 'gambling', 'den', 'odds', 'stacked', 'Off-Track', 'Betting', 'Brean', 'portray', 'old-fashioned', 'pickers', 'Neanderthals', 'witches', 'boogieman', 'Advanced', 'unknown', 'beg', 'computer-assisted', 'momentary', 'divergence', 'occurs', 'constitute', 'whichever', 'cheaper', 'seconds', 'razor-thin', 'seize', 'movements', 'profess', 'despise', 'frightened', 'lotter', 'Zicklin', 'iota', 'Vanderbilt', 'Hans', 'Stoll', 'Volatility', 'unraveling', '6.79', 'UAL', 'Unable', 'unload', 'takeover-stock', 'arbitragers', 'blue-chip', 'halted', 'Del', 'Signore', 'Travelers', 'speculator', 'arbs', 'overleveraged', 'apart', 'traditionalists', 'bundles', 'derisively', 'jockeys', 'Traditional', 'manage', 'benchmarks', 'old-style', 'juggle', 'indexers', 'pennies', 'pension-fund', 'automated', 'threatens', 'dinosaurs', 'stock-specialist', 'virtue', 'monopoly', 'knell', 'nonetheless', 'striving', 'dislike', 'printers', 'spooked', 'swings', 'Small', 'absolutely', 'dismayed', 'stacking', 'deck', 'scaring', 'Raymond', 'broker', 'Legg', 'Stockbrokers', '71,309', 'resent', 'transformed', '*-75', 'nameless', 'Index', 'complains', 'Sigler', 'Champion', 'sweatshirts', 'sparkplugs', 'Oh', 'bloods', 'Brothers', 'publicity', 'orchestrated', 'strategy', 'hunker', 'lynch-mob', 'psychology', 'cow', 'gored', 'proven', 'Too', 'fastest-growing', 'minted', 'millionaires', '20s', '30s', 'anti-programmers', 'thunder', 'Sit', 'jeopardy', 'unlikely', 'anytime', 'genie', '*-77', 'Short', 'middle-ground', 'enjoy', 'margin', 'good-faith', 'potentially', 'speculative', 'chase', 'Crash', 'protects', 'relentlessly', 'sellers', 'destroy', 'efficiency', 'Fundamentalists', 'Jihad', 'stock-price', 'band-wagon', 'picks', 'impetus', 'practiced', 'locations', 'widgets', 'widget', 'constantly', 'performing', 'Few', 'index-fund', 'leveraging', 'owning', 'cheapest', 'fundamental', 'vast', 'fundamentalist', 'contribute', 'hysteria', 'surrounding', 'opportunities', 'arise', 'cumbersome', 'desires', 'inefficiencies', 'evolve', 'creature', 'evoking', 'curses', 'implemented', 'unneeded', 'harmful', 'Reducing', 'sufficient', 'Arbitrage', 'responds', 'initiating', 'transfers', 'functioning', 'fundamentally', 'ownership', 'hypothetical', 'sacrifice', 'subtraction', 'finite', 'liquidity', 'Eliminate', 'cleaner', 'loathsome', 'tablets', 'Encouraging', 'cautious', 'labeling', 'Policies', 'akin', 'Buyers', 'please', 'ultimate', 'sufficiently', 'tolerate', 'annualized', 'deviation', 'Periods', 'advent', 'undergoing', '1973-75', '1937-40', '1928-33', 'scream', 'hailing', 'abounding', 'Could', 'deeds', 'goblins', 'fixes', 'whipping', 'boy', 'wooing', 'stock-selection', 'bringing', 'damaging', 'Getting', 'abolishing', 'merits', 'championing', 'loudest', 'cater', 'advise', 'commissions', 'amass', 'somehow', 'noble', 'expert', 'studiously', 'devouring', 'clippings', 'Almost', 'guy', 'invariably', 'spreads', 'surely', 'mutual-fund', 'sad', 'stellar', 'performers', 'grapple', '*PPA*-3', 'Cost-effective', 'sexy', 'roadblock', '*-82', 'high-volume', 'Legislating', 'Left', 'profitably', 'Spreads', 'temporary', 'watchdogs', 'friction', 'two-tiered', 'taxation', 'etc.', 'loser', 'inviting', 'transfer', 'executes', 'antitrust', 'agencies', 'affect', 'filings', 'mergers', 'Brooks', 'cuts', 'FTC', 'augment', 'Rill', 'Antitrust', 'Division', '34', 'appropriated', 'offsetting', 'Hart-Scott-Rodino', 'notify', 'completing', 'Proponents', 'Don', 'Edwards', 'stifle', 'staffs', 'drastically', 'dismal', 'inhibit', 'Though', 'acquirers', 'noticed', 'FALL', 'BALLOT', 'ISSUES', 'off-year', 'Odd-year', 'ballot', 'ratcheting', 'referenda', 'Patrick', 'McGuigan', 'Family', 'Democracy', 'citizen-sparked', 'ballots', 'odd-year', 'Ballot', 'Maine', 'initiative', 'Cruise', 'missiles', 'Dakota', 'Schmidt', 'Citizen', 'Lawmakers', 'Oklahoma', 'cue', 'backing', 'Magleby', 'Brigham', 'PHOTOGRAPH', 'COLLECTING', 'Christie', 'folio', 'prints', 'Stieglitz', 'Equivalents', '396,000', 'single-lot', 'variables', 'documented', 'anecdotal', 'Gates-Warren', 'Sotheby', 'museums', 'stability', 'Persky', 'Photograph', 'Collector', 'masters', 'Ray', 'fetching', 'Miles', 'Barth', 'Photography', 'DIALING', 'million-a-year', 'Joel', 'Gross', 'caller', 'celebrity', 'chatter', 'horoscopes', 'lines', 'Andrea', 'tutorials', 'Colleges', 'eyeing', 'break', 'merchandising', 'migrate', 'predicts', 'Lawless', 'US', 'Sprint', 'FAMILY', 'PETS', 'recovery', 'patients', 'Hospital', 'Milwaukee', 'Patients', 'canine', 'feline', 'blood', 'appetite', 'receptive', 'therapy', \"O'Loughlin\", 'coordinator', 'TIRED', 'TRIMMING', 'Hammacher', 'Schlemmer', 'fiber-optic', 'Christmas', 'string', '6,500', 'continuously', 'colored', 'fiber-end', 'bunches', 'MEDICINE', 'TRANSPLANT', 'prompts', 'Israel', 'bilingual', 'Funded', 'Tokio', 'Marine', 'Fire', 'follow', 'protocols', 'preventative', 'DIAPER', 'SERVICES', 'comeback', 'Concerned', 'shrinking', 'landfills', 'super-absorbent', 'disposables', 'cloth', 'diaper', 'Tiny', 'Tots', '1,200', 'Mogavero', 'Piscataway', 'Syracuse', 'DyDee', 'stresses', 'awareness', 'day-care', 'spurned', 'Diaper', '672', 'inquiries', 'Elisa', 'Hollis', 'shortages', 'Stork', 'Springfield', 'spurring', 'Velcro', 'fasteners', 'pins', 'BRIEFS', '57.6', 'Yorkers', 'viewership', 'Impact', 'Columbus', 'FreudToy', 'pillow', 'likeness', 'Sigmund', 'Freud', 'marketed', '24.95', 'tool', 'do-it-yourself', 'Egnuss', 'doubts', 'echoed', 'quantity', 'heading', 'blames', 'overvalued', 'junk', 'Arighi', 'interior', 'decorator', 'Arnold', 'spook', 'creates', 'deviant', 'inherent', 'curbing', 'darned', 'Schwab', 'Buckhead', 'skepticism', 'Citing', 'Anderson', '59-year-old', 'fluctuations', 'heebie-jeebies', 'outlawing', 'Wamre', '31-year-old', 'disappear', 'dealing', 'decries', 'limiting', 'strictly', 'denouncing', 'capitalism', 'adapting', 'Britta', '25-year-old', 'factoring', 'immune', 'rigors', 'Silverman', 'insurance-company', 'culprit', 'Arbitraging', 'leery', 'Enzor', 'defends', 'Taccetta', 'accountant', 'recouped', 'flim-flammery', 'weather', 'storm', 'Lucille', 'Gorman', '84-year-old', 'housewife', 'amazingly', 'jolts', 'hunted', 'bargains', 'sky', 'wholesaler', 'spirits', 'corporation', 'Underwood', 'Underwoods', 'Researchers', 'Laboratories', 'current-carrying', 'superconductor', 'crystals', 'crystal-lattice', 'superconductors', 'amps', 'centimeter', 'moderately', 'magnetic', 'yttrium-containing', 'cooled', 'liquid-nitrogen', 'temperature', '321', 'Fahrenheit', 'journal', 'Nature', 'wires', 'motors', 'magnets', 'generators', 'Scientists', 'Superconductors', 'ceramic', 'technologies', 'generation', 'aspect', 'overcome', 'cautioned', 'van', 'Dover', 'multi-crystal', 'samples', 'practical', 'crystal', 'bombarding', 'neutrons', 'radioactivity', 'feasible', 'large-scale', 'breathed', 'collective', 'sigh', 'demonstrates', 'flux', 'pinning', 'undercutting', 'Determining', 'enable', 'combine', 'melt-textured', 'processes', 'Walbrecher', 'Francisco-based', '1st', 'Nationwide', 'Citadel', 'Fidelity', 'Taylor', 'versus', '5.3', '1.61', 'write-downs', 'after-tax', '4.9', '45.75', 'offerings', 'pricings', 'non-U.S.', 'syndicate', 'Markets', '750', '99', '8.467', 'non-callable', '57', '1\\\\/8', 'bellwether', 'Rated', 'triple-A', 'Moody', 'obligation', 'distributable', '1991-2000', '2009', 'tentatively', '6.20', '7.272', '81.8', '7.20', 'Serial', '2000', 'insured', 'triple-A-rated', 'Ana', 'Community', 'Redevelopment', '107', 'allocation', 'A-D', '1991-1999', '6.40', '7.458', '7.422', '7.15', 'rated', 'single-A', 'underwriter', 'Housing', '80.8', '6.25', '7.74', '2029', '30.9', '1992-1999', '2017', 'Fourth', 'serial', '7.40', '7.45', '7.50', '49.9', '2005', 'Bonds', '7.65', 'double-A', 'rating', 'Heiwado', 'Eurobonds', 'equity-purchase', 'indicating', 'Fees', 'Svenska', 'Intecknings', 'Garanti', 'Aktiebolaget', 'Sweden', '1994', '6.03', 'Handelsbanken', 'Takashima', 'Swiss', 'francs', 'Yamaichi', '3.43', 'franc', 'Pencil', '106', '3.42', 'Koizumi', 'Sangyo', '1996', 'Dai-Ichi', 'Kangyo', 'Schweiz', 'Guarantee', 'Lurie', 'avid', 'fan', 'proposition', 'Candlestick', 'wonder', 'sink', 'digs', 'Pretty', 'afford', 'major-league', 'Something', 'stadiums', 'ranging', 'Petersburg', 'boosters', 'complexes', 'moneymakers', 'Pepperdine', 'Dean', 'Baim', 'scoffs', 'looked', 'Dodger', 'Stadium', 'Stadiums', 'redistribute', 'wealth', 'Voters', 'mega-stadium', 'ballpark', 'Phoenix', 'thumbs', 'backers', 'fielded', 'concede', 'polls', 'endorse', 'claimed', 'spaces', 'Dolphins', 'Robbie', 'disagrees', 'city-owned', 'Bowl', 'coliseum', 'Moon', 'Landrieu', 'cavernous', 'money-losing', 'Superdome', 'relevance', 'faith', 'Egyptian', 'Pharaoh', 'justified', 'civilization', 'schemes', 'pharaohs', 'erect', 'playgrounds', 'passions', 'Reed', '89.7', '141.9', 'pence', '94.8', '149.9', '118', '130.6', 'discontinued', 'Pretax', '3.7', '128', '133', '135', '388', '4.6', '722', 'Earnings', 'disposal', 'Risks', 'erodes', 'downgrading', 'CS', 'downgrade', 'shivers', 'shudders', 'maintain', 'issuers', 'IOUs', 'warned', 'borrowings', 'Mahoney', 'Drexel', 'Burnham', 'Lambert', 'difficulty', 'shoring', 'credit-rating', 'financings', 'Whereas', 'structured', 'penchant', 'stretch', 'disarray', 'longer-term', 'delays', 'Bowman', 'downgraded', 'Catch-22', 'Merchant', 'riskier', 'collapse', 'acquires', 'expectation', 'generated', 'overcapacity', 'managements', 'reliance', 'squeeze', 'Campeau', 'proving', 'arranged', 'high-risk', 'Mattress', 'bedding', 'Total', 'Suisse', 'participant', 'rebounding', 'overstated', '1.7', 'goodwill', 'competes', 'disadvantage', 'rivals', 'toll', 'settlements', 'plea', 'felonies', 'insider-trading', 'scandal', 'workforce', 'Recently', 'circulated', 'moreover', 'confident', 'creditworthiness', 'uncertainties', 'vicissitudes', 'Veraldi', 'Taurus', 'Mercury', 'Sable', 'experiencing', 'creator', 'car-development', 'midsized', 'instrumental', 'eclipse', 'top-selling', 'Team', 'involvement', 'assembly-line', 'cycle', 'bureaucracy', 'responsive', 'demands', 'new-car', 'Cougar', 'American-made', 'parts-engineering', 'absurdity', 'stretched', 'notch', 'defendants', 'compassion', 'Solomonic', 'stark', 'policy-making', 'innovation', 'compelling', '1940s', 'synthetic', 'hormone', 'diethylstilbestrol', 'DES', 'miscarriages', 'sickness', 'Food', 'Drug', 'generic', 'labels', 'daughters', 'mothers', 'thousand', 'recall', 'brand', 'Beginning', '1980', 'common-law', 'liable', 'Courts', 'pills', 'assessed', 'proportion', 'duck', 'liability', 'identical', 'slippery', 'slope', 'alike', 'differently', 'warranties', 'Hymowitz', 'Lilly', 'Mindy', 'pill', 'Van', 'Alstyne', 'reasoning', 'apple', 'apples', 'uncompensated', 'takings', 'guarantee', 'twisting', 'doctrine', 'reversed', 'justices', 'chilled', 'prescription', 'hidden', 'favors', 'beneficial', 'accompany', 'pain', 'unanimous', 'anti-morning-sickness', 'Bendectin', 'Huber', 'introduces', 'anti-miscarriage', 'tort', 'lousy', 'anyway', 'contingency-fee', 'vaccines', 'predictably', 'Everyone', 'understands', 'utterly', 'incapable', 'deserving', 'billion-dollar', 'morass', 'trash', 'Odyssey', 'Limited', 'Partnership', 'Caldor', 'Norwalk', 'N.V', 'DSM', '235', 'guilders', '113.2', '6.70', '144', '4.10', 'outlay', '2.46', '2.42', 'Allergan', 'PhacoFlex', 'intraocular', 'lens', 'foldable', 'silicone', 'cataract', 'surgery', 'len', 'foldability', 'inserted', 'incisions', 'Cataracts', 'refer', 'clouding', 'EC', 'Ackerman', 'harmed', 'El', 'Salvador', 'intentioned', 'habit', 'wrecking', 'incentives', 'smothering', 'unfocused', 'kindness', 'Elco', 'estimate', '1.65', '7.8', '1.125', '13.625', 'Oshkosh', 'Truck', 'Wis.', '4.5', 'truck', '1.92', '352.9', 'start-up', 'chassis', 'softer', 'motor-home', 'Deere', 'anticipation', 'larger-than-normal', 'edged', 'Nikkei', 'selected', '132', '14.99', '35564.43', '63.79', '35500.64', '909', 'Declining', 'outnumbered', '454', '451', 'incentive-backed', 'rumors', 'untrue', 'ample', 'directionless', 'Institutions', 'sidelines', 'Topix', '16.05', '1.46', '0.05', '2691.19', '6.84', '5.92', '0.16', '3648.82', 'Volume', 'Nomura', '8.5', 'clearer', 'comfortably', 'participate', 'Tokyu', 'profit-taking', 'dominant', 'Yasuda', '56', '1,880', '13.15', 'continuingly', 'directed', 'mining', 'defensive', 'Teikoku', 'stimulated', '1,460', 'Showa', 'Shell', '1,570', 'Sumitomo', 'Metal', '692', 'Nippon', '960', 'winners', 'Shokubai', '2,410', 'Marubeni', '890', 'bolstered', 'affecting', '17.5', '2160.1', 'intraday', '2141.7', '2163.2', 'tempted', 'overdone', 'reversal', 'FT', '30-share', '1738.1', '372.9', '334.5', 'hugging', 'indication', '879', '13.90', 'shed', 'waive', 'protective', 'golden', 'waiver', 'B.A.T', 'Goldsmith', 'Hoylake', 'Investments', '753', 'sweeten', 'highs', '397', 'Stocks', 'market-makers', 'shopping', 'Carlton', '778', 'notched', 'searched', 'qualities', 'Wellcome', '666', 'Glaxo', '14.13', 'Amsterdam', 'Frankfurt', 'Zurich', 'Paris', 'Brussels', 'Milan', 'holiday', 'Elsewhere', 'Wellington', 'Sydney', 'Manila', 'calculated', 'Perspective', 'Geneva', '1969', 'equaling', 'Intermec', '1,050,000', 'Piper', 'Jaffray', 'Hopwood', 'Middlesex', 'Water', '150,000', 'Walker', 'Howard', 'Weil', 'Labouisse', 'Friedrichs', 'Midwesco', 'Filter', '830,000', 'Nylev', 'Municipal', 'Occidental', 'shelf', 'Inns', 'zero', 'Montgomery', 'Fracturing', 'Lovett', 'Mitchell', 'Webb', 'Garrison', 'Blunt', 'Ellis', 'Loewi', 'Gas', '3,250,000', '3,040,000', '210,000', 'Funding', 'Hanifen', 'Imhoff', 'Hold', 'Putty', 'lipsticks', 'liners', 'lotions', 'creams', 'tackle', 'paint', 'spackle', \"D'Amico\", 'Diceon', 'Chatsworth', 'charging', 'Irvine', 'Calif.-based', 'circuit-board', 'disposed', 'acid', 'caustic', 'sewer', 'leaky', 'unlabeled', 'open-top', 'containers', 'Named', 'Roland', 'Matthews', 'Jonas', 'hearings', 'inspection', 'Arraignments', 'Consumer', 'stayed', 'unsettling', 'Fabian', 'Linden', 'Conference', 'Survey', 'industry-supported', 'Confidence', '116.4', 'barely', 'revised', '116.3', '116.9', '112.9', '120.7', 'present', '19.6', '18.3', 'worsen', 'Fewer', '21.1', '16.9', '17.4', '18.6', '26.8', '28.5', 'day-to-day', 'Unemployment', 'paycheck', 'reasonably', 'households', 'conducted', 'Opinion', 'Toledo', 'Buying', '6.7', 'respondents', '8.1', '2.9', '30.6', '27.4', '26.5', 'deluge', 'abuzz', 'Kathleen', 'Camilli', 'fixed-income', 'investment-grade', 'rare', 'Ednie', 'ranked', 'infrequent', 'Syndicate', 'scant', 'Whether', 'Lieberman', 'Hanover', 'blurred', 'Open', '14.', 'varied', 'industries', 'diverse', 'enhances', 'importance', 'tomorrow', 'non-farm', '152,000', 'unemployment', '29year', 'nine-month', '102', '22\\\\/32', '12\\\\/32', '16\\\\/32', 'three-month', '7.79', '7.52', '7.60', 'Issues', 'debenture', 'compilation', 'compare', 'topped', '16.5', 'Junk', '7.2', 'risk-free', 'outdistanced', 'Lonski', 'wanting', '4.2', 'Mortgage-Backed', 'Ginnie', '2\\\\/32', '9.32', '12-year', 'Activity', 'derivative', '114', 'Facilities', 'Financing', 'Authority', 'relaunched', '107.03', 'repriced', 'Bucking', 'drew', 'unenthusiastic', 'Rumors', 'Bund', '111', '1998', '95.09', '5.435', '2003\\\\/2007', '14\\\\/32', '10.19', '1995', '9\\\\/32', '103', '11.10', 'double-C', 'triple-C', 'clothing', 'expense', 'exceeds', 'Hurricane', 'Hugo', '94.2', '83', 'earthquake', 'fourth-quarter', 'pre-tax', 'property\\\\/casualty', '306', '415', 'underperforming', 'Michelin', 'Tyre', 'Monopolies', 'Mergers', 'tires', 'BTR', '221.4', 'S.A', 'referral', '420', 'clean-air', 'unveil', 'centerpiece', 'rain', 'lobbyists', 'weaker', 'emissions', 'utilities', 'chaos', 'single-handed', 'seven-million-ton', 'sulfur-dioxide', 'cap', 'hailed', 'despised', 'innovative', 'market-based', 'polluters', 'cost-sharing', 'subsidize', 'clean-up', 'dirtiest', 'coal-fired', 'sparing', 'exorbitant', 'jumps', 'sticking', 'vow', 'avoiding', 'staunchly', 'acid-rain', 'appease', 'high-polluting', 'cleanup', 'burn', 'cleaner-burning', 'fuels', 'quietly', 'devise', 'tinker', 'Journals', 'Russell', 'resign', 'relocate', 'co-founded', 'Mo.-based', 'Shaw', 'E.W.', 'Scripps', 'nickname', 'coordinate', 'deliberately', 'disconnect', 'heightened', 'routes', 'scans', 'resumes', 'falls', 'DOT', 'Designated', 'Order', 'Turnaround', 'high-speed', 'processing', 'SuperDot', 'Used', 'zip', 'handles', 'Contracts', 'Obligations', 'instrument', 'agreed-upon', 'nullified', 'opposite', 'Indexing', 'mix', 'barometer', 'swapping', 'simultaneous', 'Quant', 'Generally', 'quantitive', 'newest', 'breed', 'rocket', 'backgrounds', 'hedging', 'popularly', 'Stock-index', 'Traders', 'fleeting', 'arbitrager', 'multiplying', '20-stock', 'mimics', 'chicago', 'certin', 'indexes', 'Uptick', 'expression', 'signifying', 'financier', 'Saul', 'Steinberg', 'doubted', 'Reliance', 'labor-management', 'clearance', 'Takeover', 'puzzled', 'definitely', 'Wolf', 'Airways', '300-a-share', '110', '4.7', '282', 'formally', 'twist', 'Coniston', '177', '1.50', 'notified', 'skeptical', 'tapping', 'Tiger', 'acquirer', 'accord', 'pilots', 'machinists', 'A.L.', 'Primerica', 'cleared', '472', 'financial-services', '0.82', 'delisted', '23.25', '28.25', 'Duluth', 'liabilities', 'Intelogic', 'Trace', 'unaffiliated', '3.625', 'Asher', 'Edelman', '16.2', 'computer-services', 'oust', 'Datapoint', 'explore', '2.75', 'specify', 'above-market', '18-a-share', 'p.m.', 'EST', '576', '95', '24,000', 'tendered', '19.50', 'Barron', 'printing-press', 'Beall', 'first-half', 'trail', 'heavy-truck', 'passenger-car', '630.9', '126.1', '132.9', 'prior-year', 'adjustment', 'B-1B', 'bomber', 'sewing-machine', '185.9', '3.28', '3.16', 'Overall', '107.9', '96.4', 'emerged', 'muscling', 'graphics', 'singled', '79', '42.1', 'Colorliner', 'newspaper-printing', 'Aerospace', 'sagged', 'bombers', 'resumption', 'shuttle', 'expendable', 'launch-vehicle', 'engines', 'hits', 'fixed-price', 'weapons-modernization', 'C-130', '734.9', '811.9', '3.04', '2.47', '7.4', '2.30', '12.52', '11.95', 'Austin', 'Texas-based', '210', '512', 'kilobytes', '40-megabyte', 'monitor', '2,099', 'more-advanced', 'Intel', '386', 'microprocessor', 'megabytes', '100-megabyte', '5,699', '6,799', 'Personal', '286', 'microprocessors', 'grower', 'exporter', 'ship', 'Prices', 'rumor', 'Brazilian', 'life-of-contract', '14.54', '14.28', '14.53', '0.56', 'restraints', '0.54', '14.26', 'permissible', '0.50', '14.00', 'near-limit', '1989-90', '1990-91', 'automobile', 'Stevenson', 'regardless', 'third-largest', 'fifth-largest', 'shift', 'drastic', '1988-89', '645,000', 'Judith', 'Ganes', 'granted', 'licenses', 'planting', 'orange', 'trees', 'cane', 'Oxnard', 'Hackensack', 'am', 'curtail', 'Above', 'confirm', 'atmosphere', 'ethanol', 'fleet', 'importer', 'ENERGY', '1.25', '60.36', 'gallon', 'Gasoline', 'Intermediate', '20.07', 'firmness', 'colder', 'GRAINS', 'AND', 'SOYBEANS', 'muted', 'observance', 'Saints', 'Day', 'Continued', 'buys', 'grains', 'verge', 'designation', 'generous', '310', 'bushels', 'COPPER', '1.1650', 'ignored', 'Chilean', 'mine', 'Disputado', 'mines', 'Reuter', 'Papua-New', 'emergency', 'copper-rich', 'Bougainville', 'copper', 'inoperative', 'native', 'landowners', 'secede', 'Younkers', 'Equitable', 'Cos.', '36-store', 'fair', 'rang', '313', 'Hubbell', 'Tony', 'Lama', 'Equus', '13.65', 'all-cash', 'liquidation', 'Paso', 'boots', 'leather', 'accrue', 'Reuters', 'Reupke', 'unspecified', 'termed', 'amicable', '27-year', 'information-services', 'several-year', 'stemmed', 'directorship', 'eight-person', 'Shepperd', 'UBS', 'Drew', 'irrelevant', '913', '14.43', '43.875', 'Nigel', 'Judah', 'Holland', 'Mannix', 'DD', 'partnership', 'Unicorp', 'Kingsbridge', 'Cara', '45-a-share', \"Dunkin'\", 'Donuts', '50.1', 'diluted', 'poison', 'Delaware', 'Dunkin', 'deter', '38.5', 'receipt', 'Savin', '35.2', 'Conn.based', 'magnified', 'nonrecurring', '8.2', 'asset-valuation', 'adjustments', '85.7', '93.3', 'softening', 'Hadson', 'natural-gas', 'reserve', 'reimbursed', 'write', 'exploration', 'amortization', '169.9', 'blue-chips', 'brunt', '41.60', '500-Stock', '0.84', '341.20', 'Equity', '0.99', '319.75', 'Composite', '0.60', '188.84', 'Advancing', 'decliners', '154,240,000', '176.1', 'subdued', 'somewhat', 'arrive', 'firmed', 'faltered', 'pains', 'Philip', 'Puccio', 'Uncertainty', 'Arbitrage-related', 'awaits', 'reluctant', 'stick', 'necks', 'Eakle', 'revival', 'Woolworth', 'Avon', 'Products', 'Paramount', 'Ferro', 'Upjohn', 'early-retirement', 'AMR', 'developer', 'Trump', 'mount', 'withdrew', '120-a-share', 'Derchin', '5.1', 'Mead', '39', 'Paper', 'Louisiana-Pacific', 'Texaco', '5.6', 'ex-dividend', 'Fe', 'GenCorp', 'Value', '1.56', '372.14', '11,390,000', 'Spaghetti', 'Warehouse', 'Freeport-McMoRan', 'convert', 'adverse', 'otherwise', 'Orleans-based', 'yet-to-be-formed', 'entity', 'liquidated', 'distributed', 'unitholders', 'Unitholders', 'cents-a-unit', '108', 'Nissan', '88.32', '618.1', '77.6', 'backdrop', 'continuous', '40.21', '16.09', '28.36', '11.72', '1.916', '1.637', 'seven-yen', 'Atsushi', 'Muramatsu', 'experienced', 'remarkable', 'difficulties', 'firmly', 'Depending', '2.35', '14.75', '1.76', 'in-store', 'customized', 'simulates', 'accident', 'unexpected', 'Fairlawn', 'Ohio-based', 'full-year', '148', '2.19', 'Harry', 'Millis', 'McDonald', 'unanticipated', 'government-owned', 'assembly', 'subcontractor', 'cluster', 'bombs', 'Aerojet', 'Ordnance', 'Transamerica', '93.9', '1.19', '92.9', '1.18', '6.4', 'RMS', 'Hasbrouk', 'waivers', 'distributes', 'produces', 'literature', 'displays', '158,666', '26,956', '608,413', '967,809', '8.9', 'Meridian', '750,000', '1.35', 'multinational', 'Haden', 'MacLellan', 'Surrey', 'Feniger', 'acquisition-minded', 'jeweler', 'Seattle-based', '62.1', 'outbid', 'Ratner', 'mid-afternoon', '1.26', '260', 'acceptances', '87-store', 'derived', 'Carnival', 'Lines', 'cruise', 'Finland', 'averted', 'Miami-based', 'Waertsilae', 'Finnish', 'shipyard', 'shipbuilding', 'Fantasy', '2,050-passenger', 'slated', 'delivered', '12.09', 'Nuys', '132,000', 'write-off', 'capitalized', 'realestate', '6.6', '361.8', 'Peoria', 'adopt', 'Kalamazoo', 'Mich.-based', 'severance', 'staying', 'Coleco', 'high-flying', 'toy', 'peaked', '430', '92', 'reorganized', 'Ranger', '225,000', 'unveiled', 'Adam', 'plagued', 'glitches', 'fortunes', 'bounced', 'Cabbage', 'Patch', 'dolls', 'winner', 'bankruptcy-law', 'ORTEGA', 'ENDED', 'Contras', 'Nicaraguan', 'U.S.-backed', 'rebels', '19-month-old', 'cease-fire', 'reaffirmed', 'Ortega', 'thwart', 'balloting', 'demobilize', 'deplorable', 'brushed', 'renewing', 'insurgents', 'Contra', 'Honduras', 'Sandinista', 'troops', 'offensive', 'rebel', 'Krenz', 'freedoms', 'socialism', 'Communist', 'Party', 'Thousands', 'fled', 'Berlin', 'cross-border', 'massive', 'exodus', 'emigres', 'discussion', 'conferees', 'Africa', 'armed', 'Namibian', 'nationalist', 'guerrillas', 'neighboring', 'Angola', 'violating', 'U.N.-supervised', 'peace', 'territory', 'Pretoria', 'alert', 'Guerrilla', 'sabotage', 'Namibia', 'Gunmen', 'Lebanon', 'assassinated', 'Arabian', 'pro-Iranian', 'Islamic', 'slaying', 'avenge', 'beheading', 'terrorists', 'Riyadh', 'Beirut', 'Moslem', 'implements', 'rulers', 'Salinas', 'pledged', 'modernization', 'impeding', 'Pakistan', 'Bhutto', 'defeated', 'no-confidence', '42-year', '11-month-old', 'votes', 'Islamabad', '237-seat', 'rigged', 'shipboard', 'Malta', '2-3', 'tete-a-tete', 'trafficking', 'Andean', 'coffee', 'Pan', 'Am', 'subpoenaed', 'CIA', 'FBI', 'bomb', 'planted', 'aboard', 'exploded', 'Scotland', 'Died', 'Attwood', 'Mutual', 'acute', 'anemic', 'tendering', '99.3', 'studio', '3.55', '1.4', 'unresolved', 'Jon', 'Peters', 'Guber', 'Guber\\\\/Peters', 'Crum', 'Forster', 'laying', 'centralized', 'cost-cutting', 'comparison', '492', '4.55', '12.97', 'Property\\\\/casualty', 'disasters', 'Komatsu', 'unconsolidated', 'Sept.30', '16.68', '116.7', '12.68', '292.32', '263.07', '7.63', '5.82', 'Per-share', '7.84', '6.53', 'Brisk', 'Domestic', 'bulldozers', '142.84', '126.15', 'Demand', 'climb', '566.54', '28.53', '12.82', 'ECONOMIC', 'GROWTH', 'APPEARS', 'outlays', 'shrank', 'apparent', 'drops', 'crises', '55-a-share', 'minimum-wage', 'resigning', 'depends', 'Light', '1206.26', '220.45', '3436.58', 'Commodities', '129.91', '0.28', '131.01', '1.17', '0.95', '0.0085', 'Junk-bond', 'markdowns', 'fizzled', 'pall', 'high-rolling', '43-year-old', 'Spiegel', '12.7', 'Bears', 'shaky', 'flies', 'planes', 'reaching', 'salable', '458', 'cushion', 'Carl', 'Lindner', 'Irwin', 'Jacobs', 'latter', 'mulling', 'mitigate', 'distinct', 'reserved', '227', 'till', 'issuer', 'bust', 'restructures', 'longtime', 'battered', 'Gillett', 'Possibly', 'unrealized', 'restructurings', 'balloon', 'floated', 'Mellon', 'shopped', 'spun', 'workable', 'capitalize', 'bread-and-butter', 'Jonathan', 'Sanford', 'Pauline', 'Yoshihashi', 'NYSE', 'Symbol', 'CSV', '1.49', 'Third', '11.57', '83,206', 'Note', 'per-share', 'Genetics', 'Interleukin-3', 'bone', 'morphogenetic', 'protein', 'recombinant', 'DNA', 'Sandoz', 'preclinical', 'treating', 'marrow', 'blood-cell', 'protein-1', 'induce', 'formation', 'cartilage', 'BMP-1', 'proteins', 'compositions', 'defects', 'BMP', 'fracture', 'healing', 'periodontal', 'cancers', 'Clarence', 'qualified', 'Judiciary', 'liberal', 'Equal', 'Employment', 'Opportunity', 'Groups', 'advocating', 'narrowed', 'discrimination', 'Fourteen', 'jurisdiction', 'EEOC', 'judgment', 'Runkel', 'nominees', 'satisfactorily', 'bench', 'vacancy', 'Metallgesellschaft', 'Lentjes', 'Ferdinand', 'Germany-based', 'specialized', 'boilers', 'pipes', 'Lurgi', 'G.m.b', 'shedding', '434.4', 'backlog', 'rulings', 'anti-dumping', 'sweaters', 'injuring', 'investigate', 'sweater', 'defines', 'ITC', 'assess', 'apparel', 'agreements', 'manmade-fiber', '405', 'Wilmington', 'neoprene', 'rubber', '1,100', 'implementation', 'Theodore', 'headcount-control', 'questioned', 'Gelles', 'Wertheim', 'Schroder', 'trim', '275', '350', '21,000', '87.5', '38.875', 'bidder', 'shareholder-rights', 'unwanted', 'suitors', 'cost-control', 'staff-reduction', 'trimmed', 'INTER-TEL', 'Chapman', 'WayMar', 'Feeding', 'Frenzy', 'Holt', '326', '19.95', 'Wedtech', 'reassuring', 'preface', 'co-author', 'Sternberg', 'integrity', 'trip', 'mindful', 'plaintive', 'high-minded', 'assurance', 'sticky', 'fingers', 'sweaty', 'scammers', 'Bribe', 'bribe', 'Matthew', 'Harrison', 'path', 'traveled', 'inception', 'full-fledged', 'vital', 'Army', 'revolves', 'Mariotta', 'rolling', 'Johnson-era', 'mandates', 'noncompetitively', 'ancestry', 'born', 'Puerto', 'Rico', 'falsify', '50\\\\/50', 'races', 'minority-owned', 'blighted', 'famous', 'Jimmy', 'Carter', 'plugged', 'rebuilding', \"'80s\", 'Starting', 'Congressman', 'Mario', 'Biaggi', 'sentence', 'bribing', 'Wallach', 'Attorney', 'Meese', 'fashioned', 'bribery', 'peddling', 'politically', 'respectable', 'confidant', 'Lyn', 'Nofzinger', 'bribed', 'corrupt', 'scheme', 'bag', 'crook', 'befell', 'semiliterate', 'sensational', 'revelations', 'breezy', 'easy-to-read', 'gripping', 'scams', 'ingenuity', 'Auditors', 'crookery', 'garden-variety', 'lifes', 'Mercedes', 'clothes', 'wrestling', 'intelligent', 'insane', 'Irving', 'Lobsenz', 'pediatrician', 'Rusty', 'gambler', 'blackjack', 'arrested', 'Absorbed', 'doling', 'tidbits', 'gloss', 'root', 'auspices', 'rigid', 'affirmative', 'Programs', 'expressing', 'thieves', 'Numerous', 'scandals', 'HUD', 'characteristics', 'tailor-made', 'insider', 'whenever', 'redistributing', 'influencing', 'brokering', 'bloc', 'Nomenklatura', 'Stern', 'Urban', '1983-85', 'bankrupt', 'Oy', 'Everything', 'Andersson', 'finalized', 'state-appointed', 'receivers', 'lease', 'Subcontractors', 'swift', 'avert', 'skilled', 'shipyards', 'injecting', 'markkaa', 'Customers', 'undelivered', '170', 'Helsinki', 'dashed', 'repay', 'Nichol', 'Karns', 'Concurrent', 'Norfolk', 'sputtered', 'Ralston', 'Purina', 'pet', '45.2', '84.9', '1.24', '422.5', '6.44', '387.8', '5.63', '70.2', 'seafood', '5.8', 'phase-out', 'battery', 'Hostess', 'cake', 'bakery', 'rechargeable', 'cadmium', 'carbon', 'zinc', 'ingredients', 'cereal', 'Continental', 'Baking', 'bread', 'Eveready', '80.50', 'Companies', 'five-cent', 'percent', 'Otherwise', '300-day', '55.1', 'cash-and-stock', 'Ravenswood', 'corn-buying', 'binge', 'bottlenecks', 'pipeline', 'exporters', 'river', 'barges', 'trains', 'harvested', 'ports', 'loading', 'barge', 'Railroad', 'reaping', 'windfall', 'gyrate', 'scrounge', 'strain', 'Mississippi', 'Dunton', 'upper', 'trimming', 'tows', 'south', 'Corps', 'Engineers', 'Missouri', 'feeds', 'reservoirs', 'Barge', 'sank', 'alleviate', 'slowed', 'Similar', 'hamstrung', 'budding', 'logistical', 'bushel', '2.375', 'harvest', 'rebuild', 'stockpiles', 'depleted', 'winding', 'speculating', 'gather', 'storage', 'permits', '2.15', 'Lyle', 'Waterloo', 'one-fifth', 'Biedermann', 'Allendale', 'port', 'Ports', 'Lakes', 'Coast', 'relieve', 'hauling', 'compressed', 'delayed', 'refinery', 'tightening', 'Heating', '58.64', '19.94', 'sell-off', 'PRECIOUS', 'METALS', '3.20', '377.60', 'silver', '6.50', '5.2180', 'platinum', '5.70', '494.50', 'Precious', 'influenced', \"O'Neill\", 'Elders', 'equities', 'Silver', 'warehouses', '170,262', '226,570,380', 'miners', '1.20', '1.14', 'Bronces', 'Soldado', 'Exxon-owned', 'Minera', 'Disputada', 'Reasons', 'walkout', 'procedural', 'metal', 'upbeat', 'mood', 'precedes', '51.6', 'readings', '47.1', 'NCR', 'Tower', 'midrange', 'networking', 'hub', 'Novell', 'NetWare', 'riding', 'industrywide', 'chunks', 'Marcus', 'appliance', 'steelmakers', 'Lorain', '50-50', 'Kobe', 'earning', 'Bethlehem', '54', 'Inland', 'plummeted', '34.625', 'exceeded', 'projections', 'Bradford', 'richer', 'pipe', 'galvanized', 'coated', 'lower-priced', 'structural', 'Marathon', '198', 'soliciting', 'TXO', 'Proceeds', '15.5', '257', 'Icahn', '13.1', '721', '2.62', '598', '2.07', 'Barrett', 'Leon', 'Level', 'McFarlan', 'DiLoreto', 'container', 'Delmont', 'constitutional-law', 'Professors', 'Kurland', 'Laurence', 'Tribe', 'procedure', 'scuttle', 'implicitly', 'Kennedy', 'professors', 'spectrum', 'authorizes', 'partial', 'Civil', 'shared', 'lawmaking', 'supports', 'reckless', 'Trinity', 'railcar', 'platforms', 'Trailer', 'Train'])"
      ]
     },
     "execution_count": 11,
     "metadata": {},
     "output_type": "execute_result"
    }
   ],
   "source": [
    "vocab1 = dist.keys() #liste şeklinde unique kelimeleri vocab1 degiskenine ata\n",
    "vocab1"
   ]
  },
  {
   "cell_type": "code",
   "execution_count": 12,
   "metadata": {},
   "outputs": [
    {
     "data": {
      "text/plain": [
       "['Pierre', 'Vinken', ',', '61', 'years', 'old', 'will', 'join', 'the', 'board']"
      ]
     },
     "execution_count": 12,
     "metadata": {},
     "output_type": "execute_result"
    }
   ],
   "source": [
    "list(vocab1)[:10] #ilk 10 kelimeyi listele"
   ]
  },
  {
   "cell_type": "markdown",
   "metadata": {},
   "source": [
    "<h3><ins>İstenilen Kelimenin Frekansını Bulma<ins></h3>"
   ]
  },
  {
   "cell_type": "markdown",
   "metadata": {},
   "source": [
    "Bunun için NTLK kütüphanesinde yer alan <b>dist metodunu</b> kullanmamız gerekmektedir."
   ]
  },
  {
   "cell_type": "code",
   "execution_count": 13,
   "metadata": {},
   "outputs": [
    {
     "data": {
      "text/plain": [
       "20"
      ]
     },
     "execution_count": 13,
     "metadata": {},
     "output_type": "execute_result"
    }
   ],
   "source": [
    "dist['four'] #four kelimesinin frekansını bulma"
   ]
  },
  {
   "cell_type": "code",
   "execution_count": 14,
   "metadata": {},
   "outputs": [
    {
     "data": {
      "text/plain": [
       "['billion',\n",
       " 'company',\n",
       " 'president',\n",
       " 'because',\n",
       " 'market',\n",
       " 'million',\n",
       " 'shares',\n",
       " 'trading',\n",
       " 'program']"
      ]
     },
     "execution_count": 14,
     "metadata": {},
     "output_type": "execute_result"
    }
   ],
   "source": [
    "freqwords = [w for w in vocab1 if len(w) > 5 and dist[w] > 100] #5 karakterden uzun frekansı 100'den fazla olan kelimeleri yaz\n",
    "freqwords  "
   ]
  },
  {
   "cell_type": "markdown",
   "metadata": {},
   "source": [
    "<h2 align=\"center\">Normalleştirme ve Kök Bulma (Normalization and Stemming)</h2>"
   ]
  },
  {
   "cell_type": "markdown",
   "metadata": {},
   "source": [
    "Cümlelerin içinde kullanılan kelimeler her zaman yalın halde kullanılmaz. İngilizce üzerinden gidersek eğer, kelimeler \n",
    "kullanıldıkları zaman kavramına göre belli ekler almaktadır. Bu kelimelerin köklerini bulmak için öncelikle cümle normalleştirilip\n",
    "daha sonra kök bulma işlemine tâbi tutulur."
   ]
  },
  {
   "cell_type": "markdown",
   "metadata": {},
   "source": [
    "Köklerin bulunması için öncelikle tüm kelimelerin küçük harf karakteriyle başlaması gerekmektedir. Cümle başlangıcında yer alan \n",
    "kelimeler genellikle büyük harfle başladığı için öncelikle aşağıdaki gibi tüm cümle küçük harfe çevrilir."
   ]
  },
  {
   "cell_type": "code",
   "execution_count": 15,
   "metadata": {},
   "outputs": [
    {
     "data": {
      "text/plain": [
       "['list', 'listed', 'lists', 'listing', 'listings']"
      ]
     },
     "execution_count": 15,
     "metadata": {},
     "output_type": "execute_result"
    }
   ],
   "source": [
    "input1 = \"List listed lists listing listings\"\n",
    "words1 = input1.lower().split(' ') #tum cumleyi kucuk harfe cevir ve bosluk karakterine gore ayir\n",
    "words1"
   ]
  },
  {
   "cell_type": "markdown",
   "metadata": {},
   "source": [
    "Çevirme işlemi tamamlandıktan sonra NLTK Kütüphanesinde yer alan <b>PorterStemmer metodu</b> ile tum kelimeler bir liste atılır.\n",
    "Daha sonra listenin adı.<b>stem</b> metodu ile tüm kelimelerin kökleri bulunur"
   ]
  },
  {
   "cell_type": "code",
   "execution_count": 17,
   "metadata": {},
   "outputs": [
    {
     "data": {
      "text/plain": [
       "['list', 'list', 'list', 'list', 'list']"
      ]
     },
     "execution_count": 17,
     "metadata": {},
     "output_type": "execute_result"
    }
   ],
   "source": [
    "porter = nltk.PorterStemmer()\n",
    "[porter.stem(t) for t in words1] #words1 listesindeki tum kelimelerin koklerini bul"
   ]
  },
  {
   "cell_type": "markdown",
   "metadata": {},
   "source": [
    "<h2 align=\"center\">Lemmatization</h2>"
   ]
  },
  {
   "cell_type": "code",
   "execution_count": 20,
   "metadata": {},
   "outputs": [
    {
     "data": {
      "text/plain": [
       "['Universal',\n",
       " 'Declaration',\n",
       " 'of',\n",
       " 'Human',\n",
       " 'Rights',\n",
       " 'Preamble',\n",
       " 'Whereas',\n",
       " 'recognition',\n",
       " 'of',\n",
       " 'the',\n",
       " 'inherent',\n",
       " 'dignity',\n",
       " 'and',\n",
       " 'of',\n",
       " 'the',\n",
       " 'equal',\n",
       " 'and',\n",
       " 'inalienable',\n",
       " 'rights',\n",
       " 'of']"
      ]
     },
     "execution_count": 20,
     "metadata": {},
     "output_type": "execute_result"
    }
   ],
   "source": [
    "udhr = nltk.corpus.udhr.words('English-Latin1') #corpusa kayıtlı english-latin1 olan kelimeleri udhr degiskenine ata\n",
    "udhr[:20]"
   ]
  },
  {
   "cell_type": "code",
   "execution_count": 21,
   "metadata": {},
   "outputs": [
    {
     "data": {
      "text/plain": [
       "['univers',\n",
       " 'declar',\n",
       " 'of',\n",
       " 'human',\n",
       " 'right',\n",
       " 'preambl',\n",
       " 'wherea',\n",
       " 'recognit',\n",
       " 'of',\n",
       " 'the',\n",
       " 'inher',\n",
       " 'digniti',\n",
       " 'and',\n",
       " 'of',\n",
       " 'the',\n",
       " 'equal',\n",
       " 'and',\n",
       " 'inalien',\n",
       " 'right',\n",
       " 'of']"
      ]
     },
     "execution_count": 21,
     "metadata": {},
     "output_type": "execute_result"
    }
   ],
   "source": [
    "[porter.stem(t) for t in udhr[:20]] #udhr listesindeki ilk 20 kelimenin kökünü bul"
   ]
  },
  {
   "cell_type": "markdown",
   "metadata": {},
   "source": [
    "<h2 align=\"center\">Tokenization</h2>"
   ]
  },
  {
   "cell_type": "markdown",
   "metadata": {},
   "source": [
    "<p>Tokenizasyon, hassas verilerin rastgele ve benzersiz bir değer ile ifade edilmesine denilmektedir. NLP işlemlerinde kullanılma\n",
    "sebebi ise bazı metotların ihtiyacı tam karşılayamamasıdır.</p>\n"
   ]
  },
  {
   "cell_type": "markdown",
   "metadata": {},
   "source": [
    "<i>Örneğin;</i> text11'e atadığımız cümleyi boşluk karakterine göre ayıralım"
   ]
  },
  {
   "cell_type": "code",
   "execution_count": 23,
   "metadata": {},
   "outputs": [
    {
     "data": {
      "text/plain": [
       "['Children', \"shouldn't\", 'drink', 'a', 'sugary', 'drink', 'before', 'bed.']"
      ]
     },
     "execution_count": 23,
     "metadata": {},
     "output_type": "execute_result"
    }
   ],
   "source": [
    "text11 = \"Children shouldn't drink a sugary drink before bed.\" \n",
    "text11.split(' ')"
   ]
  },
  {
   "cell_type": "markdown",
   "metadata": {},
   "source": [
    "Eğer cümleleri bu şekilde ayırıp kök bulma işlemine sokarsak verimli bir sonuç elde edemeyiz. Çünkü <b>shouldn't</b> kelimesi\n",
    "aslında <b>should</b> ve **not** kelimelerinin birleşmesi ile oluşmaktadır. Boşluk karakterine göre ayırdığımızda\n",
    "bu iki ayrı kelimeyi tek kelime olarak algılamaktadır. Bir diğer sorun ise cümle sonundaki noktalama işaretini son kelime ile\n",
    "birleşik tutması. O yüzden cümle içerisindeki bu tür kısaltmaları ayrı ayrı ele almamız gerekmektedir. Bunun için de\n",
    "**word_tokenize** metodunu kullanılır"
   ]
  },
  {
   "cell_type": "code",
   "execution_count": 24,
   "metadata": {},
   "outputs": [
    {
     "data": {
      "text/plain": [
       "['Children',\n",
       " 'should',\n",
       " \"n't\",\n",
       " 'drink',\n",
       " 'a',\n",
       " 'sugary',\n",
       " 'drink',\n",
       " 'before',\n",
       " 'bed',\n",
       " '.']"
      ]
     },
     "execution_count": 24,
     "metadata": {},
     "output_type": "execute_result"
    }
   ],
   "source": [
    "nltk.word_tokenize(text11)"
   ]
  },
  {
   "cell_type": "markdown",
   "metadata": {},
   "source": [
    "<h3><ins>Metinleri Cümlelere Ayırmak</ins></h3>"
   ]
  },
  {
   "cell_type": "markdown",
   "metadata": {},
   "source": [
    "Metinde yer alan cümleleri bir liste halinde tutmak için NLTK Kütüphanesinde yer alan **sent_tokenize** metodu kullanılmaktadır.\n",
    "Bu metodun çalışma mantığına göre metindeki cümleler .'lara göre ayrılmamaktadır. Eğer öyle olsaydı **U.S** kısaltması ve\n",
    "**$2.99** olarak ifade edilmiş para birimi biçim için sorun teşkil ederdi. "
   ]
  },
  {
   "cell_type": "code",
   "execution_count": 25,
   "metadata": {},
   "outputs": [
    {
     "data": {
      "text/plain": [
       "['This is the first sentence.',\n",
       " 'A gallon of milk in the U.S. costs $2.99.',\n",
       " 'Is this the third sentence?',\n",
       " 'Yes, it is!']"
      ]
     },
     "execution_count": 25,
     "metadata": {},
     "output_type": "execute_result"
    }
   ],
   "source": [
    "text12 = \"This is the first sentence. A gallon of milk in the U.S. costs $2.99. Is this the third sentence? Yes, it is!\"\n",
    "sentences = nltk.sent_tokenize(text12) #text12'yi cumlelere ayir\n",
    "sentences                              #cumleleri ekrana bas"
   ]
  },
  {
   "cell_type": "code",
   "execution_count": 27,
   "metadata": {},
   "outputs": [
    {
     "data": {
      "text/plain": [
       "4"
      ]
     },
     "execution_count": 27,
     "metadata": {},
     "output_type": "execute_result"
    }
   ],
   "source": [
    "len(sentences) #sentences degiskeninin uzunlugunu (text12'deki cumle sayisini) ekrana bas"
   ]
  },
  {
   "cell_type": "code",
   "execution_count": null,
   "metadata": {},
   "outputs": [],
   "source": []
  }
 ],
 "metadata": {
  "kernelspec": {
   "display_name": "Python 3",
   "language": "python",
   "name": "python3"
  },
  "language_info": {
   "codemirror_mode": {
    "name": "ipython",
    "version": 3
   },
   "file_extension": ".py",
   "mimetype": "text/x-python",
   "name": "python",
   "nbconvert_exporter": "python",
   "pygments_lexer": "ipython3",
   "version": "3.8.5"
  }
 },
 "nbformat": 4,
 "nbformat_minor": 4
}
