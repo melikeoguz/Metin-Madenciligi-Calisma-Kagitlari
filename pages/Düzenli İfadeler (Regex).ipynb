{
 "cells": [
  {
   "cell_type": "markdown",
   "metadata": {},
   "source": [
    "## Düzenli İfadeler (Regex) "
   ]
  },
  {
   "cell_type": "markdown",
   "metadata": {},
   "source": [
    "Düzenli ifadeleri yani regexi karışık (complex) ifadeleri ayırmak için kullanmaktayız. "
   ]
  },
  {
   "cell_type": "markdown",
   "metadata": {},
   "source": [
    "<b>Örneğin;</b>"
   ]
  },
  {
   "cell_type": "markdown",
   "metadata": {},
   "source": [
    "  **'@[A-Za-z0-9_]+'** bu ifadeyi incelersek:\n",
    "\n",
    "     * @ ile başlayan ve devamında\n",
    "     * Buyuk harfle baslayan\n",
    "     * Kucuk harfle devam eden\n",
    "     * Icinde rakam bulunduran ya da _ karakteri bulunduran ifadeyi cümlede bul demektir.\n",
    "\n",
    " "
   ]
  },
  {
   "cell_type": "markdown",
   "metadata": {},
   "source": [
    ">  Pythondaki hazır kütüphanelerden **\"re kütüphanesini\"** projemize import etmemiz gerekmektedir ❗️"
   ]
  },
  {
   "cell_type": "code",
   "execution_count": null,
   "metadata": {},
   "outputs": [],
   "source": [
    "import re # regex islemi yapilacaksa mutlaka re kutuphanesinin import edilmesi gerekmektedir\n",
    "text10 = '@OR_Avukat haklarımızı savunabilmemiz için hangi mecralara başvurmamız gerekmektedir?'\n",
    "[w for w in text10 if re.search('@[A-Za-z0-9_]+', w)]\n"
   ]
  },
  {
   "cell_type": "markdown",
   "metadata": {},
   "source": [
    "<li><b>Meta Karakterler</b></li>"
   ]
  },
  {
   "cell_type": "markdown",
   "metadata": {},
   "source": [
    "<li><b>.  :</b> Tek bir karakterle eşleşir</li>\n",
    "<li><b>^ :</b> Bir stringin başlangıcı</li>\n",
    "<li><b>$ :</b> Bir stringin sonu</li>\n",
    "<li><b>[] :</b> İçindeki karakter kümesi ile eşleşir</li>\n",
    "<li><b>[a-z] :</b> a'dan... z'ye kadar bir karakterle eşleşir</li>\n",
    "<li><b>[^abc] :</b> abc olan karakter kümesi haricindekilerle eşleşir</li>\n",
    "<li><b>a|b :</b> a veya b karakteriyle eşleşir</li>\n",
    "<li><b>() :</b> Operatörler için kapsam alanı</li>\n"
   ]
  },
  {
   "cell_type": "markdown",
   "metadata": {},
   "source": [
    "<li><b>\\b  :</b> Tek bir karakterle eşleşir</li>\n",
    "<li><b>\\d :</b> Rakamlarla eşleşir</li>\n",
    "<li><b>\\D :</b> Rakam olmayan değerlerle eşleşir</li>\n",
    "<li><b>\\s :</b> [\\ t \\ n \\ r \\ f \\ v] bunlardan biriyle eşleşir</li>\n",
    "<li><b>\\S :</b> Whitespace olarak adlandırmayan karakterle eşleşir</li>\n",
    "<li><b>\\w :</b> Hem rakam hem harf bulunduranlarla (alphanumeric) eşleşir</li>\n",
    "<li><b>\\W :</b> Alphanumeric olarak geçmeyen ifadelerle eşleşir</li>\n"
   ]
  },
  {
   "cell_type": "markdown",
   "metadata": {},
   "source": [
    "<li><b>Tekrarlı İfadeler</b></li>"
   ]
  },
  {
   "cell_type": "markdown",
   "metadata": {},
   "source": [
    "<li><b>* :</b> Hiç ya da çok fazla eşleşme</li>\n",
    "<li><b>+ :</b> Bir ya da çok fazla eşleşme</li>\n",
    "<li><b>? :</b> Hiç ya da çok fazla eşleşme</li>\n",
    "<li><b>{n} :</b> n kez tekrar</li>\n",
    "<li><b>{n,} :</b> En az n tekrar</li>\n",
    "<li><b>{,n} :</b> En fazla n tekrar<li>\n",
    "<li><b>{m,n} :</b> En az m, en fazla n tekrar<li>\n"
   ]
  },
  {
   "cell_type": "markdown",
   "metadata": {},
   "source": [
    "### Tarihlerin Yazılış Biçimleri Üzerinden Regex"
   ]
  },
  {
   "cell_type": "markdown",
   "metadata": {},
   "source": [
    "Bildiğiniz üzere tarihleri ifade ediş biçimimiz oldukça çeşitlidir. İngilizce'de ayların yazılışları kısaltılarak da yazılmaktadır. Örneğin 23 October 2020 tarihi, <b>23 Oct 2020</b> şeklinde de yazılabilir. Türkçe'de ise böyle bir kısaltma kullanılmaz. Genellikle görebileceğimiz tarih yazılışları aşağıdaki gibidir:"
   ]
  },
  {
   "cell_type": "markdown",
   "metadata": {},
   "source": [
    "    \n",
    "23-10-2020\n",
    "23.10.2020\n",
    "23/10/2020\n",
    "23/10/02\n",
    "23 Ekim 2020\n",
    "Ekim 23, 2020\n"
   ]
  },
  {
   "cell_type": "code",
   "execution_count": 17,
   "metadata": {
    "scrolled": true
   },
   "outputs": [
    {
     "data": {
      "text/plain": [
       "['23.10.2020', '23-10-2020', '23/10/2020']"
      ]
     },
     "execution_count": 17,
     "metadata": {},
     "output_type": "execute_result"
    }
   ],
   "source": [
    "Tarihler='23.10.2020\\n23-10-2020\\n23/10/2020\\n23/10/02\\n23 Ekim 2020\\nEkim 23, 2020\\n'\n",
    "re.findall(r'\\d{2}[./-]\\d{2}[./-]\\d{4}',Tarihler) #23-10-2020 23.10.2020  23/10/2020 tarihlerini alacaktır"
   ]
  },
  {
   "cell_type": "markdown",
   "metadata": {},
   "source": [
    "⛔️ <b> Önemli Not:</b> Eğer <b>. </b> ile ayrılan tarihleri de metin içerisinden almak istiyorsanız <b>[/-.]</b> şeklinde bir alım yapmayın. \n",
    "    Çünkü sistem tarafından hata alıyorsunuz."
   ]
  },
  {
   "cell_type": "markdown",
   "metadata": {},
   "source": [
    "![](hata.jpg)"
   ]
  },
  {
   "cell_type": "code",
   "execution_count": 19,
   "metadata": {},
   "outputs": [
    {
     "data": {
      "text/plain": [
       "['23.10.2020', '23-10-2020', '23/10/2020', '23/10/02']"
      ]
     },
     "execution_count": 19,
     "metadata": {},
     "output_type": "execute_result"
    }
   ],
   "source": [
    "re.findall(r'\\d{2}[./-]\\d{2}[./-]\\d{2,4}',Tarihler) # Tarihlerin son bölümündeki 2 ya da 4 adet rakam bulunduran tarihleri al"
   ]
  },
  {
   "cell_type": "markdown",
   "metadata": {},
   "source": [
    "<li><b>Ayların Kelime Olarak Yer Aldığı Tarihleri Cümle İçerisinden Alma</b></li>"
   ]
  },
  {
   "cell_type": "code",
   "execution_count": 28,
   "metadata": {},
   "outputs": [
    {
     "data": {
      "text/plain": [
       "['Ekim']"
      ]
     },
     "execution_count": 28,
     "metadata": {},
     "output_type": "execute_result"
    }
   ],
   "source": [
    "re.findall(r'\\d{2} (Ocak|Şubat|Mart|Nisan|Mayıs|Haziran|Temmuz|Ağustos|Eylül|Ekim|Kasım|Aralık) \\d{4}',Tarihler)"
   ]
  },
  {
   "cell_type": "markdown",
   "metadata": {},
   "source": [
    "Eğer bu şekilde sorgularsak yukarıdaki gibi sadece ay kısmını döndürür. Tüm tarihi almak için aşağıdaki işlemi yapmalısınız "
   ]
  },
  {
   "cell_type": "code",
   "execution_count": 29,
   "metadata": {},
   "outputs": [
    {
     "data": {
      "text/plain": [
       "['23 Ekim 2020']"
      ]
     },
     "execution_count": 29,
     "metadata": {},
     "output_type": "execute_result"
    }
   ],
   "source": [
    "re.findall(r'\\d{2} (?:Ocak|Şubat|Mart|Nisan|Mayıs|Haziran|Temmuz|Ağustos|Eylül|Ekim|Kasım|Aralık) \\d{4}',Tarihler)"
   ]
  },
  {
   "cell_type": "code",
   "execution_count": 32,
   "metadata": {},
   "outputs": [
    {
     "data": {
      "text/plain": [
       "['Ekim 23, 2020']"
      ]
     },
     "execution_count": 32,
     "metadata": {},
     "output_type": "execute_result"
    }
   ],
   "source": [
    "re.findall(r'(?:Ocak|Şubat|Mart|Nisan|Mayıs|Haziran|Temmuz|Ağustos|Eylül|Ekim|Kasım|Aralık) \\d{2}[,] \\d{4}',Tarihler)"
   ]
  },
  {
   "cell_type": "markdown",
   "metadata": {},
   "source": [
    "### Pandas Kullanarak Metin İşlemleri"
   ]
  },
  {
   "cell_type": "markdown",
   "metadata": {},
   "source": [
    "<p>Python'ın bir kütüphanesi olan <b>Pandas'ı</b> kullanabilmemiz için öncelikle terminal üzerinden <b>pip</b> ile pandası kurmamız gerekmektedir. Komut satırını açıp aşağıdaki komutu yazarsanız bilgisayarınıza pandası kurup daha sonra işlemlere devam edebilirsiniz.</p>"
   ]
  },
  {
   "cell_type": "markdown",
   "metadata": {},
   "source": [
    "<code>pip install pandas</code>"
   ]
  },
  {
   "cell_type": "markdown",
   "metadata": {},
   "source": [
    "![](install-pandas-with-pip.jpg)"
   ]
  },
  {
   "cell_type": "code",
   "execution_count": 33,
   "metadata": {},
   "outputs": [
    {
     "data": {
      "text/html": [
       "<div>\n",
       "<style scoped>\n",
       "    .dataframe tbody tr th:only-of-type {\n",
       "        vertical-align: middle;\n",
       "    }\n",
       "\n",
       "    .dataframe tbody tr th {\n",
       "        vertical-align: top;\n",
       "    }\n",
       "\n",
       "    .dataframe thead th {\n",
       "        text-align: right;\n",
       "    }\n",
       "</style>\n",
       "<table border=\"1\" class=\"dataframe\">\n",
       "  <thead>\n",
       "    <tr style=\"text-align: right;\">\n",
       "      <th></th>\n",
       "      <th>text</th>\n",
       "    </tr>\n",
       "  </thead>\n",
       "  <tbody>\n",
       "    <tr>\n",
       "      <th>0</th>\n",
       "      <td>Pazartesi: Doktor randevusu 2:45.</td>\n",
       "    </tr>\n",
       "    <tr>\n",
       "      <th>1</th>\n",
       "      <td>Salı: Dişçi randevusu saat 11:30'da.</td>\n",
       "    </tr>\n",
       "    <tr>\n",
       "      <th>2</th>\n",
       "      <td>Çarşamba: Saat 19:00, Basketbol Maçı!</td>\n",
       "    </tr>\n",
       "    <tr>\n",
       "      <th>3</th>\n",
       "      <td>Perşembe: En geç 23:15'te evde olun</td>\n",
       "    </tr>\n",
       "    <tr>\n",
       "      <th>4</th>\n",
       "      <td>Cuma: Tren 08:10'da kalkacaktır.</td>\n",
       "    </tr>\n",
       "  </tbody>\n",
       "</table>\n",
       "</div>"
      ],
      "text/plain": [
       "                                    text\n",
       "0      Pazartesi: Doktor randevusu 2:45.\n",
       "1   Salı: Dişçi randevusu saat 11:30'da.\n",
       "2  Çarşamba: Saat 19:00, Basketbol Maçı!\n",
       "3    Perşembe: En geç 23:15'te evde olun\n",
       "4       Cuma: Tren 08:10'da kalkacaktır."
      ]
     },
     "execution_count": 33,
     "metadata": {},
     "output_type": "execute_result"
    }
   ],
   "source": [
    "import pandas as pd #pandas'ı öncelikle projemize import ediyoruz\n",
    "\n",
    "zaman_cumleleri = [\"Pazartesi: Doktor randevusu 2:45.\", \n",
    "                  \"Salı: Dişçi randevusu saat 11:30'da.\",\n",
    "                  \"Çarşamba: Saat 19:00, Basketbol Maçı!\",\n",
    "                  \"Perşembe: En geç 23:15'te evde olun\",\n",
    "                  \"Cuma: Tren 08:10'da kalkacaktır.\"]\n",
    "\n",
    "df = pd.DataFrame(zaman_cumleleri, columns=['text'])\n",
    "df"
   ]
  },
  {
   "cell_type": "markdown",
   "metadata": {},
   "source": [
    "<li><b>Her Cümlenin Kaç Karakterden Oluştuğunu Bulma</b></li>"
   ]
  },
  {
   "cell_type": "code",
   "execution_count": 34,
   "metadata": {},
   "outputs": [
    {
     "data": {
      "text/plain": [
       "0    33\n",
       "1    36\n",
       "2    37\n",
       "3    35\n",
       "4    32\n",
       "Name: text, dtype: int64"
      ]
     },
     "execution_count": 34,
     "metadata": {},
     "output_type": "execute_result"
    }
   ],
   "source": [
    "df['text'].str.len()"
   ]
  },
  {
   "cell_type": "markdown",
   "metadata": {},
   "source": [
    "<li><b>Her Cümlenin Kaç Kelimeden Oluştuğunu Bulma</b></li>"
   ]
  },
  {
   "cell_type": "code",
   "execution_count": 35,
   "metadata": {},
   "outputs": [
    {
     "data": {
      "text/plain": [
       "0    4\n",
       "1    5\n",
       "2    5\n",
       "3    6\n",
       "4    4\n",
       "Name: text, dtype: int64"
      ]
     },
     "execution_count": 35,
     "metadata": {},
     "output_type": "execute_result"
    }
   ],
   "source": [
    "df['text'].str.split().str.len()"
   ]
  },
  {
   "cell_type": "markdown",
   "metadata": {},
   "source": [
    "<li><b>Cümlelerin İçerisinde Kelime Arama</b></li>"
   ]
  },
  {
   "cell_type": "code",
   "execution_count": 36,
   "metadata": {},
   "outputs": [
    {
     "data": {
      "text/plain": [
       "0     True\n",
       "1     True\n",
       "2    False\n",
       "3    False\n",
       "4    False\n",
       "Name: text, dtype: bool"
      ]
     },
     "execution_count": 36,
     "metadata": {},
     "output_type": "execute_result"
    }
   ],
   "source": [
    "df['text'].str.contains('randevusu') #bu fonksiyonun çalışma mantığına göre, aradığımız kelimenin geçtiği cümleler true döner"
   ]
  },
  {
   "cell_type": "markdown",
   "metadata": {},
   "source": [
    "<li><b>Cümlelerin İçerisindeki Rakam Adedini Bulma</b></li>"
   ]
  },
  {
   "cell_type": "code",
   "execution_count": 37,
   "metadata": {},
   "outputs": [
    {
     "data": {
      "text/plain": [
       "0    3\n",
       "1    4\n",
       "2    4\n",
       "3    4\n",
       "4    4\n",
       "Name: text, dtype: int64"
      ]
     },
     "execution_count": 37,
     "metadata": {},
     "output_type": "execute_result"
    }
   ],
   "source": [
    "df['text'].str.count(r'\\d') #burada '\\d' digit'i yani rakamları ifade eder"
   ]
  },
  {
   "cell_type": "markdown",
   "metadata": {},
   "source": [
    "<li><b>Cümlelerin İçindeki Rakamları Görüntüleme</b></li>"
   ]
  },
  {
   "cell_type": "code",
   "execution_count": 38,
   "metadata": {},
   "outputs": [
    {
     "data": {
      "text/plain": [
       "0       [2, 4, 5]\n",
       "1    [1, 1, 3, 0]\n",
       "2    [1, 9, 0, 0]\n",
       "3    [2, 3, 1, 5]\n",
       "4    [0, 8, 1, 0]\n",
       "Name: text, dtype: object"
      ]
     },
     "execution_count": 38,
     "metadata": {},
     "output_type": "execute_result"
    }
   ],
   "source": [
    "df['text'].str.findall(r'\\d') #bu fonksiyon cümlelerdeki tüm rakamları ekrana basar"
   ]
  },
  {
   "cell_type": "markdown",
   "metadata": {},
   "source": [
    "<li><b>Saat Formatlarını Gruplandırarak Göstermek</b></li>"
   ]
  },
  {
   "cell_type": "code",
   "execution_count": 39,
   "metadata": {},
   "outputs": [
    {
     "data": {
      "text/plain": [
       "0     [(2, 45)]\n",
       "1    [(11, 30)]\n",
       "2    [(19, 00)]\n",
       "3    [(23, 15)]\n",
       "4    [(08, 10)]\n",
       "Name: text, dtype: object"
      ]
     },
     "execution_count": 39,
     "metadata": {},
     "output_type": "execute_result"
    }
   ],
   "source": [
    "df['text'].str.findall(r'(\\d?\\d):(\\d\\d)') #Burada (\\d?\\d) kullanılmasının sebebi 2:45 değerini de 14:45 değerini de almak"
   ]
  },
  {
   "cell_type": "code",
   "execution_count": 40,
   "metadata": {},
   "outputs": [
    {
     "data": {
      "text/plain": [
       "0        Pazartesi: Doktor randevusu 2:45.\n",
       "1     Salı: Dişçi randevusu saat 11:30'da.\n",
       "2    Çarşamba: Saat 19:00, Basketbol Maçı!\n",
       "3      Perşembe: En geç 23:15'te evde olun\n",
       "4         Cuma: Tren 08:10'da kalkacaktır.\n",
       "Name: text, dtype: object"
      ]
     },
     "execution_count": 40,
     "metadata": {},
     "output_type": "execute_result"
    }
   ],
   "source": [
    "df['text'].str.replace(r'\\w+day\\b', '???')"
   ]
  },
  {
   "cell_type": "markdown",
   "metadata": {},
   "source": [
    "<li><b>Cümlelerdeki Saatleri Sütun Olarak Gruplandırmak</b></li>"
   ]
  },
  {
   "cell_type": "code",
   "execution_count": 41,
   "metadata": {},
   "outputs": [
    {
     "data": {
      "text/html": [
       "<div>\n",
       "<style scoped>\n",
       "    .dataframe tbody tr th:only-of-type {\n",
       "        vertical-align: middle;\n",
       "    }\n",
       "\n",
       "    .dataframe tbody tr th {\n",
       "        vertical-align: top;\n",
       "    }\n",
       "\n",
       "    .dataframe thead th {\n",
       "        text-align: right;\n",
       "    }\n",
       "</style>\n",
       "<table border=\"1\" class=\"dataframe\">\n",
       "  <thead>\n",
       "    <tr style=\"text-align: right;\">\n",
       "      <th></th>\n",
       "      <th>0</th>\n",
       "      <th>1</th>\n",
       "    </tr>\n",
       "  </thead>\n",
       "  <tbody>\n",
       "    <tr>\n",
       "      <th>0</th>\n",
       "      <td>2</td>\n",
       "      <td>45</td>\n",
       "    </tr>\n",
       "    <tr>\n",
       "      <th>1</th>\n",
       "      <td>11</td>\n",
       "      <td>30</td>\n",
       "    </tr>\n",
       "    <tr>\n",
       "      <th>2</th>\n",
       "      <td>19</td>\n",
       "      <td>00</td>\n",
       "    </tr>\n",
       "    <tr>\n",
       "      <th>3</th>\n",
       "      <td>23</td>\n",
       "      <td>15</td>\n",
       "    </tr>\n",
       "    <tr>\n",
       "      <th>4</th>\n",
       "      <td>08</td>\n",
       "      <td>10</td>\n",
       "    </tr>\n",
       "  </tbody>\n",
       "</table>\n",
       "</div>"
      ],
      "text/plain": [
       "    0   1\n",
       "0   2  45\n",
       "1  11  30\n",
       "2  19  00\n",
       "3  23  15\n",
       "4  08  10"
      ]
     },
     "execution_count": 41,
     "metadata": {},
     "output_type": "execute_result"
    }
   ],
   "source": [
    "df['text'].str.extract(r'(\\d?\\d):(\\d\\d)')"
   ]
  },
  {
   "cell_type": "code",
   "execution_count": null,
   "metadata": {},
   "outputs": [],
   "source": []
  }
 ],
 "metadata": {
  "kernelspec": {
   "display_name": "Python 3",
   "language": "python",
   "name": "python3"
  },
  "language_info": {
   "codemirror_mode": {
    "name": "ipython",
    "version": 3
   },
   "file_extension": ".py",
   "mimetype": "text/x-python",
   "name": "python",
   "nbconvert_exporter": "python",
   "pygments_lexer": "ipython3",
   "version": "3.8.5"
  }
 },
 "nbformat": 4,
 "nbformat_minor": 4
}
