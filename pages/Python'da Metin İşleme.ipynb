{
 "cells": [
  {
   "cell_type": "markdown",
   "metadata": {},
   "source": [
    "##  Python ile Text Üzerinde Çalışmalar (27.08.2020) \n",
    "\n"
   ]
  },
  {
   "cell_type": "markdown",
   "metadata": {},
   "source": [
    "<li><b> Bir Cümlenin Karakter Sayısını Bulma </b></li>\n",
    "\n"
   ]
  },
  {
   "cell_type": "code",
   "execution_count": 5,
   "metadata": {},
   "outputs": [
    {
     "data": {
      "text/plain": [
       "148"
      ]
     },
     "execution_count": 5,
     "metadata": {},
     "output_type": "execute_result"
    }
   ],
   "source": [
    "text1 = \"Türkiye’de kadınlar, çıkarılan kanunlarla 1930 yılında yerel seçimler, 1934 yılında ise genel seçimlerde seçme ve seçilme hakkına sahip olmuşlardır.\" \n",
    "len(text1) # text1 olarak adlandirdigimiz degiskenin uzunlugu (karakter sayisi)"
   ]
  },
  {
   "cell_type": "markdown",
   "metadata": {},
   "source": [
    "<li><b>Bir Cümleyi Boşluklara Göre Ayırmak</b></li>"
   ]
  },
  {
   "cell_type": "code",
   "execution_count": 6,
   "metadata": {},
   "outputs": [],
   "source": [
    "text2 = text1.split(' ') # text1'i bosluklara gore ayir ve text2'ye at."
   ]
  },
  {
   "cell_type": "code",
   "execution_count": 7,
   "metadata": {},
   "outputs": [
    {
     "data": {
      "text/plain": [
       "['Türkiye’de',\n",
       " 'kadınlar,',\n",
       " 'çıkarılan',\n",
       " 'kanunlarla',\n",
       " '1930',\n",
       " 'yılında',\n",
       " 'yerel',\n",
       " 'seçimler,',\n",
       " '1934',\n",
       " 'yılında',\n",
       " 'ise',\n",
       " 'genel',\n",
       " 'seçimlerde',\n",
       " 'seçme',\n",
       " 've',\n",
       " 'seçilme',\n",
       " 'hakkına',\n",
       " 'sahip',\n",
       " 'olmuşlardır.']"
      ]
     },
     "execution_count": 7,
     "metadata": {},
     "output_type": "execute_result"
    }
   ],
   "source": [
    "text2 #text2'yi goruntule"
   ]
  },
  {
   "cell_type": "code",
   "execution_count": 8,
   "metadata": {},
   "outputs": [
    {
     "data": {
      "text/plain": [
       "19"
      ]
     },
     "execution_count": 8,
     "metadata": {},
     "output_type": "execute_result"
    }
   ],
   "source": [
    "len(text2) #text2 19 adet kelimeden olusmaktadir"
   ]
  },
  {
   "cell_type": "markdown",
   "metadata": {},
   "source": [
    "<li><b>n Adet Karakterden Daha Uzun Karakter Sayısını Bulma</b></li>"
   ]
  },
  {
   "cell_type": "code",
   "execution_count": 9,
   "metadata": {},
   "outputs": [
    {
     "data": {
      "text/plain": [
       "['Türkiye’de',\n",
       " 'kadınlar,',\n",
       " 'çıkarılan',\n",
       " 'kanunlarla',\n",
       " 'seçimler,',\n",
       " 'seçimlerde',\n",
       " 'olmuşlardır.']"
      ]
     },
     "execution_count": 9,
     "metadata": {},
     "output_type": "execute_result"
    }
   ],
   "source": [
    "[w for w in text2 if len(w) > 8] # 8 karakterden daha uzun karakter iceren kelimeler"
   ]
  },
  {
   "cell_type": "markdown",
   "metadata": {},
   "source": [
    "<li><b>Cümledeki Başlıkları (İlk Harfi Büyük Olan Kelimeleri) Bulma</b></li>"
   ]
  },
  {
   "cell_type": "code",
   "execution_count": 10,
   "metadata": {},
   "outputs": [
    {
     "data": {
      "text/plain": [
       "[]"
      ]
     },
     "execution_count": 10,
     "metadata": {},
     "output_type": "execute_result"
    }
   ],
   "source": [
    "[w for w in text2 if w.istitle()] # Text2'deki ilk harfi buyuk olan kelimeleri bulma"
   ]
  },
  {
   "cell_type": "markdown",
   "metadata": {},
   "source": [
    "<li><b>Son Harfi x Karakteri ile Biten Kelimeleri Bulma</b></li>"
   ]
  },
  {
   "cell_type": "code",
   "execution_count": 11,
   "metadata": {},
   "outputs": [
    {
     "data": {
      "text/plain": [
       "['Türkiye’de', 'ise', 'seçimlerde', 'seçme', 've', 'seçilme']"
      ]
     },
     "execution_count": 11,
     "metadata": {},
     "output_type": "execute_result"
    }
   ],
   "source": [
    "[w for w in text2 if w.endswith('e')] # Sonu 'e' ile biten kelimeleri bulma"
   ]
  },
  {
   "cell_type": "markdown",
   "metadata": {},
   "source": [
    "<li><b>Cümle İçindeki Benzersiz Kelimeleri Bulma</b></li>"
   ]
  },
  {
   "cell_type": "code",
   "execution_count": 12,
   "metadata": {},
   "outputs": [
    {
     "data": {
      "text/plain": [
       "{'1930',\n",
       " '1934',\n",
       " 'Türkiye’de',\n",
       " 'genel',\n",
       " 'hakkına',\n",
       " 'ise',\n",
       " 'kadınlar,',\n",
       " 'kanunlarla',\n",
       " 'olmuşlardır.',\n",
       " 'sahip',\n",
       " 'seçilme',\n",
       " 'seçimler,',\n",
       " 'seçimlerde',\n",
       " 'seçme',\n",
       " 've',\n",
       " 'yerel',\n",
       " 'yılında',\n",
       " 'çıkarılan'}"
      ]
     },
     "execution_count": 12,
     "metadata": {},
     "output_type": "execute_result"
    }
   ],
   "source": [
    "set(text2) #text2'de bulunan ve cumlede 1 kere kullanilan kelimeleri bulma"
   ]
  },
  {
   "cell_type": "markdown",
   "metadata": {},
   "source": [
    "<li><b>Cümle İçindeki Tüm Kelimeleri Küçük Harfe Çevirme</b></li>"
   ]
  },
  {
   "cell_type": "code",
   "execution_count": 13,
   "metadata": {},
   "outputs": [
    {
     "data": {
      "text/plain": [
       "{'1-',\n",
       " 'amaçlanmaktadır.',\n",
       " 'artırılması',\n",
       " 'ile',\n",
       " 'kadınların',\n",
       " 'katılımının',\n",
       " 'madde',\n",
       " 'parti',\n",
       " 'siyasi',\n",
       " 'teşkilatına'}"
      ]
     },
     "execution_count": 13,
     "metadata": {},
     "output_type": "execute_result"
    }
   ],
   "source": [
    "text3 = 'MADDE 1- Madde ile kadınların siyasi parti teşkilatına katılımının artırılması amaçlanmaktadır.'\n",
    "text4 = text3.split(' ')\n",
    "set([w.lower() for w in text4]) #tum cumleyi kucuk harflere cevir ve unique olan kelimeleri ekrana yazdir"
   ]
  },
  {
   "cell_type": "markdown",
   "metadata": {},
   "source": [
    "<li><b>Cümleyi Herhangi Bir Karaktere Göre Ayırmak</b></li>"
   ]
  },
  {
   "cell_type": "code",
   "execution_count": 14,
   "metadata": {},
   "outputs": [],
   "source": [
    "text5 = '2820 sayılı Kanunun 37\\'nci maddesinin birinci fıkrası ile ikinci fıkrasının, birinci cümlesi aşağıdaki şekilde değiştirilmiştir.'\n",
    "text6 = text5.split(',') #, karakterine gore ayirma"
   ]
  },
  {
   "cell_type": "code",
   "execution_count": 15,
   "metadata": {},
   "outputs": [
    {
     "data": {
      "text/plain": [
       "[\"2820 sayılı Kanunun 37'nci maddesinin birinci fıkrası ile ikinci fıkrasının\",\n",
       " ' birinci cümlesi aşağıdaki şekilde değiştirilmiştir.']"
      ]
     },
     "execution_count": 15,
     "metadata": {},
     "output_type": "execute_result"
    }
   ],
   "source": [
    "text6"
   ]
  },
  {
   "cell_type": "markdown",
   "metadata": {},
   "source": [
    "### Kelime Karşılaştırma Fonksiyonları\n",
    "s, örnek cümlemizi tuttuğumuz değişkenin adıdır."
   ]
  },
  {
   "cell_type": "markdown",
   "metadata": {},
   "source": [
    "<li>s.startswith(t) —–> t harfi ile başlayan</li>\n",
    "<li>s.endswith(t) —–> t harfi ile biten</li>\n",
    "<li>t in s —–> içinde t harfi bulunup bulunmadığı kontrolü</li>\n",
    "<li>s.isupper() —–> büyük harf kontrolü</li>\n",
    "<li>s.islower() —–> küçük harf kontrolü</li>\n",
    "<li>s.istitle() —–> başlık kontrolü</li>\n",
    "<li>s.isalpha() —–> alfabetik harf kontrolü</li>\n",
    "<li>s.isdigit() —–> rakam kontrolü</li>\n",
    "<li>s.isalnum() —–> rakam ve harf kontrolü</li>"
   ]
  },
  {
   "cell_type": "markdown",
   "metadata": {},
   "source": [
    "### String İşlemleri"
   ]
  },
  {
   "cell_type": "markdown",
   "metadata": {},
   "source": [
    "<li>s.splitlines()—–> \\n karakterine göre cümleyi ayırır </li>\n",
    "<li>s.join(t)—–>  </li> cümleye ek yapma fonksiyonu\n",
    "<li>s.strip—–> \\n karakterine göre cümleyi ayırır </li>\n",
    "<li>s.rstrip()—–>  </li>\n",
    "<li>s.find(t)—–> t  gördüğü ilk indisi verir </li>\n",
    "<li>s.rfind(t)—–>  </li> t gördüğü son indisi verir\n",
    "<li>s.replace(u,v)</li> u gördüğü yeri v yapar\n"
   ]
  },
  {
   "cell_type": "code",
   "execution_count": 16,
   "metadata": {},
   "outputs": [],
   "source": [
    "text7='TRAFİK KAZASI NEDENİYLE MADDİ VE MANEVİ TAZMİNAT İSTEMİ'"
   ]
  },
  {
   "cell_type": "code",
   "execution_count": 17,
   "metadata": {},
   "outputs": [],
   "source": [
    "text8=text7.split('Dİ') #cümleyi -di ekine göre ayırır"
   ]
  },
  {
   "cell_type": "code",
   "execution_count": 18,
   "metadata": {},
   "outputs": [
    {
     "data": {
      "text/plain": [
       "['TRAFİK KAZASI NEDENİYLE MAD', ' VE MANEVİ TAZMİNAT İSTEMİ']"
      ]
     },
     "execution_count": 18,
     "metadata": {},
     "output_type": "execute_result"
    }
   ],
   "source": [
    "text8"
   ]
  },
  {
   "cell_type": "code",
   "execution_count": 19,
   "metadata": {},
   "outputs": [
    {
     "data": {
      "text/plain": [
       "'TRAFİK KAZASI NEDENİYLE MADDİ VE MANEVİ TAZMİNAT İSTEMİ'"
      ]
     },
     "execution_count": 19,
     "metadata": {},
     "output_type": "execute_result"
    }
   ],
   "source": [
    "'Dİ'.join(text8) #cümle içerisine ekleme yapar"
   ]
  },
  {
   "cell_type": "markdown",
   "metadata": {},
   "source": [
    "<li><b>Text Düzeltme</b></li>"
   ]
  },
  {
   "cell_type": "code",
   "execution_count": 20,
   "metadata": {},
   "outputs": [
    {
     "data": {
      "text/plain": [
       "'MEB Ortaöğretim Kurumları Yönetmeliğinde Değişiklik'"
      ]
     },
     "execution_count": 20,
     "metadata": {},
     "output_type": "execute_result"
    }
   ],
   "source": [
    "text9='      MEB Ortaöğretim Kurumları Yönetmeliğinde Değişiklik'\n",
    "text9.split(' ')\n",
    "text10=text9.strip() #aradaki fazla boşlukları temizler\n",
    "text10.split(' ')\n",
    "text10"
   ]
  },
  {
   "cell_type": "markdown",
   "metadata": {},
   "source": [
    "<li><b>Karakter Arama</b></li>"
   ]
  },
  {
   "cell_type": "code",
   "execution_count": 21,
   "metadata": {},
   "outputs": [
    {
     "data": {
      "text/plain": [
       "21"
      ]
     },
     "execution_count": 21,
     "metadata": {},
     "output_type": "execute_result"
    }
   ],
   "source": [
    "text11='İŞLETMESEL KARAR GEREĞİ İSTİHDAM FAZLALIĞI OLUŞTUĞU GEREKÇESİYLE İŞ SÖZLEŞMESİNİN FESHİ'\n",
    "text11.find('Ğ')  #cümledeki ilk Ğ harfinin indis değeri"
   ]
  },
  {
   "cell_type": "code",
   "execution_count": 22,
   "metadata": {},
   "outputs": [
    {
     "data": {
      "text/plain": [
       "49"
      ]
     },
     "execution_count": 22,
     "metadata": {},
     "output_type": "execute_result"
    }
   ],
   "source": [
    "text11.rfind('Ğ') #cümledeki son Ğ harfinin indis değeri"
   ]
  },
  {
   "cell_type": "markdown",
   "metadata": {},
   "source": [
    "<li><b>Karakter Değiştirme</b></li>"
   ]
  },
  {
   "cell_type": "code",
   "execution_count": 24,
   "metadata": {},
   "outputs": [
    {
     "data": {
      "text/plain": [
       "'İSLETMESEL KARAR GEREĞİ İSTİHDAM FAZLALIĞI OLUSTUĞU GEREKÇESİYLE İS SÖZLESMESİNİN FESHİ'"
      ]
     },
     "execution_count": 24,
     "metadata": {},
     "output_type": "execute_result"
    }
   ],
   "source": [
    "text12=text11.replace('Ş','S') #cümlede Ş harfi gördüğünde S yap\n",
    "text12"
   ]
  },
  {
   "cell_type": "markdown",
   "metadata": {},
   "source": [
    "### Uzun Text Dosyalarında İşlemler"
   ]
  },
  {
   "cell_type": "markdown",
   "metadata": {},
   "source": [
    "<li><b>Bir Dosyayı Satır Satır Okuma</b></li>"
   ]
  },
  {
   "cell_type": "markdown",
   "metadata": {},
   "source": [
    "![](/images/deneme.jpg)"
   ]
  },
  {
   "cell_type": "markdown",
   "metadata": {},
   "source": [
    "<h6 align=\"center\">deneme.txt formatındaki belgemizin içi</h6>"
   ]
  },
  {
   "cell_type": "code",
   "execution_count": 1,
   "metadata": {},
   "outputs": [
    {
     "data": {
      "text/plain": [
       "<function TextIOWrapper.readline(size=-1, /)>"
      ]
     },
     "execution_count": 1,
     "metadata": {},
     "output_type": "execute_result"
    }
   ],
   "source": [
    "f=open('deneme.txt','r') #TextIOWrapper hatası\n",
    "f.readline"
   ]
  },
  {
   "cell_type": "code",
   "execution_count": 2,
   "metadata": {},
   "outputs": [],
   "source": [
    "with open('deneme.txt') as f:                    #dongu ile satir satir okuma islemi\n",
    "    mylist = [line.rstrip('\\n') for line in f]   #okunan değerleri bir listeye yazma islemi"
   ]
  },
  {
   "cell_type": "code",
   "execution_count": 3,
   "metadata": {},
   "outputs": [
    {
     "data": {
      "text/plain": [
       "['Girişimciliğin önemini bilen ve değişimin anahtarı olduğuna inanan iş insanları ve fikir',\n",
       " 'önderleri tarafından kurulan Girvak, girişimcilik kültürünün yaygınlaşması ve girişimciliğin',\n",
       " 'gençler arasında bir kariyer seçeneği haline gelmesi amacı ile çalışıyor.']"
      ]
     },
     "execution_count": 3,
     "metadata": {},
     "output_type": "execute_result"
    }
   ],
   "source": [
    "mylist #listenin okunması"
   ]
  },
  {
   "cell_type": "code",
   "execution_count": 4,
   "metadata": {},
   "outputs": [
    {
     "name": "stdout",
     "output_type": "stream",
     "text": [
      "Girişimciliğin önemini bilen ve değişimin anahtarı olduğuna inanan iş insanları ve fikir\n",
      "\n",
      "önderleri tarafından kurulan Girvak, girişimcilik kültürünün yaygınlaşması ve girişimciliğin\n",
      "\n",
      "gençler arasında bir kariyer seçeneği haline gelmesi amacı ile çalışıyor.\n"
     ]
    }
   ],
   "source": [
    "f = open('deneme.txt')  #diğer okutma çeşitleri\n",
    "for line in f:\n",
    "    print(line)"
   ]
  },
  {
   "cell_type": "code",
   "execution_count": null,
   "metadata": {},
   "outputs": [],
   "source": []
  }
 ],
 "metadata": {
  "kernelspec": {
   "display_name": "Python 3",
   "language": "python",
   "name": "python3"
  },
  "language_info": {
   "codemirror_mode": {
    "name": "ipython",
    "version": 3
   },
   "file_extension": ".py",
   "mimetype": "text/x-python",
   "name": "python",
   "nbconvert_exporter": "python",
   "pygments_lexer": "ipython3",
   "version": "3.8.5"
  }
 },
 "nbformat": 4,
 "nbformat_minor": 4
}
